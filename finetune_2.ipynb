{
  "cells": [
    {
      "cell_type": "code",
      "execution_count": null,
      "metadata": {
        "colab": {
          "base_uri": "https://localhost:8080/"
        },
        "id": "yShVthUsKCss",
        "outputId": "03b96566-0048-4158-9bc4-5b3f87012b3a"
      },
      "outputs": [
        {
          "output_type": "stream",
          "name": "stdout",
          "text": [
            "Mounted at /content/drive\n"
          ]
        }
      ],
      "source": [
        "from google.colab import drive\n",
        "drive.mount('/content/drive')"
      ]
    },
    {
      "cell_type": "code",
      "execution_count": null,
      "metadata": {
        "id": "rkUMxWg5LryO"
      },
      "outputs": [],
      "source": [
        "import tensorflow as tf\n",
        "from tensorflow.keras.models import load_model\n",
        "from tensorflow.keras.layers import Dense\n",
        "from tensorflow.keras.optimizers import Adam\n",
        "from tensorflow.keras.losses import MeanSquaredError\n",
        "from tensorflow.keras.callbacks import EarlyStopping"
      ]
    },
    {
      "cell_type": "code",
      "execution_count": null,
      "metadata": {
        "id": "lhUi8DzJLy24"
      },
      "outputs": [],
      "source": [
        "model = load_model('/content/drive/MyDrive/models/model2_augmented_datacleared.keras')"
      ]
    },
    {
      "cell_type": "code",
      "execution_count": null,
      "metadata": {
        "colab": {
          "base_uri": "https://localhost:8080/",
          "height": 305
        },
        "id": "GOB7ED0fZQN6",
        "outputId": "3c8cb9e5-03bf-47f9-d43d-9004229e7fc8"
      },
      "outputs": [
        {
          "data": {
            "text/html": [
              "<pre style=\"white-space:pre;overflow-x:auto;line-height:normal;font-family:Menlo,'DejaVu Sans Mono',consolas,'Courier New',monospace\"><span style=\"font-weight: bold\">Model: \"functional_3\"</span>\n",
              "</pre>\n"
            ],
            "text/plain": [
              "\u001b[1mModel: \"functional_3\"\u001b[0m\n"
            ]
          },
          "metadata": {},
          "output_type": "display_data"
        },
        {
          "data": {
            "text/html": [
              "<pre style=\"white-space:pre;overflow-x:auto;line-height:normal;font-family:Menlo,'DejaVu Sans Mono',consolas,'Courier New',monospace\">┏━━━━━━━━━━━━━━━━━━━━━━━━━━━━━━━━━━━━━━┳━━━━━━━━━━━━━━━━━━━━━━━━━━━━━┳━━━━━━━━━━━━━━━━━┓\n",
              "┃<span style=\"font-weight: bold\"> Layer (type)                         </span>┃<span style=\"font-weight: bold\"> Output Shape                </span>┃<span style=\"font-weight: bold\">         Param # </span>┃\n",
              "┡━━━━━━━━━━━━━━━━━━━━━━━━━━━━━━━━━━━━━━╇━━━━━━━━━━━━━━━━━━━━━━━━━━━━━╇━━━━━━━━━━━━━━━━━┩\n",
              "│ input_layer_3 (<span style=\"color: #0087ff; text-decoration-color: #0087ff\">InputLayer</span>)           │ (<span style=\"color: #00d7ff; text-decoration-color: #00d7ff\">None</span>, <span style=\"color: #00af00; text-decoration-color: #00af00\">72</span>, <span style=\"color: #00af00; text-decoration-color: #00af00\">33</span>, <span style=\"color: #00af00; text-decoration-color: #00af00\">33</span>, <span style=\"color: #00af00; text-decoration-color: #00af00\">4</span>)       │               <span style=\"color: #00af00; text-decoration-color: #00af00\">0</span> │\n",
              "├──────────────────────────────────────┼─────────────────────────────┼─────────────────┤\n",
              "│ time_distributed_1 (<span style=\"color: #0087ff; text-decoration-color: #0087ff\">TimeDistributed</span>) │ (<span style=\"color: #00d7ff; text-decoration-color: #00d7ff\">None</span>, <span style=\"color: #00af00; text-decoration-color: #00af00\">72</span>, <span style=\"color: #00af00; text-decoration-color: #00af00\">128</span>)             │       <span style=\"color: #00af00; text-decoration-color: #00af00\">1,142,624</span> │\n",
              "├──────────────────────────────────────┼─────────────────────────────┼─────────────────┤\n",
              "│ dense_3 (<span style=\"color: #0087ff; text-decoration-color: #0087ff\">Dense</span>)                      │ (<span style=\"color: #00d7ff; text-decoration-color: #00d7ff\">None</span>, <span style=\"color: #00af00; text-decoration-color: #00af00\">72</span>, <span style=\"color: #00af00; text-decoration-color: #00af00\">64</span>)              │           <span style=\"color: #00af00; text-decoration-color: #00af00\">8,256</span> │\n",
              "├──────────────────────────────────────┼─────────────────────────────┼─────────────────┤\n",
              "│ dropout_1 (<span style=\"color: #0087ff; text-decoration-color: #0087ff\">Dropout</span>)                  │ (<span style=\"color: #00d7ff; text-decoration-color: #00d7ff\">None</span>, <span style=\"color: #00af00; text-decoration-color: #00af00\">72</span>, <span style=\"color: #00af00; text-decoration-color: #00af00\">64</span>)              │               <span style=\"color: #00af00; text-decoration-color: #00af00\">0</span> │\n",
              "├──────────────────────────────────────┼─────────────────────────────┼─────────────────┤\n",
              "│ yield_output (<span style=\"color: #0087ff; text-decoration-color: #0087ff\">Dense</span>)                 │ (<span style=\"color: #00d7ff; text-decoration-color: #00d7ff\">None</span>, <span style=\"color: #00af00; text-decoration-color: #00af00\">72</span>, <span style=\"color: #00af00; text-decoration-color: #00af00\">1</span>)               │              <span style=\"color: #00af00; text-decoration-color: #00af00\">65</span> │\n",
              "└──────────────────────────────────────┴─────────────────────────────┴─────────────────┘\n",
              "</pre>\n"
            ],
            "text/plain": [
              "┏━━━━━━━━━━━━━━━━━━━━━━━━━━━━━━━━━━━━━━┳━━━━━━━━━━━━━━━━━━━━━━━━━━━━━┳━━━━━━━━━━━━━━━━━┓\n",
              "┃\u001b[1m \u001b[0m\u001b[1mLayer (type)                        \u001b[0m\u001b[1m \u001b[0m┃\u001b[1m \u001b[0m\u001b[1mOutput Shape               \u001b[0m\u001b[1m \u001b[0m┃\u001b[1m \u001b[0m\u001b[1m        Param #\u001b[0m\u001b[1m \u001b[0m┃\n",
              "┡━━━━━━━━━━━━━━━━━━━━━━━━━━━━━━━━━━━━━━╇━━━━━━━━━━━━━━━━━━━━━━━━━━━━━╇━━━━━━━━━━━━━━━━━┩\n",
              "│ input_layer_3 (\u001b[38;5;33mInputLayer\u001b[0m)           │ (\u001b[38;5;45mNone\u001b[0m, \u001b[38;5;34m72\u001b[0m, \u001b[38;5;34m33\u001b[0m, \u001b[38;5;34m33\u001b[0m, \u001b[38;5;34m4\u001b[0m)       │               \u001b[38;5;34m0\u001b[0m │\n",
              "├──────────────────────────────────────┼─────────────────────────────┼─────────────────┤\n",
              "│ time_distributed_1 (\u001b[38;5;33mTimeDistributed\u001b[0m) │ (\u001b[38;5;45mNone\u001b[0m, \u001b[38;5;34m72\u001b[0m, \u001b[38;5;34m128\u001b[0m)             │       \u001b[38;5;34m1,142,624\u001b[0m │\n",
              "├──────────────────────────────────────┼─────────────────────────────┼─────────────────┤\n",
              "│ dense_3 (\u001b[38;5;33mDense\u001b[0m)                      │ (\u001b[38;5;45mNone\u001b[0m, \u001b[38;5;34m72\u001b[0m, \u001b[38;5;34m64\u001b[0m)              │           \u001b[38;5;34m8,256\u001b[0m │\n",
              "├──────────────────────────────────────┼─────────────────────────────┼─────────────────┤\n",
              "│ dropout_1 (\u001b[38;5;33mDropout\u001b[0m)                  │ (\u001b[38;5;45mNone\u001b[0m, \u001b[38;5;34m72\u001b[0m, \u001b[38;5;34m64\u001b[0m)              │               \u001b[38;5;34m0\u001b[0m │\n",
              "├──────────────────────────────────────┼─────────────────────────────┼─────────────────┤\n",
              "│ yield_output (\u001b[38;5;33mDense\u001b[0m)                 │ (\u001b[38;5;45mNone\u001b[0m, \u001b[38;5;34m72\u001b[0m, \u001b[38;5;34m1\u001b[0m)               │              \u001b[38;5;34m65\u001b[0m │\n",
              "└──────────────────────────────────────┴─────────────────────────────┴─────────────────┘\n"
            ]
          },
          "metadata": {},
          "output_type": "display_data"
        },
        {
          "data": {
            "text/html": [
              "<pre style=\"white-space:pre;overflow-x:auto;line-height:normal;font-family:Menlo,'DejaVu Sans Mono',consolas,'Courier New',monospace\"><span style=\"font-weight: bold\"> Total params: </span><span style=\"color: #00af00; text-decoration-color: #00af00\">3,452,453</span> (13.17 MB)\n",
              "</pre>\n"
            ],
            "text/plain": [
              "\u001b[1m Total params: \u001b[0m\u001b[38;5;34m3,452,453\u001b[0m (13.17 MB)\n"
            ]
          },
          "metadata": {},
          "output_type": "display_data"
        },
        {
          "data": {
            "text/html": [
              "<pre style=\"white-space:pre;overflow-x:auto;line-height:normal;font-family:Menlo,'DejaVu Sans Mono',consolas,'Courier New',monospace\"><span style=\"font-weight: bold\"> Trainable params: </span><span style=\"color: #00af00; text-decoration-color: #00af00\">1,150,753</span> (4.39 MB)\n",
              "</pre>\n"
            ],
            "text/plain": [
              "\u001b[1m Trainable params: \u001b[0m\u001b[38;5;34m1,150,753\u001b[0m (4.39 MB)\n"
            ]
          },
          "metadata": {},
          "output_type": "display_data"
        },
        {
          "data": {
            "text/html": [
              "<pre style=\"white-space:pre;overflow-x:auto;line-height:normal;font-family:Menlo,'DejaVu Sans Mono',consolas,'Courier New',monospace\"><span style=\"font-weight: bold\"> Non-trainable params: </span><span style=\"color: #00af00; text-decoration-color: #00af00\">192</span> (768.00 B)\n",
              "</pre>\n"
            ],
            "text/plain": [
              "\u001b[1m Non-trainable params: \u001b[0m\u001b[38;5;34m192\u001b[0m (768.00 B)\n"
            ]
          },
          "metadata": {},
          "output_type": "display_data"
        },
        {
          "data": {
            "text/html": [
              "<pre style=\"white-space:pre;overflow-x:auto;line-height:normal;font-family:Menlo,'DejaVu Sans Mono',consolas,'Courier New',monospace\"><span style=\"font-weight: bold\"> Optimizer params: </span><span style=\"color: #00af00; text-decoration-color: #00af00\">2,301,508</span> (8.78 MB)\n",
              "</pre>\n"
            ],
            "text/plain": [
              "\u001b[1m Optimizer params: \u001b[0m\u001b[38;5;34m2,301,508\u001b[0m (8.78 MB)\n"
            ]
          },
          "metadata": {},
          "output_type": "display_data"
        }
      ],
      "source": [
        "model.summary()"
      ]
    },
    {
      "cell_type": "markdown",
      "metadata": {
        "id": "gM0ipOV0L4Nr"
      },
      "source": [
        "# Satellite Data"
      ]
    },
    {
      "cell_type": "code",
      "execution_count": null,
      "metadata": {
        "colab": {
          "base_uri": "https://localhost:8080/"
        },
        "id": "Ki0smZxjL6b4",
        "outputId": "9cc5f4e6-df2c-47d4-ec67-99c6d2aba358"
      },
      "outputs": [
        {
          "output_type": "stream",
          "name": "stdout",
          "text": [
            "Warning: Image 2019_03.npy has shape (1024, 1024, 4), expected (256, 256, 4)\n",
            "Warning: Image 2019_04.npy has shape (1024, 1024, 4), expected (256, 256, 4)\n",
            "Warning: Image 2019_05.npy has shape (1024, 1024, 4), expected (256, 256, 4)\n",
            "Warning: Image 2019_06.npy has shape (1024, 1024, 4), expected (256, 256, 4)\n",
            "Warning: Image 2019_07.npy has shape (1024, 1024, 4), expected (256, 256, 4)\n",
            "Warning: Image 2019_08.npy has shape (1024, 1024, 4), expected (256, 256, 4)\n",
            "Warning: Image 2019_09.npy has shape (1024, 1024, 4), expected (256, 256, 4)\n",
            "Warning: Image 2019_10.npy has shape (1024, 1024, 4), expected (256, 256, 4)\n",
            "Warning: Image 2019_11.npy has shape (1024, 1024, 4), expected (256, 256, 4)\n",
            "Warning: Image 2019_12.npy has shape (1024, 1024, 4), expected (256, 256, 4)\n",
            "Warning: Image 2020_01.npy has shape (1024, 1024, 4), expected (256, 256, 4)\n",
            "Warning: Image 2020_02.npy has shape (1024, 1024, 4), expected (256, 256, 4)\n",
            "Warning: Image 2020_03.npy has shape (1024, 1024, 4), expected (256, 256, 4)\n",
            "Warning: Image 2020_04.npy has shape (1024, 1024, 4), expected (256, 256, 4)\n",
            "Warning: Image 2020_05.npy has shape (1024, 1024, 4), expected (256, 256, 4)\n",
            "Warning: Image 2020_06.npy has shape (1024, 1024, 4), expected (256, 256, 4)\n",
            "Warning: Image 2020_07.npy has shape (1024, 1024, 4), expected (256, 256, 4)\n",
            "Warning: Image 2020_08.npy has shape (1024, 1024, 4), expected (256, 256, 4)\n",
            "Warning: Image 2020_09.npy has shape (1024, 1024, 4), expected (256, 256, 4)\n",
            "Warning: Image 2020_10.npy has shape (1024, 1024, 4), expected (256, 256, 4)\n",
            "Warning: Image 2020_11.npy has shape (1024, 1024, 4), expected (256, 256, 4)\n",
            "Warning: Image 2020_12.npy has shape (1024, 1024, 4), expected (256, 256, 4)\n",
            "Warning: Image 2021_01.npy has shape (1024, 1024, 4), expected (256, 256, 4)\n",
            "Warning: Image 2021_02.npy has shape (1024, 1024, 4), expected (256, 256, 4)\n",
            "Warning: Image 2021_03.npy has shape (1024, 1024, 4), expected (256, 256, 4)\n",
            "Warning: Image 2021_04.npy has shape (1024, 1024, 4), expected (256, 256, 4)\n",
            "Warning: Image 2021_05.npy has shape (1024, 1024, 4), expected (256, 256, 4)\n",
            "Warning: Image 2021_06.npy has shape (1024, 1024, 4), expected (256, 256, 4)\n",
            "Warning: Image 2021_07.npy has shape (1024, 1024, 4), expected (256, 256, 4)\n",
            "Warning: Image 2021_08.npy has shape (1024, 1024, 4), expected (256, 256, 4)\n",
            "Warning: Image 2021_09.npy has shape (1024, 1024, 4), expected (256, 256, 4)\n",
            "Warning: Image 2021_10.npy has shape (1024, 1024, 4), expected (256, 256, 4)\n",
            "Warning: Image 2021_11.npy has shape (1024, 1024, 4), expected (256, 256, 4)\n",
            "Warning: Image 2021_12.npy has shape (1024, 1024, 4), expected (256, 256, 4)\n",
            "Warning: Image 2022_01.npy has shape (1024, 1024, 4), expected (256, 256, 4)\n",
            "Warning: Image 2022_02.npy has shape (1024, 1024, 4), expected (256, 256, 4)\n",
            "Warning: Image 2022_03.npy has shape (1024, 1024, 4), expected (256, 256, 4)\n",
            "Warning: Image 2022_04.npy has shape (1024, 1024, 4), expected (256, 256, 4)\n",
            "Warning: Image 2022_05.npy has shape (1024, 1024, 4), expected (256, 256, 4)\n",
            "Warning: Image 2022_06.npy has shape (1024, 1024, 4), expected (256, 256, 4)\n",
            "Warning: Image 2022_07.npy has shape (1024, 1024, 4), expected (256, 256, 4)\n",
            "Warning: Image 2022_08.npy has shape (1024, 1024, 4), expected (256, 256, 4)\n",
            "Warning: Image 2022_09.npy has shape (1024, 1024, 4), expected (256, 256, 4)\n",
            "Warning: Image 2022_10.npy has shape (1024, 1024, 4), expected (256, 256, 4)\n",
            "Warning: Image 2022_11.npy has shape (1024, 1024, 4), expected (256, 256, 4)\n",
            "Warning: Image 2022_12.npy has shape (1024, 1024, 4), expected (256, 256, 4)\n",
            "Warning: Image 2023_01.npy has shape (1024, 1024, 4), expected (256, 256, 4)\n",
            "Warning: Image 2023_02.npy has shape (1024, 1024, 4), expected (256, 256, 4)\n",
            "Warning: Image 2023_03.npy has shape (1024, 1024, 4), expected (256, 256, 4)\n",
            "Warning: Image 2023_04.npy has shape (1024, 1024, 4), expected (256, 256, 4)\n",
            "Warning: Image 2023_05.npy has shape (1024, 1024, 4), expected (256, 256, 4)\n",
            "Warning: Image 2023_06.npy has shape (1024, 1024, 4), expected (256, 256, 4)\n",
            "Warning: Image 2023_07.npy has shape (1024, 1024, 4), expected (256, 256, 4)\n",
            "Warning: Image 2023_08.npy has shape (1024, 1024, 4), expected (256, 256, 4)\n",
            "Warning: Image 2023_09.npy has shape (1024, 1024, 4), expected (256, 256, 4)\n",
            "Warning: Image 2023_10.npy has shape (1024, 1024, 4), expected (256, 256, 4)\n",
            "Warning: Image 2023_11.npy has shape (1024, 1024, 4), expected (256, 256, 4)\n",
            "Warning: Image 2023_12.npy has shape (1024, 1024, 4), expected (256, 256, 4)\n",
            "Warning: Image 2019_03.npy has shape (1024, 1024, 4), expected (256, 256, 4)\n",
            "Warning: Image 2019_04.npy has shape (1024, 1024, 4), expected (256, 256, 4)\n",
            "Warning: Image 2019_05.npy has shape (1024, 1024, 4), expected (256, 256, 4)\n",
            "Warning: Image 2019_06.npy has shape (1024, 1024, 4), expected (256, 256, 4)\n",
            "Warning: Image 2019_07.npy has shape (1024, 1024, 4), expected (256, 256, 4)\n",
            "Warning: Image 2019_08.npy has shape (1024, 1024, 4), expected (256, 256, 4)\n",
            "Warning: Image 2019_09.npy has shape (1024, 1024, 4), expected (256, 256, 4)\n",
            "Warning: Image 2019_10.npy has shape (1024, 1024, 4), expected (256, 256, 4)\n",
            "Warning: Image 2019_11.npy has shape (1024, 1024, 4), expected (256, 256, 4)\n",
            "Warning: Image 2019_12.npy has shape (1024, 1024, 4), expected (256, 256, 4)\n",
            "Warning: Image 2020_01.npy has shape (1024, 1024, 4), expected (256, 256, 4)\n",
            "Warning: Image 2020_02.npy has shape (1024, 1024, 4), expected (256, 256, 4)\n",
            "Warning: Image 2020_03.npy has shape (1024, 1024, 4), expected (256, 256, 4)\n",
            "Warning: Image 2020_04.npy has shape (1024, 1024, 4), expected (256, 256, 4)\n",
            "Warning: Image 2020_05.npy has shape (1024, 1024, 4), expected (256, 256, 4)\n",
            "Warning: Image 2020_06.npy has shape (1024, 1024, 4), expected (256, 256, 4)\n",
            "Warning: Image 2020_07.npy has shape (1024, 1024, 4), expected (256, 256, 4)\n",
            "Warning: Image 2020_08.npy has shape (1024, 1024, 4), expected (256, 256, 4)\n",
            "Warning: Image 2020_09.npy has shape (1024, 1024, 4), expected (256, 256, 4)\n",
            "Warning: Image 2020_10.npy has shape (1024, 1024, 4), expected (256, 256, 4)\n",
            "Warning: Image 2020_11.npy has shape (1024, 1024, 4), expected (256, 256, 4)\n",
            "Warning: Image 2020_12.npy has shape (1024, 1024, 4), expected (256, 256, 4)\n",
            "Warning: Image 2021_01.npy has shape (1024, 1024, 4), expected (256, 256, 4)\n",
            "Warning: Image 2021_02.npy has shape (1024, 1024, 4), expected (256, 256, 4)\n",
            "Warning: Image 2021_03.npy has shape (1024, 1024, 4), expected (256, 256, 4)\n",
            "Warning: Image 2021_04.npy has shape (1024, 1024, 4), expected (256, 256, 4)\n",
            "Warning: Image 2021_05.npy has shape (1024, 1024, 4), expected (256, 256, 4)\n",
            "Warning: Image 2021_06.npy has shape (1024, 1024, 4), expected (256, 256, 4)\n",
            "Warning: Image 2021_07.npy has shape (1024, 1024, 4), expected (256, 256, 4)\n",
            "Warning: Image 2021_08.npy has shape (1024, 1024, 4), expected (256, 256, 4)\n",
            "Warning: Image 2021_09.npy has shape (1024, 1024, 4), expected (256, 256, 4)\n",
            "Warning: Image 2021_10.npy has shape (1024, 1024, 4), expected (256, 256, 4)\n",
            "Warning: Image 2021_11.npy has shape (1024, 1024, 4), expected (256, 256, 4)\n",
            "Warning: Image 2021_12.npy has shape (1024, 1024, 4), expected (256, 256, 4)\n",
            "Warning: Image 2022_01.npy has shape (1024, 1024, 4), expected (256, 256, 4)\n",
            "Warning: Image 2022_02.npy has shape (1024, 1024, 4), expected (256, 256, 4)\n",
            "Warning: Image 2022_03.npy has shape (1024, 1024, 4), expected (256, 256, 4)\n",
            "Warning: Image 2022_04.npy has shape (1024, 1024, 4), expected (256, 256, 4)\n",
            "Warning: Image 2022_05.npy has shape (1024, 1024, 4), expected (256, 256, 4)\n",
            "Warning: Image 2022_06.npy has shape (1024, 1024, 4), expected (256, 256, 4)\n",
            "Warning: Image 2022_07.npy has shape (1024, 1024, 4), expected (256, 256, 4)\n",
            "Warning: Image 2022_08.npy has shape (1024, 1024, 4), expected (256, 256, 4)\n",
            "Warning: Image 2022_09.npy has shape (1024, 1024, 4), expected (256, 256, 4)\n",
            "Warning: Image 2022_10.npy has shape (1024, 1024, 4), expected (256, 256, 4)\n",
            "Warning: Image 2022_11.npy has shape (1024, 1024, 4), expected (256, 256, 4)\n",
            "Warning: Image 2022_12.npy has shape (1024, 1024, 4), expected (256, 256, 4)\n",
            "Warning: Image 2023_01.npy has shape (1024, 1024, 4), expected (256, 256, 4)\n",
            "Warning: Image 2023_02.npy has shape (1024, 1024, 4), expected (256, 256, 4)\n",
            "Warning: Image 2023_03.npy has shape (1024, 1024, 4), expected (256, 256, 4)\n",
            "Warning: Image 2023_04.npy has shape (1024, 1024, 4), expected (256, 256, 4)\n",
            "Warning: Image 2023_05.npy has shape (1024, 1024, 4), expected (256, 256, 4)\n",
            "Warning: Image 2023_06.npy has shape (1024, 1024, 4), expected (256, 256, 4)\n",
            "Warning: Image 2023_07.npy has shape (1024, 1024, 4), expected (256, 256, 4)\n",
            "Warning: Image 2023_08.npy has shape (1024, 1024, 4), expected (256, 256, 4)\n",
            "Warning: Image 2023_09.npy has shape (1024, 1024, 4), expected (256, 256, 4)\n",
            "Warning: Image 2023_10.npy has shape (1024, 1024, 4), expected (256, 256, 4)\n",
            "Warning: Image 2023_11.npy has shape (1024, 1024, 4), expected (256, 256, 4)\n",
            "Warning: Image 2023_12.npy has shape (1024, 1024, 4), expected (256, 256, 4)\n",
            "Warning: Image 2019_03.npy has shape (1024, 1024, 4), expected (256, 256, 4)\n",
            "Warning: Image 2019_04.npy has shape (1024, 1024, 4), expected (256, 256, 4)\n",
            "Warning: Image 2019_05.npy has shape (1024, 1024, 4), expected (256, 256, 4)\n",
            "Warning: Image 2019_06.npy has shape (1024, 1024, 4), expected (256, 256, 4)\n",
            "Warning: Image 2019_07.npy has shape (1024, 1024, 4), expected (256, 256, 4)\n",
            "Warning: Image 2019_08.npy has shape (1024, 1024, 4), expected (256, 256, 4)\n",
            "Warning: Image 2019_09.npy has shape (1024, 1024, 4), expected (256, 256, 4)\n",
            "Warning: Image 2019_10.npy has shape (1024, 1024, 4), expected (256, 256, 4)\n",
            "Warning: Image 2019_11.npy has shape (1024, 1024, 4), expected (256, 256, 4)\n",
            "Warning: Image 2019_12.npy has shape (1024, 1024, 4), expected (256, 256, 4)\n",
            "Warning: Image 2020_01.npy has shape (1024, 1024, 4), expected (256, 256, 4)\n",
            "Warning: Image 2020_02.npy has shape (1024, 1024, 4), expected (256, 256, 4)\n",
            "Warning: Image 2020_03.npy has shape (1024, 1024, 4), expected (256, 256, 4)\n",
            "Warning: Image 2020_04.npy has shape (1024, 1024, 4), expected (256, 256, 4)\n",
            "Warning: Image 2020_05.npy has shape (1024, 1024, 4), expected (256, 256, 4)\n",
            "Warning: Image 2020_06.npy has shape (1024, 1024, 4), expected (256, 256, 4)\n",
            "Warning: Image 2020_07.npy has shape (1024, 1024, 4), expected (256, 256, 4)\n",
            "Warning: Image 2020_08.npy has shape (1024, 1024, 4), expected (256, 256, 4)\n",
            "Warning: Image 2020_09.npy has shape (1024, 1024, 4), expected (256, 256, 4)\n",
            "Warning: Image 2020_10.npy has shape (1024, 1024, 4), expected (256, 256, 4)\n",
            "Warning: Image 2020_11.npy has shape (1024, 1024, 4), expected (256, 256, 4)\n",
            "Warning: Image 2020_12.npy has shape (1024, 1024, 4), expected (256, 256, 4)\n",
            "Warning: Image 2021_01.npy has shape (1024, 1024, 4), expected (256, 256, 4)\n",
            "Warning: Image 2021_02.npy has shape (1024, 1024, 4), expected (256, 256, 4)\n",
            "Warning: Image 2021_03.npy has shape (1024, 1024, 4), expected (256, 256, 4)\n",
            "Warning: Image 2021_04.npy has shape (1024, 1024, 4), expected (256, 256, 4)\n",
            "Warning: Image 2021_05.npy has shape (1024, 1024, 4), expected (256, 256, 4)\n",
            "Warning: Image 2021_06.npy has shape (1024, 1024, 4), expected (256, 256, 4)\n",
            "Warning: Image 2021_07.npy has shape (1024, 1024, 4), expected (256, 256, 4)\n",
            "Warning: Image 2021_08.npy has shape (1024, 1024, 4), expected (256, 256, 4)\n",
            "Warning: Image 2021_09.npy has shape (1024, 1024, 4), expected (256, 256, 4)\n",
            "Warning: Image 2021_10.npy has shape (1024, 1024, 4), expected (256, 256, 4)\n",
            "Warning: Image 2021_11.npy has shape (1024, 1024, 4), expected (256, 256, 4)\n",
            "Warning: Image 2021_12.npy has shape (1024, 1024, 4), expected (256, 256, 4)\n",
            "Warning: Image 2022_01.npy has shape (1024, 1024, 4), expected (256, 256, 4)\n",
            "Warning: Image 2022_02.npy has shape (1024, 1024, 4), expected (256, 256, 4)\n",
            "Warning: Image 2022_03.npy has shape (1024, 1024, 4), expected (256, 256, 4)\n",
            "Warning: Image 2022_04.npy has shape (1024, 1024, 4), expected (256, 256, 4)\n",
            "Warning: Image 2022_05.npy has shape (1024, 1024, 4), expected (256, 256, 4)\n",
            "Warning: Image 2022_06.npy has shape (1024, 1024, 4), expected (256, 256, 4)\n",
            "Warning: Image 2022_07.npy has shape (1024, 1024, 4), expected (256, 256, 4)\n",
            "Warning: Image 2022_08.npy has shape (1024, 1024, 4), expected (256, 256, 4)\n",
            "Warning: Image 2022_09.npy has shape (1024, 1024, 4), expected (256, 256, 4)\n",
            "Warning: Image 2022_10.npy has shape (1024, 1024, 4), expected (256, 256, 4)\n",
            "Warning: Image 2022_11.npy has shape (1024, 1024, 4), expected (256, 256, 4)\n",
            "Warning: Image 2022_12.npy has shape (1024, 1024, 4), expected (256, 256, 4)\n",
            "Warning: Image 2023_01.npy has shape (1024, 1024, 4), expected (256, 256, 4)\n",
            "Warning: Image 2023_02.npy has shape (1024, 1024, 4), expected (256, 256, 4)\n",
            "Warning: Image 2023_03.npy has shape (1024, 1024, 4), expected (256, 256, 4)\n",
            "Warning: Image 2023_04.npy has shape (1024, 1024, 4), expected (256, 256, 4)\n",
            "Warning: Image 2023_05.npy has shape (1024, 1024, 4), expected (256, 256, 4)\n",
            "Warning: Image 2023_06.npy has shape (1024, 1024, 4), expected (256, 256, 4)\n",
            "Warning: Image 2023_07.npy has shape (1024, 1024, 4), expected (256, 256, 4)\n",
            "Warning: Image 2023_08.npy has shape (1024, 1024, 4), expected (256, 256, 4)\n",
            "Warning: Image 2023_09.npy has shape (1024, 1024, 4), expected (256, 256, 4)\n",
            "Warning: Image 2023_10.npy has shape (1024, 1024, 4), expected (256, 256, 4)\n",
            "Warning: Image 2023_11.npy has shape (1024, 1024, 4), expected (256, 256, 4)\n",
            "Warning: Image 2023_12.npy has shape (1024, 1024, 4), expected (256, 256, 4)\n",
            "Warning: Image 2019_03.npy has shape (1024, 1024, 4), expected (256, 256, 4)\n",
            "Warning: Image 2019_04.npy has shape (1024, 1024, 4), expected (256, 256, 4)\n",
            "Warning: Image 2019_05.npy has shape (1024, 1024, 4), expected (256, 256, 4)\n",
            "Warning: Image 2019_06.npy has shape (1024, 1024, 4), expected (256, 256, 4)\n",
            "Warning: Image 2019_07.npy has shape (1024, 1024, 4), expected (256, 256, 4)\n",
            "Warning: Image 2019_08.npy has shape (1024, 1024, 4), expected (256, 256, 4)\n",
            "Warning: Image 2019_09.npy has shape (1024, 1024, 4), expected (256, 256, 4)\n",
            "Warning: Image 2019_10.npy has shape (1024, 1024, 4), expected (256, 256, 4)\n",
            "Warning: Image 2019_11.npy has shape (1024, 1024, 4), expected (256, 256, 4)\n",
            "Warning: Image 2019_12.npy has shape (1024, 1024, 4), expected (256, 256, 4)\n",
            "Warning: Image 2020_01.npy has shape (1024, 1024, 4), expected (256, 256, 4)\n",
            "Warning: Image 2020_02.npy has shape (1024, 1024, 4), expected (256, 256, 4)\n",
            "Warning: Image 2020_03.npy has shape (1024, 1024, 4), expected (256, 256, 4)\n",
            "Warning: Image 2020_04.npy has shape (1024, 1024, 4), expected (256, 256, 4)\n",
            "Warning: Image 2020_05.npy has shape (1024, 1024, 4), expected (256, 256, 4)\n",
            "Warning: Image 2020_06.npy has shape (1024, 1024, 4), expected (256, 256, 4)\n",
            "Warning: Image 2020_07.npy has shape (1024, 1024, 4), expected (256, 256, 4)\n",
            "Warning: Image 2020_08.npy has shape (1024, 1024, 4), expected (256, 256, 4)\n",
            "Warning: Image 2020_09.npy has shape (1024, 1024, 4), expected (256, 256, 4)\n",
            "Warning: Image 2020_10.npy has shape (1024, 1024, 4), expected (256, 256, 4)\n",
            "Warning: Image 2020_11.npy has shape (1024, 1024, 4), expected (256, 256, 4)\n",
            "Warning: Image 2020_12.npy has shape (1024, 1024, 4), expected (256, 256, 4)\n",
            "Warning: Image 2021_01.npy has shape (1024, 1024, 4), expected (256, 256, 4)\n",
            "Warning: Image 2021_02.npy has shape (1024, 1024, 4), expected (256, 256, 4)\n",
            "Warning: Image 2021_03.npy has shape (1024, 1024, 4), expected (256, 256, 4)\n",
            "Warning: Image 2021_04.npy has shape (1024, 1024, 4), expected (256, 256, 4)\n",
            "Warning: Image 2021_05.npy has shape (1024, 1024, 4), expected (256, 256, 4)\n",
            "Warning: Image 2021_06.npy has shape (1024, 1024, 4), expected (256, 256, 4)\n",
            "Warning: Image 2021_07.npy has shape (1024, 1024, 4), expected (256, 256, 4)\n",
            "Warning: Image 2021_08.npy has shape (1024, 1024, 4), expected (256, 256, 4)\n",
            "Warning: Image 2021_09.npy has shape (1024, 1024, 4), expected (256, 256, 4)\n",
            "Warning: Image 2021_10.npy has shape (1024, 1024, 4), expected (256, 256, 4)\n",
            "Warning: Image 2021_11.npy has shape (1024, 1024, 4), expected (256, 256, 4)\n",
            "Warning: Image 2021_12.npy has shape (1024, 1024, 4), expected (256, 256, 4)\n",
            "Warning: Image 2022_01.npy has shape (1024, 1024, 4), expected (256, 256, 4)\n",
            "Warning: Image 2022_02.npy has shape (1024, 1024, 4), expected (256, 256, 4)\n",
            "Warning: Image 2022_03.npy has shape (1024, 1024, 4), expected (256, 256, 4)\n",
            "Warning: Image 2022_04.npy has shape (1024, 1024, 4), expected (256, 256, 4)\n",
            "Warning: Image 2022_05.npy has shape (1024, 1024, 4), expected (256, 256, 4)\n",
            "Warning: Image 2022_06.npy has shape (1024, 1024, 4), expected (256, 256, 4)\n",
            "Warning: Image 2022_07.npy has shape (1024, 1024, 4), expected (256, 256, 4)\n",
            "Warning: Image 2022_08.npy has shape (1024, 1024, 4), expected (256, 256, 4)\n",
            "Warning: Image 2022_09.npy has shape (1024, 1024, 4), expected (256, 256, 4)\n",
            "Warning: Image 2022_10.npy has shape (1024, 1024, 4), expected (256, 256, 4)\n",
            "Warning: Image 2022_11.npy has shape (1024, 1024, 4), expected (256, 256, 4)\n",
            "Warning: Image 2022_12.npy has shape (1024, 1024, 4), expected (256, 256, 4)\n",
            "Warning: Image 2023_01.npy has shape (1024, 1024, 4), expected (256, 256, 4)\n",
            "Warning: Image 2023_02.npy has shape (1024, 1024, 4), expected (256, 256, 4)\n",
            "Warning: Image 2023_03.npy has shape (1024, 1024, 4), expected (256, 256, 4)\n",
            "Warning: Image 2023_04.npy has shape (1024, 1024, 4), expected (256, 256, 4)\n",
            "Warning: Image 2023_05.npy has shape (1024, 1024, 4), expected (256, 256, 4)\n",
            "Warning: Image 2023_06.npy has shape (1024, 1024, 4), expected (256, 256, 4)\n",
            "Warning: Image 2023_07.npy has shape (1024, 1024, 4), expected (256, 256, 4)\n",
            "Warning: Image 2023_08.npy has shape (1024, 1024, 4), expected (256, 256, 4)\n",
            "Warning: Image 2023_09.npy has shape (1024, 1024, 4), expected (256, 256, 4)\n",
            "Warning: Image 2023_10.npy has shape (1024, 1024, 4), expected (256, 256, 4)\n",
            "Warning: Image 2023_11.npy has shape (1024, 1024, 4), expected (256, 256, 4)\n",
            "Warning: Image 2023_12.npy has shape (1024, 1024, 4), expected (256, 256, 4)\n",
            "Warning: Image 2019_03.npy has shape (1024, 1024, 4), expected (256, 256, 4)\n",
            "Warning: Image 2019_04.npy has shape (1024, 1024, 4), expected (256, 256, 4)\n",
            "Warning: Image 2019_05.npy has shape (1024, 1024, 4), expected (256, 256, 4)\n",
            "Warning: Image 2019_06.npy has shape (1024, 1024, 4), expected (256, 256, 4)\n",
            "Warning: Image 2019_07.npy has shape (1024, 1024, 4), expected (256, 256, 4)\n",
            "Warning: Image 2019_08.npy has shape (1024, 1024, 4), expected (256, 256, 4)\n",
            "Warning: Image 2019_09.npy has shape (1024, 1024, 4), expected (256, 256, 4)\n",
            "Warning: Image 2019_10.npy has shape (1024, 1024, 4), expected (256, 256, 4)\n",
            "Warning: Image 2019_11.npy has shape (1024, 1024, 4), expected (256, 256, 4)\n",
            "Warning: Image 2019_12.npy has shape (1024, 1024, 4), expected (256, 256, 4)\n",
            "Warning: Image 2020_01.npy has shape (1024, 1024, 4), expected (256, 256, 4)\n",
            "Warning: Image 2020_02.npy has shape (1024, 1024, 4), expected (256, 256, 4)\n",
            "Warning: Image 2020_03.npy has shape (1024, 1024, 4), expected (256, 256, 4)\n",
            "Warning: Image 2020_04.npy has shape (1024, 1024, 4), expected (256, 256, 4)\n",
            "Warning: Image 2020_05.npy has shape (1024, 1024, 4), expected (256, 256, 4)\n",
            "Warning: Image 2020_06.npy has shape (1024, 1024, 4), expected (256, 256, 4)\n",
            "Warning: Image 2020_07.npy has shape (1024, 1024, 4), expected (256, 256, 4)\n",
            "Warning: Image 2020_08.npy has shape (1024, 1024, 4), expected (256, 256, 4)\n",
            "Warning: Image 2020_09.npy has shape (1024, 1024, 4), expected (256, 256, 4)\n",
            "Warning: Image 2020_10.npy has shape (1024, 1024, 4), expected (256, 256, 4)\n",
            "Warning: Image 2020_11.npy has shape (1024, 1024, 4), expected (256, 256, 4)\n",
            "Warning: Image 2020_12.npy has shape (1024, 1024, 4), expected (256, 256, 4)\n",
            "Warning: Image 2021_01.npy has shape (1024, 1024, 4), expected (256, 256, 4)\n",
            "Warning: Image 2021_02.npy has shape (1024, 1024, 4), expected (256, 256, 4)\n",
            "Warning: Image 2021_03.npy has shape (1024, 1024, 4), expected (256, 256, 4)\n",
            "Warning: Image 2021_04.npy has shape (1024, 1024, 4), expected (256, 256, 4)\n",
            "Warning: Image 2021_05.npy has shape (1024, 1024, 4), expected (256, 256, 4)\n",
            "Warning: Image 2021_06.npy has shape (1024, 1024, 4), expected (256, 256, 4)\n",
            "Warning: Image 2021_07.npy has shape (1024, 1024, 4), expected (256, 256, 4)\n",
            "Warning: Image 2021_08.npy has shape (1024, 1024, 4), expected (256, 256, 4)\n",
            "Warning: Image 2021_09.npy has shape (1024, 1024, 4), expected (256, 256, 4)\n",
            "Warning: Image 2021_10.npy has shape (1024, 1024, 4), expected (256, 256, 4)\n",
            "Warning: Image 2021_11.npy has shape (1024, 1024, 4), expected (256, 256, 4)\n",
            "Warning: Image 2021_12.npy has shape (1024, 1024, 4), expected (256, 256, 4)\n",
            "Warning: Image 2022_01.npy has shape (1024, 1024, 4), expected (256, 256, 4)\n",
            "Warning: Image 2022_02.npy has shape (1024, 1024, 4), expected (256, 256, 4)\n",
            "Warning: Image 2022_03.npy has shape (1024, 1024, 4), expected (256, 256, 4)\n",
            "Warning: Image 2022_04.npy has shape (1024, 1024, 4), expected (256, 256, 4)\n",
            "Warning: Image 2022_05.npy has shape (1024, 1024, 4), expected (256, 256, 4)\n",
            "Warning: Image 2022_06.npy has shape (1024, 1024, 4), expected (256, 256, 4)\n",
            "Warning: Image 2022_07.npy has shape (1024, 1024, 4), expected (256, 256, 4)\n",
            "Warning: Image 2022_08.npy has shape (1024, 1024, 4), expected (256, 256, 4)\n",
            "Warning: Image 2022_09.npy has shape (1024, 1024, 4), expected (256, 256, 4)\n",
            "Warning: Image 2022_10.npy has shape (1024, 1024, 4), expected (256, 256, 4)\n",
            "Warning: Image 2022_11.npy has shape (1024, 1024, 4), expected (256, 256, 4)\n",
            "Warning: Image 2022_12.npy has shape (1024, 1024, 4), expected (256, 256, 4)\n",
            "Warning: Image 2023_01.npy has shape (1024, 1024, 4), expected (256, 256, 4)\n",
            "Warning: Image 2023_02.npy has shape (1024, 1024, 4), expected (256, 256, 4)\n",
            "Warning: Image 2023_03.npy has shape (1024, 1024, 4), expected (256, 256, 4)\n",
            "Warning: Image 2023_04.npy has shape (1024, 1024, 4), expected (256, 256, 4)\n",
            "Warning: Image 2023_05.npy has shape (1024, 1024, 4), expected (256, 256, 4)\n",
            "Warning: Image 2023_06.npy has shape (1024, 1024, 4), expected (256, 256, 4)\n",
            "Warning: Image 2023_07.npy has shape (1024, 1024, 4), expected (256, 256, 4)\n",
            "Warning: Image 2023_08.npy has shape (1024, 1024, 4), expected (256, 256, 4)\n",
            "Warning: Image 2023_09.npy has shape (1024, 1024, 4), expected (256, 256, 4)\n",
            "Warning: Image 2023_10.npy has shape (1024, 1024, 4), expected (256, 256, 4)\n",
            "Warning: Image 2023_11.npy has shape (1024, 1024, 4), expected (256, 256, 4)\n",
            "Warning: Image 2023_12.npy has shape (1024, 1024, 4), expected (256, 256, 4)\n"
          ]
        }
      ],
      "source": [
        "# Satellite data\n",
        "\n",
        "import os\n",
        "import numpy as np\n",
        "from tensorflow.keras.preprocessing.image import load_img, img_to_array\n",
        "\n",
        "\n",
        "\n",
        "\n",
        "# Define the paths\n",
        "base_path = \"/content/drive/MyDrive/GEE_Images/Seasonal_Images\"\n",
        "years = [\"2019\", \"2020\", \"2021\", \"2022\", \"2023\"]\n",
        "seasons = [\"Yala\", \"Maha\"]\n",
        "\n",
        "cnn_input_shape = (256, 256, 4)  # Adjust this based on your CNN model's input shape\n",
        "\n",
        "# Function to load and preprocess images\n",
        "def load_images_from_folder(folder_path, input_shape, expected_count):\n",
        "    images = []\n",
        "    for filename in sorted(os.listdir(folder_path)):\n",
        "        if filename.endswith('.npy'):\n",
        "            img_path = os.path.join(folder_path, filename)\n",
        "            img = np.load(img_path)\n",
        "            img = np.nan_to_num(img, nan=0.0)\n",
        "            if img.shape != input_shape:\n",
        "                print(f\"Warning: Image {filename} has shape {img.shape}, expected {input_shape}\")\n",
        "                img = np.resize(img, input_shape)\n",
        "            # Normalize the image\n",
        "            img = img / np.max(img) if np.max(img) > 0 else img\n",
        "            images.append(img)\n",
        "    # Handle cases with missing images by padding or discarding\n",
        "    if len(images) < expected_count:\n",
        "        # Pad with zeros if fewer images than expected\n",
        "        while len(images) < expected_count:\n",
        "            padding_image = np.zeros(input_shape)\n",
        "            images.append(padding_image)\n",
        "    elif len(images) > expected_count:\n",
        "        # Trim the excess images if more than expected\n",
        "        images = images[:expected_count]\n",
        "\n",
        "    return np.array(images)\n",
        "\n",
        "# Function to prepare data for the model\n",
        "def prepare_data_for_model(base_path, years, seasons, input_shape):\n",
        "    all_season_data = []\n",
        "    for year in years:\n",
        "        for season in seasons:\n",
        "            folder_path = os.path.join(base_path, year, season)\n",
        "            expected_count = 6 if season == \"Maha\" else 6  # Adjust expected count based on season\n",
        "            images = load_images_from_folder(folder_path, input_shape, expected_count)\n",
        "            all_season_data.append(images)\n",
        "    return all_season_data  # Return as a list of arrays instead of a single array\n",
        "\n",
        "satellite_placeholder = np.zeros((6, 1024, 1024, 4))\n",
        "\n",
        "# Prepare the satellite data\n",
        "satellite_input = prepare_data_for_model(\"/content/drive/MyDrive/FYP20-Satellite Image Analysis/Data sets/GEE_Images/GEE_Images_Hambanthota/Seasonal_Images_Hambanthota\", years, seasons, cnn_input_shape)\n",
        "# satellite_input.append(satellite_placeholder)\n",
        "\n",
        "satellite_input_2 = prepare_data_for_model(\"/content/drive/MyDrive/FYP20-Satellite Image Analysis/Data sets/GEE_Images/GEE_Images_Polonnaruwa/Seasonal_Images_Polonnaruwa\", years, seasons, cnn_input_shape)\n",
        "satellite_input.extend(satellite_input_2)\n",
        "# satellite_input.append(satellite_placeholder)\n",
        "\n",
        "satellite_input_3 = prepare_data_for_model(\"/content/drive/MyDrive/FYP20-Satellite Image Analysis/Data sets/GEE_Images/GEE_Images_Mannar/Seasonal_Images_Mannar\", years, seasons, cnn_input_shape)\n",
        "satellite_input.extend(satellite_input_3)\n",
        "# satellite_input.append(satellite_placeholder)\n",
        "\n",
        "satellite_input_4 = prepare_data_for_model(\"/content/drive/MyDrive/FYP20-Satellite Image Analysis/Data sets/GEE_Images/GEE_Images_Trincomalee/Seasonal_Images_Trincomalee\", years, seasons, cnn_input_shape)\n",
        "satellite_input.extend(satellite_input_4)\n",
        "# satellite_input.append(satellite_placeholder)\n",
        "\n",
        "satellite_input_5 = prepare_data_for_model(\"/content/drive/MyDrive/FYP20-Satellite Image Analysis/Data sets/GEE_Images/GEE_Images_Badulla/Seasonal_Images_Badulla\", years, seasons, cnn_input_shape)\n",
        "satellite_input.extend(satellite_input_5)"
      ]
    },
    {
      "cell_type": "markdown",
      "metadata": {
        "id": "urx7KlAYMBBc"
      },
      "source": [
        "# Yeild Data"
      ]
    },
    {
      "cell_type": "code",
      "execution_count": null,
      "metadata": {
        "colab": {
          "base_uri": "https://localhost:8080/"
        },
        "id": "Swj5kJ1EMELC",
        "outputId": "35dc0d53-d28c-4dc2-ccad-411fd9200f8b"
      },
      "outputs": [
        {
          "output_type": "stream",
          "name": "stdout",
          "text": [
            "[2679.82203617 2317.28017421 2550.45923003 2422.29913044 2380.82762505\n",
            " 2352.72251743 1606.31745511 1866.58856121 2212.76128725 2058.60540505\n",
            " 2053.71162345 2230.22648242 2186.97648    2122.35815189 2112.55637329\n",
            " 2201.74433331 1255.6830813  1735.42527711 1787.22812632 1990.36186779\n",
            " 2068.85708158 2232.03103112 1953.46562941 2174.56192191 2115.81724283\n",
            " 1995.49921775 1077.4536236  1385.92372624 1415.31802951 1953.29873933\n",
            " 1716.20971907 2014.52469356 1770.34622289 2132.01870763 1719.73780966\n",
            " 2131.40610003 1077.31227568 1629.36273847 1270.06261088 1930.70878155\n",
            " 1905.33075576 2071.82767269 1782.82797261 2012.58983111 1966.44306809\n",
            " 2059.12138496 1224.88532415 1355.41832843 1481.85811471 1842.87500529]\n"
          ]
        }
      ],
      "source": [
        "# Yeild data\n",
        "\n",
        "import pandas as pd\n",
        "import numpy as np\n",
        "\n",
        "# Load yield data\n",
        "yield_data = pd.read_csv('/content/drive/MyDrive/FYP20-Satellite Image Analysis/Data sets/filtered_hambantota_yield.csv')\n",
        "yield_data1 = pd.read_csv('/content/drive/MyDrive/FYP20-Satellite Image Analysis/Data sets/filtered_polonnaruwa_yield.csv')\n",
        "yield_data2 = pd.read_csv('/content/drive/MyDrive/FYP20-Satellite Image Analysis/Data sets/filtered_mannar_yield.csv')\n",
        "yield_data3 = pd.read_csv('/content/drive/MyDrive/FYP20-Satellite Image Analysis/Data sets/filtered_trincomalee_yield.csv')\n",
        "yield_data4 = pd.read_csv('/content/drive/MyDrive/FYP20-Satellite Image Analysis/Data sets/filtered_badulla_yield.csv')\n",
        "\n",
        "\n",
        "def create_y_target(yield_data):\n",
        "    # Ensure the data is sorted by Year and District (if needed)\n",
        "    yield_data = yield_data.sort_values(by=['Year', 'District'])\n",
        "\n",
        "    # Extract yield values and map to seasons\n",
        "    years = [\"2019\", \"2020\", \"2021\", \"2022\", \"2023\"]\n",
        "    seasons = [\"Yala\", \"Maha\"]\n",
        "\n",
        "    Y_target = []\n",
        "\n",
        "    for year in years:\n",
        "        # Filter data for the current year\n",
        "        year_data = yield_data[yield_data['Year'] == int(year)]\n",
        "\n",
        "        # Extract Yala and Maha yields\n",
        "        yala_yield = year_data.iloc[0]['Yield']\n",
        "        maha_yield = year_data.iloc[1]['Yield']\n",
        "\n",
        "        # Append to Y_target\n",
        "        Y_target.append(yala_yield)\n",
        "        Y_target.append(maha_yield)\n",
        "\n",
        "    # Convert Y_target to numpy array\n",
        "    # Y_target.append(0)\n",
        "    Y_target = np.array(Y_target)\n",
        "    return Y_target\n",
        "\n",
        "Y_target1 = create_y_target(yield_data)\n",
        "Y_target2 = create_y_target(yield_data1)\n",
        "Y_target3 = create_y_target(yield_data2)\n",
        "Y_target4 = create_y_target(yield_data3)\n",
        "Y_target5 = create_y_target(yield_data4)\n",
        "\n",
        "Y_target = np.concatenate((Y_target1, Y_target2))\n",
        "Y_target = np.concatenate((Y_target, Y_target3))\n",
        "Y_target = np.concatenate((Y_target, Y_target4))\n",
        "Y_target = np.concatenate((Y_target, Y_target5))\n",
        "# Y_target = Y_target[:-1]\n",
        "Y_target = Y_target*1000*0.404686\n",
        "print(Y_target)"
      ]
    },
    {
      "cell_type": "markdown",
      "metadata": {
        "id": "eaYKO_dGMM_A"
      },
      "source": [
        "# Ground Data"
      ]
    },
    {
      "cell_type": "code",
      "execution_count": null,
      "metadata": {
        "colab": {
          "base_uri": "https://localhost:8080/"
        },
        "id": "oJ8W642wMPG6",
        "outputId": "1d5fe2c9-9875-4e15-e147-39bb3b095bcf"
      },
      "outputs": [
        {
          "output_type": "stream",
          "name": "stdout",
          "text": [
            "Season 1: Satellite input shape = (6, 256, 256, 4), Ground input shape = (6, 4)\n",
            "Season 2: Satellite input shape = (6, 256, 256, 4), Ground input shape = (6, 4)\n",
            "Season 3: Satellite input shape = (6, 256, 256, 4), Ground input shape = (6, 4)\n",
            "Season 4: Satellite input shape = (6, 256, 256, 4), Ground input shape = (6, 4)\n",
            "Season 5: Satellite input shape = (6, 256, 256, 4), Ground input shape = (6, 4)\n",
            "Season 6: Satellite input shape = (6, 256, 256, 4), Ground input shape = (6, 4)\n",
            "Season 7: Satellite input shape = (6, 256, 256, 4), Ground input shape = (6, 4)\n",
            "Season 8: Satellite input shape = (6, 256, 256, 4), Ground input shape = (6, 4)\n",
            "Season 9: Satellite input shape = (6, 256, 256, 4), Ground input shape = (6, 4)\n",
            "Season 10: Satellite input shape = (6, 256, 256, 4), Ground input shape = (6, 4)\n",
            "Season 11: Satellite input shape = (6, 256, 256, 4), Ground input shape = (6, 4)\n",
            "Season 12: Satellite input shape = (6, 256, 256, 4), Ground input shape = (6, 4)\n",
            "Season 13: Satellite input shape = (6, 256, 256, 4), Ground input shape = (6, 4)\n",
            "Season 14: Satellite input shape = (6, 256, 256, 4), Ground input shape = (6, 4)\n",
            "Season 15: Satellite input shape = (6, 256, 256, 4), Ground input shape = (6, 4)\n",
            "Season 16: Satellite input shape = (6, 256, 256, 4), Ground input shape = (6, 4)\n",
            "Season 17: Satellite input shape = (6, 256, 256, 4), Ground input shape = (6, 4)\n",
            "Season 18: Satellite input shape = (6, 256, 256, 4), Ground input shape = (6, 4)\n",
            "Season 19: Satellite input shape = (6, 256, 256, 4), Ground input shape = (6, 4)\n",
            "Season 20: Satellite input shape = (6, 256, 256, 4), Ground input shape = (6, 4)\n",
            "Season 21: Satellite input shape = (6, 256, 256, 4), Ground input shape = (6, 4)\n",
            "Season 22: Satellite input shape = (6, 256, 256, 4), Ground input shape = (6, 4)\n",
            "Season 23: Satellite input shape = (6, 256, 256, 4), Ground input shape = (6, 4)\n",
            "Season 24: Satellite input shape = (6, 256, 256, 4), Ground input shape = (6, 4)\n",
            "Season 25: Satellite input shape = (6, 256, 256, 4), Ground input shape = (6, 4)\n",
            "Season 26: Satellite input shape = (6, 256, 256, 4), Ground input shape = (6, 4)\n",
            "Season 27: Satellite input shape = (6, 256, 256, 4), Ground input shape = (6, 4)\n",
            "Season 28: Satellite input shape = (6, 256, 256, 4), Ground input shape = (6, 4)\n",
            "Season 29: Satellite input shape = (6, 256, 256, 4), Ground input shape = (6, 4)\n",
            "Season 30: Satellite input shape = (6, 256, 256, 4), Ground input shape = (6, 4)\n",
            "Season 31: Satellite input shape = (6, 256, 256, 4), Ground input shape = (6, 4)\n",
            "Season 32: Satellite input shape = (6, 256, 256, 4), Ground input shape = (6, 4)\n",
            "Season 33: Satellite input shape = (6, 256, 256, 4), Ground input shape = (6, 4)\n",
            "Season 34: Satellite input shape = (6, 256, 256, 4), Ground input shape = (6, 4)\n",
            "Season 35: Satellite input shape = (6, 256, 256, 4), Ground input shape = (6, 4)\n",
            "Season 36: Satellite input shape = (6, 256, 256, 4), Ground input shape = (6, 4)\n",
            "Season 37: Satellite input shape = (6, 256, 256, 4), Ground input shape = (6, 4)\n",
            "Season 38: Satellite input shape = (6, 256, 256, 4), Ground input shape = (6, 4)\n",
            "Season 39: Satellite input shape = (6, 256, 256, 4), Ground input shape = (6, 4)\n",
            "Season 40: Satellite input shape = (6, 256, 256, 4), Ground input shape = (6, 4)\n",
            "Season 41: Satellite input shape = (6, 256, 256, 4), Ground input shape = (6, 4)\n",
            "Season 42: Satellite input shape = (6, 256, 256, 4), Ground input shape = (6, 4)\n",
            "Season 43: Satellite input shape = (6, 256, 256, 4), Ground input shape = (6, 4)\n",
            "Season 44: Satellite input shape = (6, 256, 256, 4), Ground input shape = (6, 4)\n",
            "Season 45: Satellite input shape = (6, 256, 256, 4), Ground input shape = (6, 4)\n",
            "Season 46: Satellite input shape = (6, 256, 256, 4), Ground input shape = (6, 4)\n",
            "Season 47: Satellite input shape = (6, 256, 256, 4), Ground input shape = (6, 4)\n",
            "Season 48: Satellite input shape = (6, 256, 256, 4), Ground input shape = (6, 4)\n",
            "Season 49: Satellite input shape = (6, 256, 256, 4), Ground input shape = (6, 4)\n",
            "Season 50: Satellite input shape = (6, 256, 256, 4), Ground input shape = (6, 4)\n"
          ]
        },
        {
          "output_type": "execute_result",
          "data": {
            "text/plain": [
              "array([[28.1       , 20.80666667,  6.69333333,  8.27      ],\n",
              "       [26.67741935, 20.08709677, 12.59032258,  7.62580645],\n",
              "       [26.14666667, 19.86      , 15.75333333,  7.7       ],\n",
              "       [25.34193548, 20.21612903, 13.34516129,  9.51290323],\n",
              "       [25.0483871 , 18.77419355,  8.0516129 , 10.67096774],\n",
              "       [26.34827586, 18.85172414,  3.66551724, 11.26896552]])"
            ]
          },
          "metadata": {},
          "execution_count": 5
        }
      ],
      "source": [
        "import pandas as pd\n",
        "from sklearn.preprocessing import MinMaxScaler\n",
        "import numpy as np\n",
        "\n",
        "# Load the ground data for different locations\n",
        "ground_data_paths = [\n",
        "    \"/content/drive/MyDrive/FYP20-Satellite Image Analysis/Data sets/Weather Data/monthly_weather_data.csv\",\n",
        "    \"/content/drive/MyDrive/FYP20-Satellite Image Analysis/Data sets/Weather Data/monthly_weather_data_Polonnaruwa.csv\",\n",
        "    \"/content/drive/MyDrive/FYP20-Satellite Image Analysis/Data sets/Weather Data/monthly_weather_data_Mannar.csv\",\n",
        "    \"/content/drive/MyDrive/FYP20-Satellite Image Analysis/Data sets/Weather Data/monthly_weather_data_Trincomalee.csv\",\n",
        "    \"/content/drive/MyDrive/FYP20-Satellite Image Analysis/Data sets/Weather Data/monthly_weather_data_Badulla.csv\"\n",
        "]\n",
        "\n",
        "ground_dfs = [pd.read_csv(path) for path in ground_data_paths]\n",
        "\n",
        "# Extract relevant columns (adjust as per your needs)\n",
        "features = ['temperature_2m_max (°C)', 'temperature_2m_min (°C)', 'precipitation_sum (mm)', 'wind_speed_10m_max (km/h)']  # Example features\n",
        "\n",
        "# Normalize the data\n",
        "scaler = MinMaxScaler()\n",
        "# for df in ground_dfs:\n",
        "#     df[features] = scaler.fit_transform(df[features])\n",
        "\n",
        "# Define the months for each season (use months 1 and 2 from the next year for Maha)\n",
        "season_months = {\n",
        "    \"Yala\": [3, 4, 5, 6, 7, 8],\n",
        "    \"Maha\": [9, 10, 11, 12, 1, 2]\n",
        "}\n",
        "\n",
        "# Prepare ground data, moving months 1 and 2 to the previous year's Maha season\n",
        "def prepare_ground_data(df, years, seasons):\n",
        "    ground_data = []\n",
        "    for year in years:\n",
        "        for season in seasons:\n",
        "            if season == 'Maha':\n",
        "                # Maha includes months from both the current and next year\n",
        "                maha_df = df[((df['year'] == int(year)) & (df['month'].isin([9, 10, 11, 12]))) |\n",
        "                             ((df['year'] == int(year) + 1) & (df['month'].isin([1, 2])))]\n",
        "            else:\n",
        "                # Yala includes months within the same year\n",
        "                maha_df = df[(df['year'] == int(year)) & (df['month'].isin([3, 4, 5, 6, 7, 8]))]\n",
        "\n",
        "            # Extract relevant features for the season\n",
        "            ground_data.append(maha_df[features].values)\n",
        "    return ground_data\n",
        "\n",
        "# Prepare the ground data for all years and seasons\n",
        "years = [2019, 2020, 2021, 2022, 2023]  # List of years to process\n",
        "seasons = [\"Yala\", \"Maha\"]\n",
        "\n",
        "# Initialize an empty list for ground data\n",
        "ground_input = []\n",
        "\n",
        "# Prepare the ground data for each location\n",
        "for df in ground_dfs:\n",
        "    ground_input.extend(prepare_ground_data(df, years, seasons))\n",
        "\n",
        "\n",
        "# Check the shapes\n",
        "for i, season_data in enumerate(satellite_input):\n",
        "    print(f\"Season {i+1}: Satellite input shape = {season_data.shape}, Ground input shape = {ground_input[i].shape}\")\n",
        "\n",
        "ground_input[-1]\n"
      ]
    },
    {
      "cell_type": "markdown",
      "metadata": {
        "id": "xtNQNAYrMXHU"
      },
      "source": [
        "# Check Cardinality"
      ]
    },
    {
      "cell_type": "code",
      "execution_count": null,
      "metadata": {
        "colab": {
          "base_uri": "https://localhost:8080/"
        },
        "id": "b5dPluyQMaky",
        "outputId": "2341e49a-8c72-42fd-b01d-8d14517ec3a1"
      },
      "outputs": [
        {
          "output_type": "execute_result",
          "data": {
            "text/plain": [
              "array([1905.33075576, 2071.82767269, 1782.82797261, 2012.58983111,\n",
              "       1966.44306809, 2059.12138496, 1224.88532415, 1355.41832843,\n",
              "       1481.85811471, 1842.87500529])"
            ]
          },
          "metadata": {},
          "execution_count": 28
        }
      ],
      "source": [
        "import numpy as np\n",
        "from sklearn.model_selection import train_test_split\n",
        "from tensorflow.keras.optimizers import Adam\n",
        "\n",
        "X_satellite = np.array(satellite_input)  # Shape: (10, T, 128, 128, 4)\n",
        "X_ground = np.array(ground_input)        # Shape: (10, T, 4)\n",
        "\n",
        "T = None  # Let T be variable because the input sequence length varies\n",
        "\n",
        "\n",
        "# model = create_stacked_lstm_model(cnn_input_shape, ground_input_shape, T)\n",
        "\n",
        "# Split satellite data\n",
        "# X_satellite_train, X_satellite_test, X_ground_train, X_ground_test, Y_train, Y_test = train_test_split(\n",
        "#     X_satellite, X_ground, Y_target, test_size=0.2, random_state=42\n",
        "# )\n",
        "\n",
        "split_point = len(X_satellite) - 10\n",
        "\n",
        "X_satellite_train = (X_satellite[:split_point])\n",
        "X_ground_train = (X_ground[:split_point])\n",
        "Y_train = (Y_target[:split_point])\n",
        "\n",
        "X_satellite_test = (X_satellite[split_point:])\n",
        "X_ground_test = (X_ground[split_point:])\n",
        "Y_test = (Y_target[split_point:])\n",
        "Y_test\n"
      ]
    },
    {
      "cell_type": "code",
      "execution_count": null,
      "metadata": {
        "colab": {
          "base_uri": "https://localhost:8080/"
        },
        "id": "uqE6EgJEMdA0",
        "outputId": "1772119b-80f4-491f-fc74-54bb7a71e7b9"
      },
      "outputs": [
        {
          "output_type": "stream",
          "name": "stdout",
          "text": [
            "Satellite Input (X_satellite):\n",
            "Shape of full dataset: (50, 6, 256, 256, 4)\n",
            "Shape of training data: (40, 6, 256, 256, 4)\n",
            "Shape of test data: (10, 6, 256, 256, 4)\n",
            "\n",
            "Ground Input (X_ground):\n",
            "Shape of full dataset: (50, 6, 4)\n",
            "Shape of training data: (40, 6, 4)\n",
            "Shape of test data: (10, 6, 4)\n",
            "\n",
            "Target Output (Y_target):\n",
            "Shape of full dataset: (50,)\n",
            "Shape of training data: (40,)\n",
            "Shape of test data: (10,)\n"
          ]
        }
      ],
      "source": [
        "\n",
        "\n",
        "# Print shapes for satellite input\n",
        "print(\"Satellite Input (X_satellite):\")\n",
        "print(f\"Shape of full dataset: {X_satellite.shape}\")\n",
        "print(f\"Shape of training data: {X_satellite_train.shape}\")\n",
        "print(f\"Shape of test data: {X_satellite_test.shape}\")\n",
        "\n",
        "# Uncomment and use if you include ground data\n",
        "print(\"\\nGround Input (X_ground):\")\n",
        "print(f\"Shape of full dataset: {X_ground.shape}\")\n",
        "print(f\"Shape of training data: {X_ground_train.shape}\")\n",
        "print(f\"Shape of test data: {X_ground_test.shape}\")\n",
        "\n",
        "# Print shapes for target data\n",
        "print(\"\\nTarget Output (Y_target):\")\n",
        "print(f\"Shape of full dataset: {Y_target.shape}\")\n",
        "print(f\"Shape of training data: {Y_train.shape}\")\n",
        "print(f\"Shape of test data: {Y_test.shape}\")\n"
      ]
    },
    {
      "cell_type": "markdown",
      "metadata": {
        "id": "eA116fegM5eC"
      },
      "source": [
        "# Model Training"
      ]
    },
    {
      "cell_type": "code",
      "execution_count": null,
      "metadata": {
        "colab": {
          "base_uri": "https://localhost:8080/",
          "height": 1000
        },
        "id": "WZFNFSgRM8qV",
        "outputId": "4e7adef0-d528-4bda-dd6e-98d54fecb655"
      },
      "outputs": [
        {
          "output_type": "display_data",
          "data": {
            "text/plain": [
              "\u001b[1mModel: \"functional_60\"\u001b[0m\n"
            ],
            "text/html": [
              "<pre style=\"white-space:pre;overflow-x:auto;line-height:normal;font-family:Menlo,'DejaVu Sans Mono',consolas,'Courier New',monospace\"><span style=\"font-weight: bold\">Model: \"functional_60\"</span>\n",
              "</pre>\n"
            ]
          },
          "metadata": {}
        },
        {
          "output_type": "display_data",
          "data": {
            "text/plain": [
              "┏━━━━━━━━━━━━━━━━━━━━━━━━━━━┳━━━━━━━━━━━━━━━━━━━━━━━━┳━━━━━━━━━━━━━━━━┳━━━━━━━━━━━━━━━━━━━━━━━━┓\n",
              "┃\u001b[1m \u001b[0m\u001b[1mLayer (type)             \u001b[0m\u001b[1m \u001b[0m┃\u001b[1m \u001b[0m\u001b[1mOutput Shape          \u001b[0m\u001b[1m \u001b[0m┃\u001b[1m \u001b[0m\u001b[1m       Param #\u001b[0m\u001b[1m \u001b[0m┃\u001b[1m \u001b[0m\u001b[1mConnected to          \u001b[0m\u001b[1m \u001b[0m┃\n",
              "┡━━━━━━━━━━━━━━━━━━━━━━━━━━━╇━━━━━━━━━━━━━━━━━━━━━━━━╇━━━━━━━━━━━━━━━━╇━━━━━━━━━━━━━━━━━━━━━━━━┩\n",
              "│ satellite_input           │ (\u001b[38;5;45mNone\u001b[0m, \u001b[38;5;34m6\u001b[0m, \u001b[38;5;34m256\u001b[0m, \u001b[38;5;34m256\u001b[0m, \u001b[38;5;34m4\u001b[0m) │              \u001b[38;5;34m0\u001b[0m │ -                      │\n",
              "│ (\u001b[38;5;33mInputLayer\u001b[0m)              │                        │                │                        │\n",
              "├───────────────────────────┼────────────────────────┼────────────────┼────────────────────────┤\n",
              "│ time_distributed_31       │ (\u001b[38;5;45mNone\u001b[0m, \u001b[38;5;34m6\u001b[0m, \u001b[38;5;34m256\u001b[0m, \u001b[38;5;34m256\u001b[0m,    │          \u001b[38;5;34m2,368\u001b[0m │ satellite_input[\u001b[38;5;34m0\u001b[0m][\u001b[38;5;34m0\u001b[0m]  │\n",
              "│ (\u001b[38;5;33mTimeDistributed\u001b[0m)         │ \u001b[38;5;34m64\u001b[0m)                    │                │                        │\n",
              "├───────────────────────────┼────────────────────────┼────────────────┼────────────────────────┤\n",
              "│ time_distributed_32       │ (\u001b[38;5;45mNone\u001b[0m, \u001b[38;5;34m6\u001b[0m, \u001b[38;5;34m128\u001b[0m, \u001b[38;5;34m128\u001b[0m,    │              \u001b[38;5;34m0\u001b[0m │ time_distributed_31[\u001b[38;5;34m0\u001b[0m… │\n",
              "│ (\u001b[38;5;33mTimeDistributed\u001b[0m)         │ \u001b[38;5;34m64\u001b[0m)                    │                │                        │\n",
              "├───────────────────────────┼────────────────────────┼────────────────┼────────────────────────┤\n",
              "│ time_distributed_33       │ (\u001b[38;5;45mNone\u001b[0m, \u001b[38;5;34m6\u001b[0m, \u001b[38;5;34m128\u001b[0m, \u001b[38;5;34m128\u001b[0m,    │         \u001b[38;5;34m36,928\u001b[0m │ time_distributed_32[\u001b[38;5;34m0\u001b[0m… │\n",
              "│ (\u001b[38;5;33mTimeDistributed\u001b[0m)         │ \u001b[38;5;34m64\u001b[0m)                    │                │                        │\n",
              "├───────────────────────────┼────────────────────────┼────────────────┼────────────────────────┤\n",
              "│ time_distributed_34       │ (\u001b[38;5;45mNone\u001b[0m, \u001b[38;5;34m6\u001b[0m, \u001b[38;5;34m64\u001b[0m, \u001b[38;5;34m64\u001b[0m, \u001b[38;5;34m64\u001b[0m)  │              \u001b[38;5;34m0\u001b[0m │ time_distributed_33[\u001b[38;5;34m0\u001b[0m… │\n",
              "│ (\u001b[38;5;33mTimeDistributed\u001b[0m)         │                        │                │                        │\n",
              "├───────────────────────────┼────────────────────────┼────────────────┼────────────────────────┤\n",
              "│ time_distributed_35       │ (\u001b[38;5;45mNone\u001b[0m, \u001b[38;5;34m6\u001b[0m, \u001b[38;5;34m64\u001b[0m, \u001b[38;5;34m64\u001b[0m, \u001b[38;5;34m32\u001b[0m)  │         \u001b[38;5;34m18,464\u001b[0m │ time_distributed_34[\u001b[38;5;34m0\u001b[0m… │\n",
              "│ (\u001b[38;5;33mTimeDistributed\u001b[0m)         │                        │                │                        │\n",
              "├───────────────────────────┼────────────────────────┼────────────────┼────────────────────────┤\n",
              "│ time_distributed_36       │ (\u001b[38;5;45mNone\u001b[0m, \u001b[38;5;34m6\u001b[0m, \u001b[38;5;34m32\u001b[0m, \u001b[38;5;34m32\u001b[0m, \u001b[38;5;34m32\u001b[0m)  │              \u001b[38;5;34m0\u001b[0m │ time_distributed_35[\u001b[38;5;34m0\u001b[0m… │\n",
              "│ (\u001b[38;5;33mTimeDistributed\u001b[0m)         │                        │                │                        │\n",
              "├───────────────────────────┼────────────────────────┼────────────────┼────────────────────────┤\n",
              "│ time_distributed_37       │ (\u001b[38;5;45mNone\u001b[0m, \u001b[38;5;34m6\u001b[0m, \u001b[38;5;34m32\u001b[0m, \u001b[38;5;34m32\u001b[0m, \u001b[38;5;34m4\u001b[0m)   │            \u001b[38;5;34m132\u001b[0m │ time_distributed_36[\u001b[38;5;34m0\u001b[0m… │\n",
              "│ (\u001b[38;5;33mTimeDistributed\u001b[0m)         │                        │                │                        │\n",
              "├───────────────────────────┼────────────────────────┼────────────────┼────────────────────────┤\n",
              "│ ground_input (\u001b[38;5;33mInputLayer\u001b[0m) │ (\u001b[38;5;45mNone\u001b[0m, \u001b[38;5;34m6\u001b[0m, \u001b[38;5;34m4\u001b[0m)           │              \u001b[38;5;34m0\u001b[0m │ -                      │\n",
              "├───────────────────────────┼────────────────────────┼────────────────┼────────────────────────┤\n",
              "│ time_distributed_38       │ (\u001b[38;5;45mNone\u001b[0m, \u001b[38;5;34m6\u001b[0m, \u001b[38;5;34m33\u001b[0m, \u001b[38;5;34m33\u001b[0m, \u001b[38;5;34m4\u001b[0m)   │              \u001b[38;5;34m0\u001b[0m │ time_distributed_37[\u001b[38;5;34m0\u001b[0m… │\n",
              "│ (\u001b[38;5;33mTimeDistributed\u001b[0m)         │                        │                │                        │\n",
              "├───────────────────────────┼────────────────────────┼────────────────┼────────────────────────┤\n",
              "│ time_distributed_30       │ (\u001b[38;5;45mNone\u001b[0m, \u001b[38;5;34m6\u001b[0m, \u001b[38;5;34m16\u001b[0m)          │             \u001b[38;5;34m80\u001b[0m │ ground_input[\u001b[38;5;34m0\u001b[0m][\u001b[38;5;34m0\u001b[0m]     │\n",
              "│ (\u001b[38;5;33mTimeDistributed\u001b[0m)         │                        │                │                        │\n",
              "├───────────────────────────┼────────────────────────┼────────────────┼────────────────────────┤\n",
              "│ functional_59             │ (\u001b[38;5;45mNone\u001b[0m, \u001b[38;5;34m6\u001b[0m, \u001b[38;5;34m1\u001b[0m)           │      \u001b[38;5;34m1,150,945\u001b[0m │ time_distributed_38[\u001b[38;5;34m0\u001b[0m… │\n",
              "│ (\u001b[38;5;33mFunctional\u001b[0m)              │                        │                │                        │\n",
              "├───────────────────────────┼────────────────────────┼────────────────┼────────────────────────┤\n",
              "│ flatten_6 (\u001b[38;5;33mFlatten\u001b[0m)       │ (\u001b[38;5;45mNone\u001b[0m, \u001b[38;5;34m96\u001b[0m)             │              \u001b[38;5;34m0\u001b[0m │ time_distributed_30[\u001b[38;5;34m0\u001b[0m… │\n",
              "├───────────────────────────┼────────────────────────┼────────────────┼────────────────────────┤\n",
              "│ flatten_7 (\u001b[38;5;33mFlatten\u001b[0m)       │ (\u001b[38;5;45mNone\u001b[0m, \u001b[38;5;34m6\u001b[0m)              │              \u001b[38;5;34m0\u001b[0m │ functional_59[\u001b[38;5;34m0\u001b[0m][\u001b[38;5;34m0\u001b[0m]    │\n",
              "├───────────────────────────┼────────────────────────┼────────────────┼────────────────────────┤\n",
              "│ dense_8 (\u001b[38;5;33mDense\u001b[0m)           │ (\u001b[38;5;45mNone\u001b[0m, \u001b[38;5;34m256\u001b[0m)            │         \u001b[38;5;34m24,832\u001b[0m │ flatten_6[\u001b[38;5;34m0\u001b[0m][\u001b[38;5;34m0\u001b[0m]        │\n",
              "├───────────────────────────┼────────────────────────┼────────────────┼────────────────────────┤\n",
              "│ concatenate_3             │ (\u001b[38;5;45mNone\u001b[0m, \u001b[38;5;34m262\u001b[0m)            │              \u001b[38;5;34m0\u001b[0m │ flatten_7[\u001b[38;5;34m0\u001b[0m][\u001b[38;5;34m0\u001b[0m],       │\n",
              "│ (\u001b[38;5;33mConcatenate\u001b[0m)             │                        │                │ dense_8[\u001b[38;5;34m0\u001b[0m][\u001b[38;5;34m0\u001b[0m]          │\n",
              "├───────────────────────────┼────────────────────────┼────────────────┼────────────────────────┤\n",
              "│ dense_9 (\u001b[38;5;33mDense\u001b[0m)           │ (\u001b[38;5;45mNone\u001b[0m, \u001b[38;5;34m128\u001b[0m)            │         \u001b[38;5;34m33,664\u001b[0m │ concatenate_3[\u001b[38;5;34m0\u001b[0m][\u001b[38;5;34m0\u001b[0m]    │\n",
              "├───────────────────────────┼────────────────────────┼────────────────┼────────────────────────┤\n",
              "│ dropout_2 (\u001b[38;5;33mDropout\u001b[0m)       │ (\u001b[38;5;45mNone\u001b[0m, \u001b[38;5;34m128\u001b[0m)            │              \u001b[38;5;34m0\u001b[0m │ dense_9[\u001b[38;5;34m0\u001b[0m][\u001b[38;5;34m0\u001b[0m]          │\n",
              "├───────────────────────────┼────────────────────────┼────────────────┼────────────────────────┤\n",
              "│ output (\u001b[38;5;33mDense\u001b[0m)            │ (\u001b[38;5;45mNone\u001b[0m, \u001b[38;5;34m1\u001b[0m)              │            \u001b[38;5;34m129\u001b[0m │ dropout_2[\u001b[38;5;34m0\u001b[0m][\u001b[38;5;34m0\u001b[0m]        │\n",
              "└───────────────────────────┴────────────────────────┴────────────────┴────────────────────────┘\n"
            ],
            "text/html": [
              "<pre style=\"white-space:pre;overflow-x:auto;line-height:normal;font-family:Menlo,'DejaVu Sans Mono',consolas,'Courier New',monospace\">┏━━━━━━━━━━━━━━━━━━━━━━━━━━━┳━━━━━━━━━━━━━━━━━━━━━━━━┳━━━━━━━━━━━━━━━━┳━━━━━━━━━━━━━━━━━━━━━━━━┓\n",
              "┃<span style=\"font-weight: bold\"> Layer (type)              </span>┃<span style=\"font-weight: bold\"> Output Shape           </span>┃<span style=\"font-weight: bold\">        Param # </span>┃<span style=\"font-weight: bold\"> Connected to           </span>┃\n",
              "┡━━━━━━━━━━━━━━━━━━━━━━━━━━━╇━━━━━━━━━━━━━━━━━━━━━━━━╇━━━━━━━━━━━━━━━━╇━━━━━━━━━━━━━━━━━━━━━━━━┩\n",
              "│ satellite_input           │ (<span style=\"color: #00d7ff; text-decoration-color: #00d7ff\">None</span>, <span style=\"color: #00af00; text-decoration-color: #00af00\">6</span>, <span style=\"color: #00af00; text-decoration-color: #00af00\">256</span>, <span style=\"color: #00af00; text-decoration-color: #00af00\">256</span>, <span style=\"color: #00af00; text-decoration-color: #00af00\">4</span>) │              <span style=\"color: #00af00; text-decoration-color: #00af00\">0</span> │ -                      │\n",
              "│ (<span style=\"color: #0087ff; text-decoration-color: #0087ff\">InputLayer</span>)              │                        │                │                        │\n",
              "├───────────────────────────┼────────────────────────┼────────────────┼────────────────────────┤\n",
              "│ time_distributed_31       │ (<span style=\"color: #00d7ff; text-decoration-color: #00d7ff\">None</span>, <span style=\"color: #00af00; text-decoration-color: #00af00\">6</span>, <span style=\"color: #00af00; text-decoration-color: #00af00\">256</span>, <span style=\"color: #00af00; text-decoration-color: #00af00\">256</span>,    │          <span style=\"color: #00af00; text-decoration-color: #00af00\">2,368</span> │ satellite_input[<span style=\"color: #00af00; text-decoration-color: #00af00\">0</span>][<span style=\"color: #00af00; text-decoration-color: #00af00\">0</span>]  │\n",
              "│ (<span style=\"color: #0087ff; text-decoration-color: #0087ff\">TimeDistributed</span>)         │ <span style=\"color: #00af00; text-decoration-color: #00af00\">64</span>)                    │                │                        │\n",
              "├───────────────────────────┼────────────────────────┼────────────────┼────────────────────────┤\n",
              "│ time_distributed_32       │ (<span style=\"color: #00d7ff; text-decoration-color: #00d7ff\">None</span>, <span style=\"color: #00af00; text-decoration-color: #00af00\">6</span>, <span style=\"color: #00af00; text-decoration-color: #00af00\">128</span>, <span style=\"color: #00af00; text-decoration-color: #00af00\">128</span>,    │              <span style=\"color: #00af00; text-decoration-color: #00af00\">0</span> │ time_distributed_31[<span style=\"color: #00af00; text-decoration-color: #00af00\">0</span>… │\n",
              "│ (<span style=\"color: #0087ff; text-decoration-color: #0087ff\">TimeDistributed</span>)         │ <span style=\"color: #00af00; text-decoration-color: #00af00\">64</span>)                    │                │                        │\n",
              "├───────────────────────────┼────────────────────────┼────────────────┼────────────────────────┤\n",
              "│ time_distributed_33       │ (<span style=\"color: #00d7ff; text-decoration-color: #00d7ff\">None</span>, <span style=\"color: #00af00; text-decoration-color: #00af00\">6</span>, <span style=\"color: #00af00; text-decoration-color: #00af00\">128</span>, <span style=\"color: #00af00; text-decoration-color: #00af00\">128</span>,    │         <span style=\"color: #00af00; text-decoration-color: #00af00\">36,928</span> │ time_distributed_32[<span style=\"color: #00af00; text-decoration-color: #00af00\">0</span>… │\n",
              "│ (<span style=\"color: #0087ff; text-decoration-color: #0087ff\">TimeDistributed</span>)         │ <span style=\"color: #00af00; text-decoration-color: #00af00\">64</span>)                    │                │                        │\n",
              "├───────────────────────────┼────────────────────────┼────────────────┼────────────────────────┤\n",
              "│ time_distributed_34       │ (<span style=\"color: #00d7ff; text-decoration-color: #00d7ff\">None</span>, <span style=\"color: #00af00; text-decoration-color: #00af00\">6</span>, <span style=\"color: #00af00; text-decoration-color: #00af00\">64</span>, <span style=\"color: #00af00; text-decoration-color: #00af00\">64</span>, <span style=\"color: #00af00; text-decoration-color: #00af00\">64</span>)  │              <span style=\"color: #00af00; text-decoration-color: #00af00\">0</span> │ time_distributed_33[<span style=\"color: #00af00; text-decoration-color: #00af00\">0</span>… │\n",
              "│ (<span style=\"color: #0087ff; text-decoration-color: #0087ff\">TimeDistributed</span>)         │                        │                │                        │\n",
              "├───────────────────────────┼────────────────────────┼────────────────┼────────────────────────┤\n",
              "│ time_distributed_35       │ (<span style=\"color: #00d7ff; text-decoration-color: #00d7ff\">None</span>, <span style=\"color: #00af00; text-decoration-color: #00af00\">6</span>, <span style=\"color: #00af00; text-decoration-color: #00af00\">64</span>, <span style=\"color: #00af00; text-decoration-color: #00af00\">64</span>, <span style=\"color: #00af00; text-decoration-color: #00af00\">32</span>)  │         <span style=\"color: #00af00; text-decoration-color: #00af00\">18,464</span> │ time_distributed_34[<span style=\"color: #00af00; text-decoration-color: #00af00\">0</span>… │\n",
              "│ (<span style=\"color: #0087ff; text-decoration-color: #0087ff\">TimeDistributed</span>)         │                        │                │                        │\n",
              "├───────────────────────────┼────────────────────────┼────────────────┼────────────────────────┤\n",
              "│ time_distributed_36       │ (<span style=\"color: #00d7ff; text-decoration-color: #00d7ff\">None</span>, <span style=\"color: #00af00; text-decoration-color: #00af00\">6</span>, <span style=\"color: #00af00; text-decoration-color: #00af00\">32</span>, <span style=\"color: #00af00; text-decoration-color: #00af00\">32</span>, <span style=\"color: #00af00; text-decoration-color: #00af00\">32</span>)  │              <span style=\"color: #00af00; text-decoration-color: #00af00\">0</span> │ time_distributed_35[<span style=\"color: #00af00; text-decoration-color: #00af00\">0</span>… │\n",
              "│ (<span style=\"color: #0087ff; text-decoration-color: #0087ff\">TimeDistributed</span>)         │                        │                │                        │\n",
              "├───────────────────────────┼────────────────────────┼────────────────┼────────────────────────┤\n",
              "│ time_distributed_37       │ (<span style=\"color: #00d7ff; text-decoration-color: #00d7ff\">None</span>, <span style=\"color: #00af00; text-decoration-color: #00af00\">6</span>, <span style=\"color: #00af00; text-decoration-color: #00af00\">32</span>, <span style=\"color: #00af00; text-decoration-color: #00af00\">32</span>, <span style=\"color: #00af00; text-decoration-color: #00af00\">4</span>)   │            <span style=\"color: #00af00; text-decoration-color: #00af00\">132</span> │ time_distributed_36[<span style=\"color: #00af00; text-decoration-color: #00af00\">0</span>… │\n",
              "│ (<span style=\"color: #0087ff; text-decoration-color: #0087ff\">TimeDistributed</span>)         │                        │                │                        │\n",
              "├───────────────────────────┼────────────────────────┼────────────────┼────────────────────────┤\n",
              "│ ground_input (<span style=\"color: #0087ff; text-decoration-color: #0087ff\">InputLayer</span>) │ (<span style=\"color: #00d7ff; text-decoration-color: #00d7ff\">None</span>, <span style=\"color: #00af00; text-decoration-color: #00af00\">6</span>, <span style=\"color: #00af00; text-decoration-color: #00af00\">4</span>)           │              <span style=\"color: #00af00; text-decoration-color: #00af00\">0</span> │ -                      │\n",
              "├───────────────────────────┼────────────────────────┼────────────────┼────────────────────────┤\n",
              "│ time_distributed_38       │ (<span style=\"color: #00d7ff; text-decoration-color: #00d7ff\">None</span>, <span style=\"color: #00af00; text-decoration-color: #00af00\">6</span>, <span style=\"color: #00af00; text-decoration-color: #00af00\">33</span>, <span style=\"color: #00af00; text-decoration-color: #00af00\">33</span>, <span style=\"color: #00af00; text-decoration-color: #00af00\">4</span>)   │              <span style=\"color: #00af00; text-decoration-color: #00af00\">0</span> │ time_distributed_37[<span style=\"color: #00af00; text-decoration-color: #00af00\">0</span>… │\n",
              "│ (<span style=\"color: #0087ff; text-decoration-color: #0087ff\">TimeDistributed</span>)         │                        │                │                        │\n",
              "├───────────────────────────┼────────────────────────┼────────────────┼────────────────────────┤\n",
              "│ time_distributed_30       │ (<span style=\"color: #00d7ff; text-decoration-color: #00d7ff\">None</span>, <span style=\"color: #00af00; text-decoration-color: #00af00\">6</span>, <span style=\"color: #00af00; text-decoration-color: #00af00\">16</span>)          │             <span style=\"color: #00af00; text-decoration-color: #00af00\">80</span> │ ground_input[<span style=\"color: #00af00; text-decoration-color: #00af00\">0</span>][<span style=\"color: #00af00; text-decoration-color: #00af00\">0</span>]     │\n",
              "│ (<span style=\"color: #0087ff; text-decoration-color: #0087ff\">TimeDistributed</span>)         │                        │                │                        │\n",
              "├───────────────────────────┼────────────────────────┼────────────────┼────────────────────────┤\n",
              "│ functional_59             │ (<span style=\"color: #00d7ff; text-decoration-color: #00d7ff\">None</span>, <span style=\"color: #00af00; text-decoration-color: #00af00\">6</span>, <span style=\"color: #00af00; text-decoration-color: #00af00\">1</span>)           │      <span style=\"color: #00af00; text-decoration-color: #00af00\">1,150,945</span> │ time_distributed_38[<span style=\"color: #00af00; text-decoration-color: #00af00\">0</span>… │\n",
              "│ (<span style=\"color: #0087ff; text-decoration-color: #0087ff\">Functional</span>)              │                        │                │                        │\n",
              "├───────────────────────────┼────────────────────────┼────────────────┼────────────────────────┤\n",
              "│ flatten_6 (<span style=\"color: #0087ff; text-decoration-color: #0087ff\">Flatten</span>)       │ (<span style=\"color: #00d7ff; text-decoration-color: #00d7ff\">None</span>, <span style=\"color: #00af00; text-decoration-color: #00af00\">96</span>)             │              <span style=\"color: #00af00; text-decoration-color: #00af00\">0</span> │ time_distributed_30[<span style=\"color: #00af00; text-decoration-color: #00af00\">0</span>… │\n",
              "├───────────────────────────┼────────────────────────┼────────────────┼────────────────────────┤\n",
              "│ flatten_7 (<span style=\"color: #0087ff; text-decoration-color: #0087ff\">Flatten</span>)       │ (<span style=\"color: #00d7ff; text-decoration-color: #00d7ff\">None</span>, <span style=\"color: #00af00; text-decoration-color: #00af00\">6</span>)              │              <span style=\"color: #00af00; text-decoration-color: #00af00\">0</span> │ functional_59[<span style=\"color: #00af00; text-decoration-color: #00af00\">0</span>][<span style=\"color: #00af00; text-decoration-color: #00af00\">0</span>]    │\n",
              "├───────────────────────────┼────────────────────────┼────────────────┼────────────────────────┤\n",
              "│ dense_8 (<span style=\"color: #0087ff; text-decoration-color: #0087ff\">Dense</span>)           │ (<span style=\"color: #00d7ff; text-decoration-color: #00d7ff\">None</span>, <span style=\"color: #00af00; text-decoration-color: #00af00\">256</span>)            │         <span style=\"color: #00af00; text-decoration-color: #00af00\">24,832</span> │ flatten_6[<span style=\"color: #00af00; text-decoration-color: #00af00\">0</span>][<span style=\"color: #00af00; text-decoration-color: #00af00\">0</span>]        │\n",
              "├───────────────────────────┼────────────────────────┼────────────────┼────────────────────────┤\n",
              "│ concatenate_3             │ (<span style=\"color: #00d7ff; text-decoration-color: #00d7ff\">None</span>, <span style=\"color: #00af00; text-decoration-color: #00af00\">262</span>)            │              <span style=\"color: #00af00; text-decoration-color: #00af00\">0</span> │ flatten_7[<span style=\"color: #00af00; text-decoration-color: #00af00\">0</span>][<span style=\"color: #00af00; text-decoration-color: #00af00\">0</span>],       │\n",
              "│ (<span style=\"color: #0087ff; text-decoration-color: #0087ff\">Concatenate</span>)             │                        │                │ dense_8[<span style=\"color: #00af00; text-decoration-color: #00af00\">0</span>][<span style=\"color: #00af00; text-decoration-color: #00af00\">0</span>]          │\n",
              "├───────────────────────────┼────────────────────────┼────────────────┼────────────────────────┤\n",
              "│ dense_9 (<span style=\"color: #0087ff; text-decoration-color: #0087ff\">Dense</span>)           │ (<span style=\"color: #00d7ff; text-decoration-color: #00d7ff\">None</span>, <span style=\"color: #00af00; text-decoration-color: #00af00\">128</span>)            │         <span style=\"color: #00af00; text-decoration-color: #00af00\">33,664</span> │ concatenate_3[<span style=\"color: #00af00; text-decoration-color: #00af00\">0</span>][<span style=\"color: #00af00; text-decoration-color: #00af00\">0</span>]    │\n",
              "├───────────────────────────┼────────────────────────┼────────────────┼────────────────────────┤\n",
              "│ dropout_2 (<span style=\"color: #0087ff; text-decoration-color: #0087ff\">Dropout</span>)       │ (<span style=\"color: #00d7ff; text-decoration-color: #00d7ff\">None</span>, <span style=\"color: #00af00; text-decoration-color: #00af00\">128</span>)            │              <span style=\"color: #00af00; text-decoration-color: #00af00\">0</span> │ dense_9[<span style=\"color: #00af00; text-decoration-color: #00af00\">0</span>][<span style=\"color: #00af00; text-decoration-color: #00af00\">0</span>]          │\n",
              "├───────────────────────────┼────────────────────────┼────────────────┼────────────────────────┤\n",
              "│ output (<span style=\"color: #0087ff; text-decoration-color: #0087ff\">Dense</span>)            │ (<span style=\"color: #00d7ff; text-decoration-color: #00d7ff\">None</span>, <span style=\"color: #00af00; text-decoration-color: #00af00\">1</span>)              │            <span style=\"color: #00af00; text-decoration-color: #00af00\">129</span> │ dropout_2[<span style=\"color: #00af00; text-decoration-color: #00af00\">0</span>][<span style=\"color: #00af00; text-decoration-color: #00af00\">0</span>]        │\n",
              "└───────────────────────────┴────────────────────────┴────────────────┴────────────────────────┘\n",
              "</pre>\n"
            ]
          },
          "metadata": {}
        },
        {
          "output_type": "display_data",
          "data": {
            "text/plain": [
              "\u001b[1m Total params: \u001b[0m\u001b[38;5;34m1,267,542\u001b[0m (4.84 MB)\n"
            ],
            "text/html": [
              "<pre style=\"white-space:pre;overflow-x:auto;line-height:normal;font-family:Menlo,'DejaVu Sans Mono',consolas,'Courier New',monospace\"><span style=\"font-weight: bold\"> Total params: </span><span style=\"color: #00af00; text-decoration-color: #00af00\">1,267,542</span> (4.84 MB)\n",
              "</pre>\n"
            ]
          },
          "metadata": {}
        },
        {
          "output_type": "display_data",
          "data": {
            "text/plain": [
              "\u001b[1m Trainable params: \u001b[0m\u001b[38;5;34m1,267,350\u001b[0m (4.83 MB)\n"
            ],
            "text/html": [
              "<pre style=\"white-space:pre;overflow-x:auto;line-height:normal;font-family:Menlo,'DejaVu Sans Mono',consolas,'Courier New',monospace\"><span style=\"font-weight: bold\"> Trainable params: </span><span style=\"color: #00af00; text-decoration-color: #00af00\">1,267,350</span> (4.83 MB)\n",
              "</pre>\n"
            ]
          },
          "metadata": {}
        },
        {
          "output_type": "display_data",
          "data": {
            "text/plain": [
              "\u001b[1m Non-trainable params: \u001b[0m\u001b[38;5;34m192\u001b[0m (768.00 B)\n"
            ],
            "text/html": [
              "<pre style=\"white-space:pre;overflow-x:auto;line-height:normal;font-family:Menlo,'DejaVu Sans Mono',consolas,'Courier New',monospace\"><span style=\"font-weight: bold\"> Non-trainable params: </span><span style=\"color: #00af00; text-decoration-color: #00af00\">192</span> (768.00 B)\n",
              "</pre>\n"
            ]
          },
          "metadata": {}
        },
        {
          "output_type": "stream",
          "name": "stdout",
          "text": [
            "Epoch 1/20\n",
            "\u001b[1m5/5\u001b[0m \u001b[32m━━━━━━━━━━━━━━━━━━━━\u001b[0m\u001b[37m\u001b[0m \u001b[1m148s\u001b[0m 27s/step - loss: 3182388.0000 - mae: 1725.5874 - val_loss: 964544.6250 - val_mae: 938.0209\n",
            "Epoch 2/20\n",
            "\u001b[1m5/5\u001b[0m \u001b[32m━━━━━━━━━━━━━━━━━━━━\u001b[0m\u001b[37m\u001b[0m \u001b[1m152s\u001b[0m 27s/step - loss: 889630.6250 - mae: 805.3510 - val_loss: 87963.3984 - val_mae: 272.2940\n",
            "Epoch 3/20\n",
            "\u001b[1m5/5\u001b[0m \u001b[32m━━━━━━━━━━━━━━━━━━━━\u001b[0m\u001b[37m\u001b[0m \u001b[1m133s\u001b[0m 27s/step - loss: 784793.0625 - mae: 772.7896 - val_loss: 219267.7500 - val_mae: 411.0649\n",
            "Epoch 4/20\n",
            "\u001b[1m5/5\u001b[0m \u001b[32m━━━━━━━━━━━━━━━━━━━━\u001b[0m\u001b[37m\u001b[0m \u001b[1m142s\u001b[0m 27s/step - loss: 513910.1875 - mae: 603.4747 - val_loss: 287145.8125 - val_mae: 469.4076\n",
            "Epoch 5/20\n",
            "\u001b[1m5/5\u001b[0m \u001b[32m━━━━━━━━━━━━━━━━━━━━\u001b[0m\u001b[37m\u001b[0m \u001b[1m142s\u001b[0m 27s/step - loss: 436977.7812 - mae: 533.6147 - val_loss: 142480.0312 - val_mae: 344.8459\n",
            "Epoch 6/20\n",
            "\u001b[1m5/5\u001b[0m \u001b[32m━━━━━━━━━━━━━━━━━━━━\u001b[0m\u001b[37m\u001b[0m \u001b[1m153s\u001b[0m 30s/step - loss: 276661.5625 - mae: 428.9025 - val_loss: 84135.1250 - val_mae: 248.0369\n",
            "Epoch 7/20\n",
            "\u001b[1m5/5\u001b[0m \u001b[32m━━━━━━━━━━━━━━━━━━━━\u001b[0m\u001b[37m\u001b[0m \u001b[1m192s\u001b[0m 27s/step - loss: 263847.8125 - mae: 422.2697 - val_loss: 97214.6094 - val_mae: 232.6550\n",
            "Epoch 8/20\n",
            "\u001b[1m5/5\u001b[0m \u001b[32m━━━━━━━━━━━━━━━━━━━━\u001b[0m\u001b[37m\u001b[0m \u001b[1m141s\u001b[0m 27s/step - loss: 275802.7500 - mae: 432.3938 - val_loss: 121297.7500 - val_mae: 245.6591\n",
            "Epoch 9/20\n",
            "\u001b[1m5/5\u001b[0m \u001b[32m━━━━━━━━━━━━━━━━━━━━\u001b[0m\u001b[37m\u001b[0m \u001b[1m142s\u001b[0m 27s/step - loss: 329616.2500 - mae: 486.6331 - val_loss: 114291.9219 - val_mae: 241.9911\n",
            "Epoch 10/20\n",
            "\u001b[1m5/5\u001b[0m \u001b[32m━━━━━━━━━━━━━━━━━━━━\u001b[0m\u001b[37m\u001b[0m \u001b[1m158s\u001b[0m 31s/step - loss: 275454.0000 - mae: 409.2365 - val_loss: 135458.3750 - val_mae: 258.3738\n",
            "Epoch 11/20\n",
            "\u001b[1m5/5\u001b[0m \u001b[32m━━━━━━━━━━━━━━━━━━━━\u001b[0m\u001b[37m\u001b[0m \u001b[1m184s\u001b[0m 27s/step - loss: 176515.6094 - mae: 331.2942 - val_loss: 152780.7500 - val_mae: 278.2464\n",
            "Epoch 12/20\n",
            "\u001b[1m5/5\u001b[0m \u001b[32m━━━━━━━━━━━━━━━━━━━━\u001b[0m\u001b[37m\u001b[0m \u001b[1m142s\u001b[0m 26s/step - loss: 199621.6719 - mae: 356.4941 - val_loss: 123568.9219 - val_mae: 247.0468\n",
            "Epoch 13/20\n",
            "\u001b[1m5/5\u001b[0m \u001b[32m━━━━━━━━━━━━━━━━━━━━\u001b[0m\u001b[37m\u001b[0m \u001b[1m145s\u001b[0m 27s/step - loss: 262419.6250 - mae: 456.9215 - val_loss: 136595.0781 - val_mae: 258.8910\n",
            "Epoch 14/20\n",
            "\u001b[1m5/5\u001b[0m \u001b[32m━━━━━━━━━━━━━━━━━━━━\u001b[0m\u001b[37m\u001b[0m \u001b[1m142s\u001b[0m 27s/step - loss: 297325.2188 - mae: 435.2494 - val_loss: 124055.0000 - val_mae: 247.0530\n",
            "Epoch 15/20\n",
            "\u001b[1m5/5\u001b[0m \u001b[32m━━━━━━━━━━━━━━━━━━━━\u001b[0m\u001b[37m\u001b[0m \u001b[1m191s\u001b[0m 26s/step - loss: 281231.1875 - mae: 438.7148 - val_loss: 210861.4531 - val_mae: 358.1841\n",
            "Epoch 16/20\n",
            "\u001b[1m5/5\u001b[0m \u001b[32m━━━━━━━━━━━━━━━━━━━━\u001b[0m\u001b[37m\u001b[0m \u001b[1m143s\u001b[0m 26s/step - loss: 264400.5938 - mae: 437.6626 - val_loss: 189692.1250 - val_mae: 327.7915\n",
            "Epoch 17/20\n",
            "\u001b[1m5/5\u001b[0m \u001b[32m━━━━━━━━━━━━━━━━━━━━\u001b[0m\u001b[37m\u001b[0m \u001b[1m142s\u001b[0m 27s/step - loss: 280963.5000 - mae: 411.4163 - val_loss: 156839.9375 - val_mae: 283.6335\n",
            "Epoch 18/20\n",
            "\u001b[1m5/5\u001b[0m \u001b[32m━━━━━━━━━━━━━━━━━━━━\u001b[0m\u001b[37m\u001b[0m \u001b[1m152s\u001b[0m 26s/step - loss: 186547.8281 - mae: 361.7735 - val_loss: 192547.2031 - val_mae: 333.1657\n",
            "Epoch 19/20\n",
            "\u001b[1m5/5\u001b[0m \u001b[32m━━━━━━━━━━━━━━━━━━━━\u001b[0m\u001b[37m\u001b[0m \u001b[1m193s\u001b[0m 27s/step - loss: 263945.2188 - mae: 407.3581 - val_loss: 302088.4375 - val_mae: 470.1488\n",
            "Epoch 20/20\n",
            "\u001b[1m5/5\u001b[0m \u001b[32m━━━━━━━━━━━━━━━━━━━━\u001b[0m\u001b[37m\u001b[0m \u001b[1m142s\u001b[0m 27s/step - loss: 180330.7656 - mae: 344.2481 - val_loss: 342121.9375 - val_mae: 511.1561\n"
          ]
        }
      ],
      "source": [
        "import tensorflow as tf\n",
        "from tensorflow.keras.models import load_model, Model\n",
        "from tensorflow.keras.layers import (\n",
        "    Input,\n",
        "    TimeDistributed,\n",
        "    Conv2D,\n",
        "    MaxPooling2D,\n",
        "    Dense,\n",
        "    Flatten,\n",
        "    concatenate,\n",
        "    Dropout,\n",
        "    UpSampling2D,\n",
        ")\n",
        "import numpy as np\n",
        "from tensorflow.keras.preprocessing.image import smart_resize\n",
        "\n",
        "# Load the trained model\n",
        "trained_model_path = \"/content/drive/MyDrive/models/model2_datacleared.keras\"\n",
        "trained_model = load_model(trained_model_path)\n",
        "\n",
        "# Redefine the pretrained model input layer\n",
        "def modify_model(trained_model, new_input_shape):\n",
        "    # Extract the layers and weights from the trained model\n",
        "    trained_layers = trained_model.layers[:-1]  # Exclude the output layer\n",
        "    pretrained_output_layer = trained_model.layers[-1]  # Output layer\n",
        "\n",
        "    # Create a new input layer\n",
        "    new_input = Input(shape=new_input_shape, name=\"updated_satellite_input\")\n",
        "\n",
        "    # Rebuild the model using the pretrained layers\n",
        "    x = new_input\n",
        "    for layer in trained_layers[1:]:  # Skip the original input layer\n",
        "        x = layer(x)\n",
        "\n",
        "    # Add the original output layer\n",
        "    output = pretrained_output_layer(x)\n",
        "    return Model(inputs=new_input, outputs=output)\n",
        "\n",
        "# Modify the model to accept new input shape\n",
        "satellite_model = modify_model(trained_model, new_input_shape=(6, 33, 33, 4))\n",
        "\n",
        "# Create a new branch for ground data\n",
        "ground_input = Input(shape=(6, 4), name=\"ground_input\")\n",
        "ground_flatten = TimeDistributed(Dense(16, activation=\"relu\"))(ground_input)\n",
        "ground_flatten = Flatten()(ground_flatten)\n",
        "# Adjust the shape of ground_flatten to match satellite_features\n",
        "ground_flatten = Dense(256, activation=\"relu\")(ground_flatten) # Assuming satellite_features has shape (None, 256) after Flatten\n",
        "\n",
        "# Combine satellite and ground data\n",
        "satellite_input = Input(shape=(6, 256, 256, 4), name=\"satellite_input\")\n",
        "\n",
        "# Convolutional branch for satellite data\n",
        "x = TimeDistributed(Conv2D(64, (3, 3), activation=\"relu\", padding=\"same\"))(satellite_input)\n",
        "x = TimeDistributed(MaxPooling2D((2, 2), padding=\"same\"))(x)\n",
        "x = TimeDistributed(Conv2D(64, (3, 3), activation=\"relu\", padding=\"same\"))(x)\n",
        "x = TimeDistributed(MaxPooling2D((2, 2), padding=\"same\"))(x)\n",
        "x = TimeDistributed(Conv2D(32, (3, 3), activation=\"relu\", padding=\"same\"))(x)\n",
        "x = TimeDistributed(MaxPooling2D((2, 2), padding=\"same\"))(x)\n",
        "\n",
        "# Adjust the upsampling to match the expected input shape of (6, 33, 33, 4)\n",
        "x = TimeDistributed(Conv2D(4, (1, 1), activation=\"relu\", padding=\"same\"))(x)  # Reduce channels to 4\n",
        "x = TimeDistributed(tf.keras.layers.Lambda(lambda img: smart_resize(img, (33, 33))))(x)  # Resize to (33, 33, 4)\n",
        "\n",
        "\n",
        "# Output shape is now (None, 6, 33, 33, 4)\n",
        "satellite_features = satellite_model(x)\n",
        "# Flatten the satellite features to match ground_flatten\n",
        "satellite_features = Flatten()(satellite_features)\n",
        "\n",
        "# Combine both branches\n",
        "combined = concatenate([satellite_features, ground_flatten])\n",
        "\n",
        "# Add fully connected layers for prediction\n",
        "dense = Dense(128, activation=\"relu\")(combined)\n",
        "dense = Dropout(0.5)(dense)\n",
        "output = Dense(1, activation=\"linear\", name=\"output\")(dense)\n",
        "\n",
        "# Create the final model\n",
        "final_model = Model(inputs=[satellite_input, ground_input], outputs=output)\n",
        "final_model.compile(optimizer=\"adam\", loss=\"mse\", metrics=[\"mae\"])\n",
        "\n",
        "# Model Summary\n",
        "final_model.summary()\n",
        "\n",
        "\n",
        "# Fine-tune the combined model\n",
        "history = final_model.fit(\n",
        "    [X_satellite_train, X_ground_train],\n",
        "    Y_train,\n",
        "    validation_data=([X_satellite_test, X_ground_test], Y_test),\n",
        "    batch_size=8,\n",
        "    epochs=20\n",
        ")"
      ]
    },
    {
      "cell_type": "code",
      "execution_count": null,
      "metadata": {
        "colab": {
          "base_uri": "https://localhost:8080/",
          "height": 1000
        },
        "id": "CwSEDGooqqwy",
        "outputId": "2771479c-2a4b-491b-b276-0cb3be548389"
      },
      "outputs": [
        {
          "output_type": "display_data",
          "data": {
            "text/plain": [
              "\u001b[1mModel: \"functional_20\"\u001b[0m\n"
            ],
            "text/html": [
              "<pre style=\"white-space:pre;overflow-x:auto;line-height:normal;font-family:Menlo,'DejaVu Sans Mono',consolas,'Courier New',monospace\"><span style=\"font-weight: bold\">Model: \"functional_20\"</span>\n",
              "</pre>\n"
            ]
          },
          "metadata": {}
        },
        {
          "output_type": "display_data",
          "data": {
            "text/plain": [
              "┏━━━━━━━━━━━━━━━━━━━━━━━━━━━┳━━━━━━━━━━━━━━━━━━━━━━━━┳━━━━━━━━━━━━━━━━┳━━━━━━━━━━━━━━━━━━━━━━━━┓\n",
              "┃\u001b[1m \u001b[0m\u001b[1mLayer (type)             \u001b[0m\u001b[1m \u001b[0m┃\u001b[1m \u001b[0m\u001b[1mOutput Shape          \u001b[0m\u001b[1m \u001b[0m┃\u001b[1m \u001b[0m\u001b[1m       Param #\u001b[0m\u001b[1m \u001b[0m┃\u001b[1m \u001b[0m\u001b[1mConnected to          \u001b[0m\u001b[1m \u001b[0m┃\n",
              "┡━━━━━━━━━━━━━━━━━━━━━━━━━━━╇━━━━━━━━━━━━━━━━━━━━━━━━╇━━━━━━━━━━━━━━━━╇━━━━━━━━━━━━━━━━━━━━━━━━┩\n",
              "│ satellite_input           │ (\u001b[38;5;45mNone\u001b[0m, \u001b[38;5;34m6\u001b[0m, \u001b[38;5;34m256\u001b[0m, \u001b[38;5;34m256\u001b[0m, \u001b[38;5;34m4\u001b[0m) │              \u001b[38;5;34m0\u001b[0m │ -                      │\n",
              "│ (\u001b[38;5;33mInputLayer\u001b[0m)              │                        │                │                        │\n",
              "├───────────────────────────┼────────────────────────┼────────────────┼────────────────────────┤\n",
              "│ time_distributed_12       │ (\u001b[38;5;45mNone\u001b[0m, \u001b[38;5;34m6\u001b[0m, \u001b[38;5;34m256\u001b[0m, \u001b[38;5;34m256\u001b[0m,    │          \u001b[38;5;34m2,368\u001b[0m │ satellite_input[\u001b[38;5;34m0\u001b[0m][\u001b[38;5;34m0\u001b[0m]  │\n",
              "│ (\u001b[38;5;33mTimeDistributed\u001b[0m)         │ \u001b[38;5;34m64\u001b[0m)                    │                │                        │\n",
              "├───────────────────────────┼────────────────────────┼────────────────┼────────────────────────┤\n",
              "│ time_distributed_13       │ (\u001b[38;5;45mNone\u001b[0m, \u001b[38;5;34m6\u001b[0m, \u001b[38;5;34m128\u001b[0m, \u001b[38;5;34m128\u001b[0m,    │              \u001b[38;5;34m0\u001b[0m │ time_distributed_12[\u001b[38;5;34m0\u001b[0m… │\n",
              "│ (\u001b[38;5;33mTimeDistributed\u001b[0m)         │ \u001b[38;5;34m64\u001b[0m)                    │                │                        │\n",
              "├───────────────────────────┼────────────────────────┼────────────────┼────────────────────────┤\n",
              "│ time_distributed_14       │ (\u001b[38;5;45mNone\u001b[0m, \u001b[38;5;34m6\u001b[0m, \u001b[38;5;34m128\u001b[0m, \u001b[38;5;34m128\u001b[0m,    │         \u001b[38;5;34m36,928\u001b[0m │ time_distributed_13[\u001b[38;5;34m0\u001b[0m… │\n",
              "│ (\u001b[38;5;33mTimeDistributed\u001b[0m)         │ \u001b[38;5;34m64\u001b[0m)                    │                │                        │\n",
              "├───────────────────────────┼────────────────────────┼────────────────┼────────────────────────┤\n",
              "│ time_distributed_15       │ (\u001b[38;5;45mNone\u001b[0m, \u001b[38;5;34m6\u001b[0m, \u001b[38;5;34m64\u001b[0m, \u001b[38;5;34m64\u001b[0m, \u001b[38;5;34m64\u001b[0m)  │              \u001b[38;5;34m0\u001b[0m │ time_distributed_14[\u001b[38;5;34m0\u001b[0m… │\n",
              "│ (\u001b[38;5;33mTimeDistributed\u001b[0m)         │                        │                │                        │\n",
              "├───────────────────────────┼────────────────────────┼────────────────┼────────────────────────┤\n",
              "│ time_distributed_16       │ (\u001b[38;5;45mNone\u001b[0m, \u001b[38;5;34m6\u001b[0m, \u001b[38;5;34m64\u001b[0m, \u001b[38;5;34m64\u001b[0m, \u001b[38;5;34m32\u001b[0m)  │         \u001b[38;5;34m18,464\u001b[0m │ time_distributed_15[\u001b[38;5;34m0\u001b[0m… │\n",
              "│ (\u001b[38;5;33mTimeDistributed\u001b[0m)         │                        │                │                        │\n",
              "├───────────────────────────┼────────────────────────┼────────────────┼────────────────────────┤\n",
              "│ time_distributed_17       │ (\u001b[38;5;45mNone\u001b[0m, \u001b[38;5;34m6\u001b[0m, \u001b[38;5;34m32\u001b[0m, \u001b[38;5;34m32\u001b[0m, \u001b[38;5;34m32\u001b[0m)  │              \u001b[38;5;34m0\u001b[0m │ time_distributed_16[\u001b[38;5;34m0\u001b[0m… │\n",
              "│ (\u001b[38;5;33mTimeDistributed\u001b[0m)         │                        │                │                        │\n",
              "├───────────────────────────┼────────────────────────┼────────────────┼────────────────────────┤\n",
              "│ time_distributed_18       │ (\u001b[38;5;45mNone\u001b[0m, \u001b[38;5;34m6\u001b[0m, \u001b[38;5;34m32\u001b[0m, \u001b[38;5;34m32\u001b[0m, \u001b[38;5;34m4\u001b[0m)   │            \u001b[38;5;34m132\u001b[0m │ time_distributed_17[\u001b[38;5;34m0\u001b[0m… │\n",
              "│ (\u001b[38;5;33mTimeDistributed\u001b[0m)         │                        │                │                        │\n",
              "├───────────────────────────┼────────────────────────┼────────────────┼────────────────────────┤\n",
              "│ time_distributed_19       │ (\u001b[38;5;45mNone\u001b[0m, \u001b[38;5;34m6\u001b[0m, \u001b[38;5;34m33\u001b[0m, \u001b[38;5;34m33\u001b[0m, \u001b[38;5;34m4\u001b[0m)   │              \u001b[38;5;34m0\u001b[0m │ time_distributed_18[\u001b[38;5;34m0\u001b[0m… │\n",
              "│ (\u001b[38;5;33mTimeDistributed\u001b[0m)         │                        │                │                        │\n",
              "├───────────────────────────┼────────────────────────┼────────────────┼────────────────────────┤\n",
              "│ ground_input (\u001b[38;5;33mInputLayer\u001b[0m) │ (\u001b[38;5;45mNone\u001b[0m, \u001b[38;5;34m6\u001b[0m, \u001b[38;5;34m4\u001b[0m)           │              \u001b[38;5;34m0\u001b[0m │ -                      │\n",
              "├───────────────────────────┼────────────────────────┼────────────────┼────────────────────────┤\n",
              "│ functional_19             │ (\u001b[38;5;45mNone\u001b[0m, \u001b[38;5;34m6\u001b[0m, \u001b[38;5;34m1\u001b[0m)           │      \u001b[38;5;34m1,150,945\u001b[0m │ time_distributed_19[\u001b[38;5;34m0\u001b[0m… │\n",
              "│ (\u001b[38;5;33mFunctional\u001b[0m)              │                        │                │                        │\n",
              "├───────────────────────────┼────────────────────────┼────────────────┼────────────────────────┤\n",
              "│ time_distributed_11       │ (\u001b[38;5;45mNone\u001b[0m, \u001b[38;5;34m6\u001b[0m, \u001b[38;5;34m16\u001b[0m)          │             \u001b[38;5;34m80\u001b[0m │ ground_input[\u001b[38;5;34m0\u001b[0m][\u001b[38;5;34m0\u001b[0m]     │\n",
              "│ (\u001b[38;5;33mTimeDistributed\u001b[0m)         │                        │                │                        │\n",
              "├───────────────────────────┼────────────────────────┼────────────────┼────────────────────────┤\n",
              "│ time_distributed_20       │ (\u001b[38;5;45mNone\u001b[0m, \u001b[38;5;34m6\u001b[0m, \u001b[38;5;34m1\u001b[0m)           │              \u001b[38;5;34m0\u001b[0m │ functional_19[\u001b[38;5;34m0\u001b[0m][\u001b[38;5;34m0\u001b[0m]    │\n",
              "│ (\u001b[38;5;33mTimeDistributed\u001b[0m)         │                        │                │                        │\n",
              "├───────────────────────────┼────────────────────────┼────────────────┼────────────────────────┤\n",
              "│ flatten_1 (\u001b[38;5;33mFlatten\u001b[0m)       │ (\u001b[38;5;45mNone\u001b[0m, \u001b[38;5;34m96\u001b[0m)             │              \u001b[38;5;34m0\u001b[0m │ time_distributed_11[\u001b[38;5;34m0\u001b[0m… │\n",
              "├───────────────────────────┼────────────────────────┼────────────────┼────────────────────────┤\n",
              "│ flatten_3 (\u001b[38;5;33mFlatten\u001b[0m)       │ (\u001b[38;5;45mNone\u001b[0m, \u001b[38;5;34m6\u001b[0m)              │              \u001b[38;5;34m0\u001b[0m │ time_distributed_20[\u001b[38;5;34m0\u001b[0m… │\n",
              "├───────────────────────────┼────────────────────────┼────────────────┼────────────────────────┤\n",
              "│ dense_2 (\u001b[38;5;33mDense\u001b[0m)           │ (\u001b[38;5;45mNone\u001b[0m, \u001b[38;5;34m256\u001b[0m)            │         \u001b[38;5;34m24,832\u001b[0m │ flatten_1[\u001b[38;5;34m0\u001b[0m][\u001b[38;5;34m0\u001b[0m]        │\n",
              "├───────────────────────────┼────────────────────────┼────────────────┼────────────────────────┤\n",
              "│ concatenate_1             │ (\u001b[38;5;45mNone\u001b[0m, \u001b[38;5;34m262\u001b[0m)            │              \u001b[38;5;34m0\u001b[0m │ flatten_3[\u001b[38;5;34m0\u001b[0m][\u001b[38;5;34m0\u001b[0m],       │\n",
              "│ (\u001b[38;5;33mConcatenate\u001b[0m)             │                        │                │ dense_2[\u001b[38;5;34m0\u001b[0m][\u001b[38;5;34m0\u001b[0m]          │\n",
              "├───────────────────────────┼────────────────────────┼────────────────┼────────────────────────┤\n",
              "│ dense_3 (\u001b[38;5;33mDense\u001b[0m)           │ (\u001b[38;5;45mNone\u001b[0m, \u001b[38;5;34m128\u001b[0m)            │         \u001b[38;5;34m33,664\u001b[0m │ concatenate_1[\u001b[38;5;34m0\u001b[0m][\u001b[38;5;34m0\u001b[0m]    │\n",
              "├───────────────────────────┼────────────────────────┼────────────────┼────────────────────────┤\n",
              "│ dropout (\u001b[38;5;33mDropout\u001b[0m)         │ (\u001b[38;5;45mNone\u001b[0m, \u001b[38;5;34m128\u001b[0m)            │              \u001b[38;5;34m0\u001b[0m │ dense_3[\u001b[38;5;34m0\u001b[0m][\u001b[38;5;34m0\u001b[0m]          │\n",
              "├───────────────────────────┼────────────────────────┼────────────────┼────────────────────────┤\n",
              "│ output (\u001b[38;5;33mDense\u001b[0m)            │ (\u001b[38;5;45mNone\u001b[0m, \u001b[38;5;34m1\u001b[0m)              │            \u001b[38;5;34m129\u001b[0m │ dropout[\u001b[38;5;34m0\u001b[0m][\u001b[38;5;34m0\u001b[0m]          │\n",
              "└───────────────────────────┴────────────────────────┴────────────────┴────────────────────────┘\n"
            ],
            "text/html": [
              "<pre style=\"white-space:pre;overflow-x:auto;line-height:normal;font-family:Menlo,'DejaVu Sans Mono',consolas,'Courier New',monospace\">┏━━━━━━━━━━━━━━━━━━━━━━━━━━━┳━━━━━━━━━━━━━━━━━━━━━━━━┳━━━━━━━━━━━━━━━━┳━━━━━━━━━━━━━━━━━━━━━━━━┓\n",
              "┃<span style=\"font-weight: bold\"> Layer (type)              </span>┃<span style=\"font-weight: bold\"> Output Shape           </span>┃<span style=\"font-weight: bold\">        Param # </span>┃<span style=\"font-weight: bold\"> Connected to           </span>┃\n",
              "┡━━━━━━━━━━━━━━━━━━━━━━━━━━━╇━━━━━━━━━━━━━━━━━━━━━━━━╇━━━━━━━━━━━━━━━━╇━━━━━━━━━━━━━━━━━━━━━━━━┩\n",
              "│ satellite_input           │ (<span style=\"color: #00d7ff; text-decoration-color: #00d7ff\">None</span>, <span style=\"color: #00af00; text-decoration-color: #00af00\">6</span>, <span style=\"color: #00af00; text-decoration-color: #00af00\">256</span>, <span style=\"color: #00af00; text-decoration-color: #00af00\">256</span>, <span style=\"color: #00af00; text-decoration-color: #00af00\">4</span>) │              <span style=\"color: #00af00; text-decoration-color: #00af00\">0</span> │ -                      │\n",
              "│ (<span style=\"color: #0087ff; text-decoration-color: #0087ff\">InputLayer</span>)              │                        │                │                        │\n",
              "├───────────────────────────┼────────────────────────┼────────────────┼────────────────────────┤\n",
              "│ time_distributed_12       │ (<span style=\"color: #00d7ff; text-decoration-color: #00d7ff\">None</span>, <span style=\"color: #00af00; text-decoration-color: #00af00\">6</span>, <span style=\"color: #00af00; text-decoration-color: #00af00\">256</span>, <span style=\"color: #00af00; text-decoration-color: #00af00\">256</span>,    │          <span style=\"color: #00af00; text-decoration-color: #00af00\">2,368</span> │ satellite_input[<span style=\"color: #00af00; text-decoration-color: #00af00\">0</span>][<span style=\"color: #00af00; text-decoration-color: #00af00\">0</span>]  │\n",
              "│ (<span style=\"color: #0087ff; text-decoration-color: #0087ff\">TimeDistributed</span>)         │ <span style=\"color: #00af00; text-decoration-color: #00af00\">64</span>)                    │                │                        │\n",
              "├───────────────────────────┼────────────────────────┼────────────────┼────────────────────────┤\n",
              "│ time_distributed_13       │ (<span style=\"color: #00d7ff; text-decoration-color: #00d7ff\">None</span>, <span style=\"color: #00af00; text-decoration-color: #00af00\">6</span>, <span style=\"color: #00af00; text-decoration-color: #00af00\">128</span>, <span style=\"color: #00af00; text-decoration-color: #00af00\">128</span>,    │              <span style=\"color: #00af00; text-decoration-color: #00af00\">0</span> │ time_distributed_12[<span style=\"color: #00af00; text-decoration-color: #00af00\">0</span>… │\n",
              "│ (<span style=\"color: #0087ff; text-decoration-color: #0087ff\">TimeDistributed</span>)         │ <span style=\"color: #00af00; text-decoration-color: #00af00\">64</span>)                    │                │                        │\n",
              "├───────────────────────────┼────────────────────────┼────────────────┼────────────────────────┤\n",
              "│ time_distributed_14       │ (<span style=\"color: #00d7ff; text-decoration-color: #00d7ff\">None</span>, <span style=\"color: #00af00; text-decoration-color: #00af00\">6</span>, <span style=\"color: #00af00; text-decoration-color: #00af00\">128</span>, <span style=\"color: #00af00; text-decoration-color: #00af00\">128</span>,    │         <span style=\"color: #00af00; text-decoration-color: #00af00\">36,928</span> │ time_distributed_13[<span style=\"color: #00af00; text-decoration-color: #00af00\">0</span>… │\n",
              "│ (<span style=\"color: #0087ff; text-decoration-color: #0087ff\">TimeDistributed</span>)         │ <span style=\"color: #00af00; text-decoration-color: #00af00\">64</span>)                    │                │                        │\n",
              "├───────────────────────────┼────────────────────────┼────────────────┼────────────────────────┤\n",
              "│ time_distributed_15       │ (<span style=\"color: #00d7ff; text-decoration-color: #00d7ff\">None</span>, <span style=\"color: #00af00; text-decoration-color: #00af00\">6</span>, <span style=\"color: #00af00; text-decoration-color: #00af00\">64</span>, <span style=\"color: #00af00; text-decoration-color: #00af00\">64</span>, <span style=\"color: #00af00; text-decoration-color: #00af00\">64</span>)  │              <span style=\"color: #00af00; text-decoration-color: #00af00\">0</span> │ time_distributed_14[<span style=\"color: #00af00; text-decoration-color: #00af00\">0</span>… │\n",
              "│ (<span style=\"color: #0087ff; text-decoration-color: #0087ff\">TimeDistributed</span>)         │                        │                │                        │\n",
              "├───────────────────────────┼────────────────────────┼────────────────┼────────────────────────┤\n",
              "│ time_distributed_16       │ (<span style=\"color: #00d7ff; text-decoration-color: #00d7ff\">None</span>, <span style=\"color: #00af00; text-decoration-color: #00af00\">6</span>, <span style=\"color: #00af00; text-decoration-color: #00af00\">64</span>, <span style=\"color: #00af00; text-decoration-color: #00af00\">64</span>, <span style=\"color: #00af00; text-decoration-color: #00af00\">32</span>)  │         <span style=\"color: #00af00; text-decoration-color: #00af00\">18,464</span> │ time_distributed_15[<span style=\"color: #00af00; text-decoration-color: #00af00\">0</span>… │\n",
              "│ (<span style=\"color: #0087ff; text-decoration-color: #0087ff\">TimeDistributed</span>)         │                        │                │                        │\n",
              "├───────────────────────────┼────────────────────────┼────────────────┼────────────────────────┤\n",
              "│ time_distributed_17       │ (<span style=\"color: #00d7ff; text-decoration-color: #00d7ff\">None</span>, <span style=\"color: #00af00; text-decoration-color: #00af00\">6</span>, <span style=\"color: #00af00; text-decoration-color: #00af00\">32</span>, <span style=\"color: #00af00; text-decoration-color: #00af00\">32</span>, <span style=\"color: #00af00; text-decoration-color: #00af00\">32</span>)  │              <span style=\"color: #00af00; text-decoration-color: #00af00\">0</span> │ time_distributed_16[<span style=\"color: #00af00; text-decoration-color: #00af00\">0</span>… │\n",
              "│ (<span style=\"color: #0087ff; text-decoration-color: #0087ff\">TimeDistributed</span>)         │                        │                │                        │\n",
              "├───────────────────────────┼────────────────────────┼────────────────┼────────────────────────┤\n",
              "│ time_distributed_18       │ (<span style=\"color: #00d7ff; text-decoration-color: #00d7ff\">None</span>, <span style=\"color: #00af00; text-decoration-color: #00af00\">6</span>, <span style=\"color: #00af00; text-decoration-color: #00af00\">32</span>, <span style=\"color: #00af00; text-decoration-color: #00af00\">32</span>, <span style=\"color: #00af00; text-decoration-color: #00af00\">4</span>)   │            <span style=\"color: #00af00; text-decoration-color: #00af00\">132</span> │ time_distributed_17[<span style=\"color: #00af00; text-decoration-color: #00af00\">0</span>… │\n",
              "│ (<span style=\"color: #0087ff; text-decoration-color: #0087ff\">TimeDistributed</span>)         │                        │                │                        │\n",
              "├───────────────────────────┼────────────────────────┼────────────────┼────────────────────────┤\n",
              "│ time_distributed_19       │ (<span style=\"color: #00d7ff; text-decoration-color: #00d7ff\">None</span>, <span style=\"color: #00af00; text-decoration-color: #00af00\">6</span>, <span style=\"color: #00af00; text-decoration-color: #00af00\">33</span>, <span style=\"color: #00af00; text-decoration-color: #00af00\">33</span>, <span style=\"color: #00af00; text-decoration-color: #00af00\">4</span>)   │              <span style=\"color: #00af00; text-decoration-color: #00af00\">0</span> │ time_distributed_18[<span style=\"color: #00af00; text-decoration-color: #00af00\">0</span>… │\n",
              "│ (<span style=\"color: #0087ff; text-decoration-color: #0087ff\">TimeDistributed</span>)         │                        │                │                        │\n",
              "├───────────────────────────┼────────────────────────┼────────────────┼────────────────────────┤\n",
              "│ ground_input (<span style=\"color: #0087ff; text-decoration-color: #0087ff\">InputLayer</span>) │ (<span style=\"color: #00d7ff; text-decoration-color: #00d7ff\">None</span>, <span style=\"color: #00af00; text-decoration-color: #00af00\">6</span>, <span style=\"color: #00af00; text-decoration-color: #00af00\">4</span>)           │              <span style=\"color: #00af00; text-decoration-color: #00af00\">0</span> │ -                      │\n",
              "├───────────────────────────┼────────────────────────┼────────────────┼────────────────────────┤\n",
              "│ functional_19             │ (<span style=\"color: #00d7ff; text-decoration-color: #00d7ff\">None</span>, <span style=\"color: #00af00; text-decoration-color: #00af00\">6</span>, <span style=\"color: #00af00; text-decoration-color: #00af00\">1</span>)           │      <span style=\"color: #00af00; text-decoration-color: #00af00\">1,150,945</span> │ time_distributed_19[<span style=\"color: #00af00; text-decoration-color: #00af00\">0</span>… │\n",
              "│ (<span style=\"color: #0087ff; text-decoration-color: #0087ff\">Functional</span>)              │                        │                │                        │\n",
              "├───────────────────────────┼────────────────────────┼────────────────┼────────────────────────┤\n",
              "│ time_distributed_11       │ (<span style=\"color: #00d7ff; text-decoration-color: #00d7ff\">None</span>, <span style=\"color: #00af00; text-decoration-color: #00af00\">6</span>, <span style=\"color: #00af00; text-decoration-color: #00af00\">16</span>)          │             <span style=\"color: #00af00; text-decoration-color: #00af00\">80</span> │ ground_input[<span style=\"color: #00af00; text-decoration-color: #00af00\">0</span>][<span style=\"color: #00af00; text-decoration-color: #00af00\">0</span>]     │\n",
              "│ (<span style=\"color: #0087ff; text-decoration-color: #0087ff\">TimeDistributed</span>)         │                        │                │                        │\n",
              "├───────────────────────────┼────────────────────────┼────────────────┼────────────────────────┤\n",
              "│ time_distributed_20       │ (<span style=\"color: #00d7ff; text-decoration-color: #00d7ff\">None</span>, <span style=\"color: #00af00; text-decoration-color: #00af00\">6</span>, <span style=\"color: #00af00; text-decoration-color: #00af00\">1</span>)           │              <span style=\"color: #00af00; text-decoration-color: #00af00\">0</span> │ functional_19[<span style=\"color: #00af00; text-decoration-color: #00af00\">0</span>][<span style=\"color: #00af00; text-decoration-color: #00af00\">0</span>]    │\n",
              "│ (<span style=\"color: #0087ff; text-decoration-color: #0087ff\">TimeDistributed</span>)         │                        │                │                        │\n",
              "├───────────────────────────┼────────────────────────┼────────────────┼────────────────────────┤\n",
              "│ flatten_1 (<span style=\"color: #0087ff; text-decoration-color: #0087ff\">Flatten</span>)       │ (<span style=\"color: #00d7ff; text-decoration-color: #00d7ff\">None</span>, <span style=\"color: #00af00; text-decoration-color: #00af00\">96</span>)             │              <span style=\"color: #00af00; text-decoration-color: #00af00\">0</span> │ time_distributed_11[<span style=\"color: #00af00; text-decoration-color: #00af00\">0</span>… │\n",
              "├───────────────────────────┼────────────────────────┼────────────────┼────────────────────────┤\n",
              "│ flatten_3 (<span style=\"color: #0087ff; text-decoration-color: #0087ff\">Flatten</span>)       │ (<span style=\"color: #00d7ff; text-decoration-color: #00d7ff\">None</span>, <span style=\"color: #00af00; text-decoration-color: #00af00\">6</span>)              │              <span style=\"color: #00af00; text-decoration-color: #00af00\">0</span> │ time_distributed_20[<span style=\"color: #00af00; text-decoration-color: #00af00\">0</span>… │\n",
              "├───────────────────────────┼────────────────────────┼────────────────┼────────────────────────┤\n",
              "│ dense_2 (<span style=\"color: #0087ff; text-decoration-color: #0087ff\">Dense</span>)           │ (<span style=\"color: #00d7ff; text-decoration-color: #00d7ff\">None</span>, <span style=\"color: #00af00; text-decoration-color: #00af00\">256</span>)            │         <span style=\"color: #00af00; text-decoration-color: #00af00\">24,832</span> │ flatten_1[<span style=\"color: #00af00; text-decoration-color: #00af00\">0</span>][<span style=\"color: #00af00; text-decoration-color: #00af00\">0</span>]        │\n",
              "├───────────────────────────┼────────────────────────┼────────────────┼────────────────────────┤\n",
              "│ concatenate_1             │ (<span style=\"color: #00d7ff; text-decoration-color: #00d7ff\">None</span>, <span style=\"color: #00af00; text-decoration-color: #00af00\">262</span>)            │              <span style=\"color: #00af00; text-decoration-color: #00af00\">0</span> │ flatten_3[<span style=\"color: #00af00; text-decoration-color: #00af00\">0</span>][<span style=\"color: #00af00; text-decoration-color: #00af00\">0</span>],       │\n",
              "│ (<span style=\"color: #0087ff; text-decoration-color: #0087ff\">Concatenate</span>)             │                        │                │ dense_2[<span style=\"color: #00af00; text-decoration-color: #00af00\">0</span>][<span style=\"color: #00af00; text-decoration-color: #00af00\">0</span>]          │\n",
              "├───────────────────────────┼────────────────────────┼────────────────┼────────────────────────┤\n",
              "│ dense_3 (<span style=\"color: #0087ff; text-decoration-color: #0087ff\">Dense</span>)           │ (<span style=\"color: #00d7ff; text-decoration-color: #00d7ff\">None</span>, <span style=\"color: #00af00; text-decoration-color: #00af00\">128</span>)            │         <span style=\"color: #00af00; text-decoration-color: #00af00\">33,664</span> │ concatenate_1[<span style=\"color: #00af00; text-decoration-color: #00af00\">0</span>][<span style=\"color: #00af00; text-decoration-color: #00af00\">0</span>]    │\n",
              "├───────────────────────────┼────────────────────────┼────────────────┼────────────────────────┤\n",
              "│ dropout (<span style=\"color: #0087ff; text-decoration-color: #0087ff\">Dropout</span>)         │ (<span style=\"color: #00d7ff; text-decoration-color: #00d7ff\">None</span>, <span style=\"color: #00af00; text-decoration-color: #00af00\">128</span>)            │              <span style=\"color: #00af00; text-decoration-color: #00af00\">0</span> │ dense_3[<span style=\"color: #00af00; text-decoration-color: #00af00\">0</span>][<span style=\"color: #00af00; text-decoration-color: #00af00\">0</span>]          │\n",
              "├───────────────────────────┼────────────────────────┼────────────────┼────────────────────────┤\n",
              "│ output (<span style=\"color: #0087ff; text-decoration-color: #0087ff\">Dense</span>)            │ (<span style=\"color: #00d7ff; text-decoration-color: #00d7ff\">None</span>, <span style=\"color: #00af00; text-decoration-color: #00af00\">1</span>)              │            <span style=\"color: #00af00; text-decoration-color: #00af00\">129</span> │ dropout[<span style=\"color: #00af00; text-decoration-color: #00af00\">0</span>][<span style=\"color: #00af00; text-decoration-color: #00af00\">0</span>]          │\n",
              "└───────────────────────────┴────────────────────────┴────────────────┴────────────────────────┘\n",
              "</pre>\n"
            ]
          },
          "metadata": {}
        },
        {
          "output_type": "display_data",
          "data": {
            "text/plain": [
              "\u001b[1m Total params: \u001b[0m\u001b[38;5;34m1,267,542\u001b[0m (4.84 MB)\n"
            ],
            "text/html": [
              "<pre style=\"white-space:pre;overflow-x:auto;line-height:normal;font-family:Menlo,'DejaVu Sans Mono',consolas,'Courier New',monospace\"><span style=\"font-weight: bold\"> Total params: </span><span style=\"color: #00af00; text-decoration-color: #00af00\">1,267,542</span> (4.84 MB)\n",
              "</pre>\n"
            ]
          },
          "metadata": {}
        },
        {
          "output_type": "display_data",
          "data": {
            "text/plain": [
              "\u001b[1m Trainable params: \u001b[0m\u001b[38;5;34m1,267,350\u001b[0m (4.83 MB)\n"
            ],
            "text/html": [
              "<pre style=\"white-space:pre;overflow-x:auto;line-height:normal;font-family:Menlo,'DejaVu Sans Mono',consolas,'Courier New',monospace\"><span style=\"font-weight: bold\"> Trainable params: </span><span style=\"color: #00af00; text-decoration-color: #00af00\">1,267,350</span> (4.83 MB)\n",
              "</pre>\n"
            ]
          },
          "metadata": {}
        },
        {
          "output_type": "display_data",
          "data": {
            "text/plain": [
              "\u001b[1m Non-trainable params: \u001b[0m\u001b[38;5;34m192\u001b[0m (768.00 B)\n"
            ],
            "text/html": [
              "<pre style=\"white-space:pre;overflow-x:auto;line-height:normal;font-family:Menlo,'DejaVu Sans Mono',consolas,'Courier New',monospace\"><span style=\"font-weight: bold\"> Non-trainable params: </span><span style=\"color: #00af00; text-decoration-color: #00af00\">192</span> (768.00 B)\n",
              "</pre>\n"
            ]
          },
          "metadata": {}
        },
        {
          "output_type": "stream",
          "name": "stdout",
          "text": [
            "Epoch 1/10\n",
            "\u001b[1m5/5\u001b[0m \u001b[32m━━━━━━━━━━━━━━━━━━━━\u001b[0m\u001b[37m\u001b[0m \u001b[1m152s\u001b[0m 27s/step - loss: 3924042.0000 - mae: 1924.8549 - val_loss: 2672428.5000 - val_mae: 1608.7213\n",
            "Epoch 2/10\n",
            "\u001b[1m5/5\u001b[0m \u001b[32m━━━━━━━━━━━━━━━━━━━━\u001b[0m\u001b[37m\u001b[0m \u001b[1m142s\u001b[0m 27s/step - loss: 3349807.0000 - mae: 1788.1646 - val_loss: 1906037.6250 - val_mae: 1349.7909\n",
            "Epoch 3/10\n",
            "\u001b[1m5/5\u001b[0m \u001b[32m━━━━━━━━━━━━━━━━━━━━\u001b[0m\u001b[37m\u001b[0m \u001b[1m194s\u001b[0m 27s/step - loss: 2314843.2500 - mae: 1435.8743 - val_loss: 708776.7500 - val_mae: 790.5999\n",
            "Epoch 4/10\n",
            "\u001b[1m5/5\u001b[0m \u001b[32m━━━━━━━━━━━━━━━━━━━━\u001b[0m\u001b[37m\u001b[0m \u001b[1m141s\u001b[0m 27s/step - loss: 795911.0625 - mae: 729.0956 - val_loss: 226520.0312 - val_mae: 417.7978\n",
            "Epoch 5/10\n",
            "\u001b[1m5/5\u001b[0m \u001b[32m━━━━━━━━━━━━━━━━━━━━\u001b[0m\u001b[37m\u001b[0m \u001b[1m152s\u001b[0m 29s/step - loss: 469905.8125 - mae: 573.0808 - val_loss: 350471.1875 - val_mae: 521.8925\n",
            "Epoch 6/10\n",
            "\u001b[1m5/5\u001b[0m \u001b[32m━━━━━━━━━━━━━━━━━━━━\u001b[0m\u001b[37m\u001b[0m \u001b[1m139s\u001b[0m 27s/step - loss: 397925.6562 - mae: 519.7300 - val_loss: 473657.5000 - val_mae: 624.9612\n",
            "Epoch 7/10\n",
            "\u001b[1m5/5\u001b[0m \u001b[32m━━━━━━━━━━━━━━━━━━━━\u001b[0m\u001b[37m\u001b[0m \u001b[1m136s\u001b[0m 27s/step - loss: 434947.9375 - mae: 563.0287 - val_loss: 308996.3438 - val_mae: 488.6459\n",
            "Epoch 8/10\n",
            "\u001b[1m5/5\u001b[0m \u001b[32m━━━━━━━━━━━━━━━━━━━━\u001b[0m\u001b[37m\u001b[0m \u001b[1m141s\u001b[0m 27s/step - loss: 260268.6406 - mae: 427.9364 - val_loss: 170859.4688 - val_mae: 368.4754\n",
            "Epoch 9/10\n",
            "\u001b[1m5/5\u001b[0m \u001b[32m━━━━━━━━━━━━━━━━━━━━\u001b[0m\u001b[37m\u001b[0m \u001b[1m143s\u001b[0m 27s/step - loss: 302835.5000 - mae: 461.6194 - val_loss: 150652.0000 - val_mae: 350.7057\n",
            "Epoch 10/10\n",
            "\u001b[1m5/5\u001b[0m \u001b[32m━━━━━━━━━━━━━━━━━━━━\u001b[0m\u001b[37m\u001b[0m \u001b[1m158s\u001b[0m 31s/step - loss: 296650.0000 - mae: 420.4475 - val_loss: 105664.7656 - val_mae: 307.1917\n"
          ]
        }
      ],
      "source": [
        "import tensorflow as tf\n",
        "from tensorflow.keras.models import load_model, Model\n",
        "from tensorflow.keras.layers import (\n",
        "    Input,\n",
        "    TimeDistributed,\n",
        "    Conv2D,\n",
        "    MaxPooling2D,\n",
        "    Dense,\n",
        "    Flatten,\n",
        "    concatenate,\n",
        "    Dropout,\n",
        "    UpSampling2D,\n",
        ")\n",
        "import numpy as np\n",
        "from tensorflow.keras.preprocessing.image import smart_resize\n",
        "\n",
        "# Load the trained model\n",
        "trained_model_path = \"/content/drive/MyDrive/models/model2_datacleared.keras\"\n",
        "trained_model = load_model(trained_model_path)\n",
        "\n",
        "# Redefine the pretrained model input layer\n",
        "def modify_model(trained_model, new_input_shape):\n",
        "    # Extract the layers and weights from the trained model\n",
        "    trained_layers = trained_model.layers[:-1]  # Exclude the output layer\n",
        "    pretrained_output_layer = trained_model.layers[-1]  # Output layer\n",
        "\n",
        "    # Create a new input layer\n",
        "    new_input = Input(shape=new_input_shape, name=\"updated_satellite_input\")\n",
        "\n",
        "    # Rebuild the model using the pretrained layers\n",
        "    x = new_input\n",
        "    for layer in trained_layers[1:]:  # Skip the original input layer\n",
        "        x = layer(x)\n",
        "\n",
        "    # Add the original output layer\n",
        "    output = pretrained_output_layer(x)\n",
        "    return Model(inputs=new_input, outputs=output)\n",
        "\n",
        "# Modify the model to accept new input shape\n",
        "satellite_model = modify_model(trained_model, new_input_shape=(6, 33, 33, 4))\n",
        "\n",
        "# Create a new branch for ground data\n",
        "ground_input = Input(shape=(6, 4), name=\"ground_input\")\n",
        "ground_flatten = TimeDistributed(Dense(16, activation=\"relu\"))(ground_input)\n",
        "ground_flatten = Flatten()(ground_flatten)\n",
        "ground_flatten = Dense(256, activation=\"relu\")(ground_flatten)  # Adjust shape to match satellite features\n",
        "\n",
        "# Convolutional branch for satellite data\n",
        "satellite_input = Input(shape=(6, 256, 256, 4), name=\"satellite_input\")\n",
        "x = TimeDistributed(Conv2D(64, (3, 3), activation=\"relu\", padding=\"same\"))(satellite_input)\n",
        "x = TimeDistributed(MaxPooling2D((2, 2), padding=\"same\"))(x)\n",
        "x = TimeDistributed(Conv2D(64, (3, 3), activation=\"relu\", padding=\"same\"))(x)\n",
        "x = TimeDistributed(MaxPooling2D((2, 2), padding=\"same\"))(x)\n",
        "x = TimeDistributed(Conv2D(32, (3, 3), activation=\"relu\", padding=\"same\"))(x)\n",
        "x = TimeDistributed(MaxPooling2D((2, 2), padding=\"same\"))(x)\n",
        "\n",
        "# Adjust the upsampling to match the expected input shape of (6, 33, 33, 4)\n",
        "x = TimeDistributed(Conv2D(4, (1, 1), activation=\"relu\", padding=\"same\"))(x)  # Reduce channels to 4\n",
        "x = TimeDistributed(tf.keras.layers.Lambda(lambda img: smart_resize(img, (33, 33))))(x)  # Resize to (33, 33, 4)\n",
        "\n",
        "# Extract features using the satellite_model\n",
        "satellite_features = satellite_model(x)  # Shape: (None, 6, 1)\n",
        "satellite_features = TimeDistributed(Flatten())(satellite_features)  # Shape: (None, 6, 1)\n",
        "satellite_features = Flatten()(satellite_features)  # Shape: (None, 6 * 1)\n",
        "\n",
        "# Combine satellite and ground data\n",
        "combined = concatenate([satellite_features, ground_flatten])\n",
        "\n",
        "# Add fully connected layers for prediction\n",
        "dense = Dense(128, activation=\"relu\")(combined)\n",
        "dense = Dropout(0.5)(dense)\n",
        "output = Dense(1, activation=\"linear\", name=\"output\")(dense)\n",
        "\n",
        "# Create the final model\n",
        "final_model = Model(inputs=[satellite_input, ground_input], outputs=output)\n",
        "final_model.compile(optimizer=\"adam\", loss=\"mse\", metrics=[\"mae\"])\n",
        "\n",
        "# Model Summary\n",
        "final_model.summary()\n",
        "\n",
        "\n",
        "\n",
        "# Fine-tune the combined model\n",
        "history = final_model.fit(\n",
        "    [X_satellite_train, X_ground_train],\n",
        "    Y_train,\n",
        "    validation_data=([X_satellite_test, X_ground_test], Y_test),\n",
        "    batch_size=8,\n",
        "    epochs=20\n",
        ")\n"
      ]
    },
    {
      "cell_type": "code",
      "source": [
        "import tensorflow as tf\n",
        "from tensorflow.keras.models import Model\n",
        "from tensorflow.keras.layers import (\n",
        "    Input,\n",
        "    TimeDistributed,\n",
        "    Conv2D,\n",
        "    MaxPooling2D,\n",
        "    Dense,\n",
        "    Flatten,\n",
        "    concatenate,\n",
        "    Dropout,\n",
        "    LSTM,\n",
        "    Lambda,\n",
        "    BatchNormalization,\n",
        ")\n",
        "from tensorflow.keras.preprocessing.image import smart_resize\n",
        "\n",
        "def modify_model(trained_model, new_input_shape):\n",
        "    # Extract the layers and weights from the trained model\n",
        "    trained_layers = trained_model.layers[:-1]  # Exclude the output layer\n",
        "    pretrained_output_layer = trained_model.layers[-1]  # Output layer\n",
        "\n",
        "    # Create a new input layer\n",
        "    new_input = Input(shape=new_input_shape, name=\"updated_satellite_input\")\n",
        "\n",
        "    # Rebuild the model using the pretrained layers\n",
        "    x = new_input\n",
        "    for layer in trained_layers[1:]:  # Skip the original input layer\n",
        "        x = layer(x)\n",
        "\n",
        "    # Add the original output layer\n",
        "    output = pretrained_output_layer(x)\n",
        "    return Model(inputs=new_input, outputs=output)\n",
        "# Load and modify the pretrained model\n",
        "trained_model = tf.keras.models.load_model(trained_model_path)\n",
        "satellite_model = modify_model(trained_model, new_input_shape=(33, 33, 4))\n",
        "\n",
        "# Ground data branch\n",
        "ground_input = Input(shape=(6, 4), name=\"ground_input\")\n",
        "ground_features = TimeDistributed(Dense(64, activation=\"relu\"))(ground_input)\n",
        "ground_features = LSTM(128, return_sequences=False)(ground_features)\n",
        "ground_features = Dense(256, activation=\"relu\")(ground_features)\n",
        "\n",
        "# Satellite data branch\n",
        "satellite_input = Input(shape=(6, 256, 256, 4), name=\"satellite_input\")\n",
        "x = TimeDistributed(Conv2D(64, (3, 3), activation=\"relu\", padding=\"same\"))(satellite_input)\n",
        "x = TimeDistributed(BatchNormalization())(x)\n",
        "x = TimeDistributed(MaxPooling2D((2, 2), padding=\"same\"))(x)\n",
        "x = TimeDistributed(Conv2D(64, (3, 3), activation=\"relu\", padding=\"same\"))(x)\n",
        "x = TimeDistributed(BatchNormalization())(x)\n",
        "x = TimeDistributed(MaxPooling2D((2, 2), padding=\"same\"))(x)\n",
        "x = TimeDistributed(Conv2D(32, (3, 3), activation=\"relu\", padding=\"same\"))(x)\n",
        "x = TimeDistributed(MaxPooling2D((2, 2), padding=\"same\"))(x)\n",
        "x = TimeDistributed(Conv2D(4, (1, 1), activation=\"relu\", padding=\"same\"))(x)\n",
        "\n",
        "# Resize to match pretrained model input\n",
        "x = TimeDistributed(Lambda(lambda img: smart_resize(img, (33, 33))))(x)\n",
        "\n",
        "# Process each timestep through the satellite model\n",
        "satellite_features = TimeDistributed(satellite_model)(x)\n",
        "satellite_features = TimeDistributed(Flatten())(satellite_features)\n",
        "satellite_features = LSTM(128, return_sequences=False)(satellite_features)\n",
        "\n",
        "# Combine features and create output layers\n",
        "combined = concatenate([satellite_features, ground_features])\n",
        "dense = Dense(256, activation=\"relu\")(combined)\n",
        "dense = Dropout(0.4)(dense)\n",
        "dense = Dense(128, activation=\"relu\")(dense)\n",
        "output = Dense(1, activation=\"linear\", name=\"output\")(dense)\n",
        "\n",
        "# Create and compile model\n",
        "final_model = Model(inputs=[satellite_input, ground_input], outputs=output)\n",
        "final_model.compile(optimizer=\"adam\", loss=\"mse\", metrics=[\"mae\"])\n",
        "# Model Summary\n",
        "final_model.summary()\n",
        "\n",
        "# Fine-tune the combined model\n",
        "history = final_model.fit(\n",
        "    [X_satellite_train, X_ground_train],\n",
        "    Y_train,\n",
        "    validation_data=([X_satellite_test, X_ground_test], Y_test),\n",
        "    batch_size=8,\n",
        "    epochs=10\n",
        ")\n"
      ],
      "metadata": {
        "colab": {
          "base_uri": "https://localhost:8080/",
          "height": 460
        },
        "id": "GtT5UZZoABdV",
        "outputId": "29145bd3-9f69-49d2-d24c-c9ef2deca53a"
      },
      "execution_count": null,
      "outputs": [
        {
          "output_type": "error",
          "ename": "ValueError",
          "evalue": "Exception encountered when calling TimeDistributed.call().\n\n\u001b[1mInput 0 of layer \"functional_96\" is incompatible with the layer: expected shape=(None, 33, 33, 4), found shape=(None, 33, 4)\u001b[0m\n\nArguments received by TimeDistributed.call():\n  • args=('<KerasTensor shape=(None, 33, 33, 4), dtype=float32, sparse=False, name=updated_satellite_input>',)\n  • kwargs={'mask': 'None'}",
          "traceback": [
            "\u001b[0;31m---------------------------------------------------------------------------\u001b[0m",
            "\u001b[0;31mValueError\u001b[0m                                Traceback (most recent call last)",
            "\u001b[0;32m<ipython-input-25-777cfdb9a802>\u001b[0m in \u001b[0;36m<cell line: 36>\u001b[0;34m()\u001b[0m\n\u001b[1;32m     34\u001b[0m \u001b[0;31m# Load and modify the pretrained model\u001b[0m\u001b[0;34m\u001b[0m\u001b[0;34m\u001b[0m\u001b[0m\n\u001b[1;32m     35\u001b[0m \u001b[0mtrained_model\u001b[0m \u001b[0;34m=\u001b[0m \u001b[0mtf\u001b[0m\u001b[0;34m.\u001b[0m\u001b[0mkeras\u001b[0m\u001b[0;34m.\u001b[0m\u001b[0mmodels\u001b[0m\u001b[0;34m.\u001b[0m\u001b[0mload_model\u001b[0m\u001b[0;34m(\u001b[0m\u001b[0mtrained_model_path\u001b[0m\u001b[0;34m)\u001b[0m\u001b[0;34m\u001b[0m\u001b[0;34m\u001b[0m\u001b[0m\n\u001b[0;32m---> 36\u001b[0;31m \u001b[0msatellite_model\u001b[0m \u001b[0;34m=\u001b[0m \u001b[0mmodify_model\u001b[0m\u001b[0;34m(\u001b[0m\u001b[0mtrained_model\u001b[0m\u001b[0;34m,\u001b[0m \u001b[0mnew_input_shape\u001b[0m\u001b[0;34m=\u001b[0m\u001b[0;34m(\u001b[0m\u001b[0;36m33\u001b[0m\u001b[0;34m,\u001b[0m \u001b[0;36m33\u001b[0m\u001b[0;34m,\u001b[0m \u001b[0;36m4\u001b[0m\u001b[0;34m)\u001b[0m\u001b[0;34m)\u001b[0m\u001b[0;34m\u001b[0m\u001b[0;34m\u001b[0m\u001b[0m\n\u001b[0m\u001b[1;32m     37\u001b[0m \u001b[0;34m\u001b[0m\u001b[0m\n\u001b[1;32m     38\u001b[0m \u001b[0;31m# Ground data branch\u001b[0m\u001b[0;34m\u001b[0m\u001b[0;34m\u001b[0m\u001b[0m\n",
            "\u001b[0;32m<ipython-input-25-777cfdb9a802>\u001b[0m in \u001b[0;36mmodify_model\u001b[0;34m(trained_model, new_input_shape)\u001b[0m\n\u001b[1;32m     27\u001b[0m     \u001b[0mx\u001b[0m \u001b[0;34m=\u001b[0m \u001b[0mnew_input\u001b[0m\u001b[0;34m\u001b[0m\u001b[0;34m\u001b[0m\u001b[0m\n\u001b[1;32m     28\u001b[0m     \u001b[0;32mfor\u001b[0m \u001b[0mlayer\u001b[0m \u001b[0;32min\u001b[0m \u001b[0mtrained_layers\u001b[0m\u001b[0;34m[\u001b[0m\u001b[0;36m1\u001b[0m\u001b[0;34m:\u001b[0m\u001b[0;34m]\u001b[0m\u001b[0;34m:\u001b[0m  \u001b[0;31m# Skip the original input layer\u001b[0m\u001b[0;34m\u001b[0m\u001b[0;34m\u001b[0m\u001b[0m\n\u001b[0;32m---> 29\u001b[0;31m         \u001b[0mx\u001b[0m \u001b[0;34m=\u001b[0m \u001b[0mlayer\u001b[0m\u001b[0;34m(\u001b[0m\u001b[0mx\u001b[0m\u001b[0;34m)\u001b[0m\u001b[0;34m\u001b[0m\u001b[0;34m\u001b[0m\u001b[0m\n\u001b[0m\u001b[1;32m     30\u001b[0m \u001b[0;34m\u001b[0m\u001b[0m\n\u001b[1;32m     31\u001b[0m     \u001b[0;31m# Add the original output layer\u001b[0m\u001b[0;34m\u001b[0m\u001b[0;34m\u001b[0m\u001b[0m\n",
            "\u001b[0;32m/usr/local/lib/python3.10/dist-packages/keras/src/utils/traceback_utils.py\u001b[0m in \u001b[0;36merror_handler\u001b[0;34m(*args, **kwargs)\u001b[0m\n\u001b[1;32m    120\u001b[0m             \u001b[0;31m# To get the full stack trace, call:\u001b[0m\u001b[0;34m\u001b[0m\u001b[0;34m\u001b[0m\u001b[0m\n\u001b[1;32m    121\u001b[0m             \u001b[0;31m# `keras.config.disable_traceback_filtering()`\u001b[0m\u001b[0;34m\u001b[0m\u001b[0;34m\u001b[0m\u001b[0m\n\u001b[0;32m--> 122\u001b[0;31m             \u001b[0;32mraise\u001b[0m \u001b[0me\u001b[0m\u001b[0;34m.\u001b[0m\u001b[0mwith_traceback\u001b[0m\u001b[0;34m(\u001b[0m\u001b[0mfiltered_tb\u001b[0m\u001b[0;34m)\u001b[0m \u001b[0;32mfrom\u001b[0m \u001b[0;32mNone\u001b[0m\u001b[0;34m\u001b[0m\u001b[0;34m\u001b[0m\u001b[0m\n\u001b[0m\u001b[1;32m    123\u001b[0m         \u001b[0;32mfinally\u001b[0m\u001b[0;34m:\u001b[0m\u001b[0;34m\u001b[0m\u001b[0;34m\u001b[0m\u001b[0m\n\u001b[1;32m    124\u001b[0m             \u001b[0;32mdel\u001b[0m \u001b[0mfiltered_tb\u001b[0m\u001b[0;34m\u001b[0m\u001b[0;34m\u001b[0m\u001b[0m\n",
            "\u001b[0;32m/usr/local/lib/python3.10/dist-packages/keras/src/layers/input_spec.py\u001b[0m in \u001b[0;36massert_input_compatibility\u001b[0;34m(input_spec, inputs, layer_name)\u001b[0m\n\u001b[1;32m    243\u001b[0m                 \u001b[0;32mif\u001b[0m \u001b[0mspec_dim\u001b[0m \u001b[0;32mis\u001b[0m \u001b[0;32mnot\u001b[0m \u001b[0;32mNone\u001b[0m \u001b[0;32mand\u001b[0m \u001b[0mdim\u001b[0m \u001b[0;32mis\u001b[0m \u001b[0;32mnot\u001b[0m \u001b[0;32mNone\u001b[0m\u001b[0;34m:\u001b[0m\u001b[0;34m\u001b[0m\u001b[0;34m\u001b[0m\u001b[0m\n\u001b[1;32m    244\u001b[0m                     \u001b[0;32mif\u001b[0m \u001b[0mspec_dim\u001b[0m \u001b[0;34m!=\u001b[0m \u001b[0mdim\u001b[0m\u001b[0;34m:\u001b[0m\u001b[0;34m\u001b[0m\u001b[0;34m\u001b[0m\u001b[0m\n\u001b[0;32m--> 245\u001b[0;31m                         raise ValueError(\n\u001b[0m\u001b[1;32m    246\u001b[0m                             \u001b[0;34mf'Input {input_index} of layer \"{layer_name}\" is '\u001b[0m\u001b[0;34m\u001b[0m\u001b[0;34m\u001b[0m\u001b[0m\n\u001b[1;32m    247\u001b[0m                             \u001b[0;34m\"incompatible with the layer: \"\u001b[0m\u001b[0;34m\u001b[0m\u001b[0;34m\u001b[0m\u001b[0m\n",
            "\u001b[0;31mValueError\u001b[0m: Exception encountered when calling TimeDistributed.call().\n\n\u001b[1mInput 0 of layer \"functional_96\" is incompatible with the layer: expected shape=(None, 33, 33, 4), found shape=(None, 33, 4)\u001b[0m\n\nArguments received by TimeDistributed.call():\n  • args=('<KerasTensor shape=(None, 33, 33, 4), dtype=float32, sparse=False, name=updated_satellite_input>',)\n  • kwargs={'mask': 'None'}"
          ]
        }
      ]
    },
    {
      "cell_type": "markdown",
      "metadata": {
        "id": "3NDSStqvGSVd"
      },
      "source": [
        "# Saving & Validating"
      ]
    },
    {
      "cell_type": "code",
      "execution_count": null,
      "metadata": {
        "colab": {
          "base_uri": "https://localhost:8080/"
        },
        "id": "maZ-5JXIGUXh",
        "outputId": "d6cdd72b-6386-4a28-bbee-a171f9be1670"
      },
      "outputs": [
        {
          "output_type": "stream",
          "name": "stdout",
          "text": [
            "Model saved successfully!\n"
          ]
        }
      ],
      "source": [
        "# Save the trained model\n",
        "final_model.save('/content/drive/MyDrive/models/model5_ground_finetune.keras')\n",
        "\n",
        "print(\"Model saved successfully!\")"
      ]
    },
    {
      "cell_type": "code",
      "execution_count": null,
      "metadata": {
        "colab": {
          "base_uri": "https://localhost:8080/"
        },
        "id": "w-POV-5qGWkm",
        "outputId": "c21f27d6-0a8d-4e7e-ff95-c7a5ec757be7"
      },
      "outputs": [
        {
          "output_type": "stream",
          "name": "stdout",
          "text": [
            "\u001b[1m2/2\u001b[0m \u001b[32m━━━━━━━━━━━━━━━━━━━━\u001b[0m\u001b[37m\u001b[0m \u001b[1m6s\u001b[0m 801ms/step - loss: 335174.1250 - mae: 501.1043\n",
            "Test Loss: 342121.9375, Test MAE: 511.1561\n"
          ]
        }
      ],
      "source": [
        "# Evaluate the model on the test data\n",
        "test_loss, test_mae = final_model.evaluate(\n",
        "    [X_satellite_test, X_ground_test],\n",
        "    Y_test,\n",
        "    batch_size=8\n",
        ")\n",
        "print(f\"Test Loss: {test_loss:.4f}, Test MAE: {test_mae:.4f}\")\n"
      ]
    },
    {
      "cell_type": "code",
      "execution_count": null,
      "metadata": {
        "id": "fLeopw6LcGyr"
      },
      "outputs": [],
      "source": [
        "model = load_model('/content/drive/MyDrive/models/model4_ground_finetune.keras')"
      ]
    },
    {
      "cell_type": "code",
      "execution_count": null,
      "metadata": {
        "colab": {
          "base_uri": "https://localhost:8080/"
        },
        "id": "s45eOa3-GY9v",
        "outputId": "b0e820ba-34f1-4112-b227-111dff5e8fc1"
      },
      "outputs": [
        {
          "output_type": "stream",
          "name": "stderr",
          "text": [
            "WARNING:tensorflow:5 out of the last 5 calls to <function TensorFlowTrainer.make_predict_function.<locals>.one_step_on_data_distributed at 0x79c3eef9fd90> triggered tf.function retracing. Tracing is expensive and the excessive number of tracings could be due to (1) creating @tf.function repeatedly in a loop, (2) passing tensors with different shapes, (3) passing Python objects instead of tensors. For (1), please define your @tf.function outside of the loop. For (2), @tf.function has reduce_retracing=True option that can avoid unnecessary retracing. For (3), please refer to https://www.tensorflow.org/guide/function#controlling_retracing and https://www.tensorflow.org/api_docs/python/tf/function for  more details.\n"
          ]
        },
        {
          "output_type": "stream",
          "name": "stdout",
          "text": [
            "\r\u001b[1m1/2\u001b[0m \u001b[32m━━━━━━━━━━\u001b[0m\u001b[37m━━━━━━━━━━\u001b[0m \u001b[1m4s\u001b[0m 4s/step"
          ]
        },
        {
          "output_type": "stream",
          "name": "stderr",
          "text": [
            "WARNING:tensorflow:6 out of the last 6 calls to <function TensorFlowTrainer.make_predict_function.<locals>.one_step_on_data_distributed at 0x79c3eef9fd90> triggered tf.function retracing. Tracing is expensive and the excessive number of tracings could be due to (1) creating @tf.function repeatedly in a loop, (2) passing tensors with different shapes, (3) passing Python objects instead of tensors. For (1), please define your @tf.function outside of the loop. For (2), @tf.function has reduce_retracing=True option that can avoid unnecessary retracing. For (3), please refer to https://www.tensorflow.org/guide/function#controlling_retracing and https://www.tensorflow.org/api_docs/python/tf/function for  more details.\n"
          ]
        },
        {
          "output_type": "stream",
          "name": "stdout",
          "text": [
            "\u001b[1m2/2\u001b[0m \u001b[32m━━━━━━━━━━━━━━━━━━━━\u001b[0m\u001b[37m\u001b[0m \u001b[1m7s\u001b[0m 3s/step\n",
            "Prediction: 2278.3943, Actual: 1905.3308\n",
            "Prediction: 2297.1323, Actual: 2071.8277\n",
            "Prediction: 2273.7490, Actual: 1782.8280\n",
            "Prediction: 2308.3433, Actual: 2012.5898\n",
            "Prediction: 2272.5447, Actual: 1966.4431\n",
            "Prediction: 2263.8279, Actual: 2059.1214\n",
            "Prediction: 2274.3052, Actual: 1224.8853\n",
            "Prediction: 2258.1538, Actual: 1355.4183\n",
            "Prediction: 2275.9714, Actual: 1481.8581\n",
            "Prediction: 2312.3164, Actual: 1842.8750\n"
          ]
        }
      ],
      "source": [
        "# Make predictions on the test set\n",
        "predictions = final_model.predict([X_satellite_test, X_ground_test], batch_size=8)\n",
        "\n",
        "# Print some predictions vs. actual values\n",
        "for i in range(10):  # Print the first 5 predictions\n",
        "    print(f\"Prediction: {predictions[i][0]:.4f}, Actual: {Y_test[i]:.4f}\")\n"
      ]
    },
    {
      "cell_type": "code",
      "execution_count": null,
      "metadata": {
        "colab": {
          "base_uri": "https://localhost:8080/"
        },
        "id": "dVDCdG-YIS_i",
        "outputId": "01ad5ecd-74d2-4300-bc6e-bd688f5dde1c"
      },
      "outputs": [
        {
          "output_type": "stream",
          "name": "stdout",
          "text": [
            "Mean Absolute Percentage Error (MAPE): 32.95%\n"
          ]
        }
      ],
      "source": [
        "# Calculate MAPE\n",
        "# Y_to= Y_test/2471\n",
        "mape = np.mean(np.abs((Y_test - predictions.flatten()) / Y_test)) * 100\n",
        "print(f\"Mean Absolute Percentage Error (MAPE): {mape:.2f}%\")\n"
      ]
    },
    {
      "cell_type": "markdown",
      "metadata": {
        "id": "pS_VidChNWMn"
      },
      "source": [
        "# Full Architecture Model"
      ]
    },
    {
      "cell_type": "code",
      "execution_count": null,
      "metadata": {
        "colab": {
          "base_uri": "https://localhost:8080/",
          "height": 1000
        },
        "id": "ohXJV_92NaqW",
        "outputId": "134e70cd-b85c-4ddd-91ff-64bc853d7250"
      },
      "outputs": [
        {
          "output_type": "display_data",
          "data": {
            "text/plain": [
              "\u001b[1mModel: \"functional_153\"\u001b[0m\n"
            ],
            "text/html": [
              "<pre style=\"white-space:pre;overflow-x:auto;line-height:normal;font-family:Menlo,'DejaVu Sans Mono',consolas,'Courier New',monospace\"><span style=\"font-weight: bold\">Model: \"functional_153\"</span>\n",
              "</pre>\n"
            ]
          },
          "metadata": {}
        },
        {
          "output_type": "display_data",
          "data": {
            "text/plain": [
              "┏━━━━━━━━━━━━━━━━━━━━━━━━━━━┳━━━━━━━━━━━━━━━━━━━━━━━━┳━━━━━━━━━━━━━━━━┳━━━━━━━━━━━━━━━━━━━━━━━━┓\n",
              "┃\u001b[1m \u001b[0m\u001b[1mLayer (type)             \u001b[0m\u001b[1m \u001b[0m┃\u001b[1m \u001b[0m\u001b[1mOutput Shape          \u001b[0m\u001b[1m \u001b[0m┃\u001b[1m \u001b[0m\u001b[1m       Param #\u001b[0m\u001b[1m \u001b[0m┃\u001b[1m \u001b[0m\u001b[1mConnected to          \u001b[0m\u001b[1m \u001b[0m┃\n",
              "┡━━━━━━━━━━━━━━━━━━━━━━━━━━━╇━━━━━━━━━━━━━━━━━━━━━━━━╇━━━━━━━━━━━━━━━━╇━━━━━━━━━━━━━━━━━━━━━━━━┩\n",
              "│ satellite_input           │ (\u001b[38;5;45mNone\u001b[0m, \u001b[38;5;34m6\u001b[0m, \u001b[38;5;34m256\u001b[0m, \u001b[38;5;34m256\u001b[0m, \u001b[38;5;34m4\u001b[0m) │              \u001b[38;5;34m0\u001b[0m │ -                      │\n",
              "│ (\u001b[38;5;33mInputLayer\u001b[0m)              │                        │                │                        │\n",
              "├───────────────────────────┼────────────────────────┼────────────────┼────────────────────────┤\n",
              "│ time_distributed_127      │ (\u001b[38;5;45mNone\u001b[0m, \u001b[38;5;34m6\u001b[0m, \u001b[38;5;34m256\u001b[0m, \u001b[38;5;34m256\u001b[0m,    │          \u001b[38;5;34m2,368\u001b[0m │ satellite_input[\u001b[38;5;34m0\u001b[0m][\u001b[38;5;34m0\u001b[0m]  │\n",
              "│ (\u001b[38;5;33mTimeDistributed\u001b[0m)         │ \u001b[38;5;34m64\u001b[0m)                    │                │                        │\n",
              "├───────────────────────────┼────────────────────────┼────────────────┼────────────────────────┤\n",
              "│ time_distributed_128      │ (\u001b[38;5;45mNone\u001b[0m, \u001b[38;5;34m6\u001b[0m, \u001b[38;5;34m128\u001b[0m, \u001b[38;5;34m128\u001b[0m,    │              \u001b[38;5;34m0\u001b[0m │ time_distributed_127[\u001b[38;5;34m…\u001b[0m │\n",
              "│ (\u001b[38;5;33mTimeDistributed\u001b[0m)         │ \u001b[38;5;34m64\u001b[0m)                    │                │                        │\n",
              "├───────────────────────────┼────────────────────────┼────────────────┼────────────────────────┤\n",
              "│ time_distributed_129      │ (\u001b[38;5;45mNone\u001b[0m, \u001b[38;5;34m6\u001b[0m, \u001b[38;5;34m128\u001b[0m, \u001b[38;5;34m128\u001b[0m,    │         \u001b[38;5;34m36,928\u001b[0m │ time_distributed_128[\u001b[38;5;34m…\u001b[0m │\n",
              "│ (\u001b[38;5;33mTimeDistributed\u001b[0m)         │ \u001b[38;5;34m64\u001b[0m)                    │                │                        │\n",
              "├───────────────────────────┼────────────────────────┼────────────────┼────────────────────────┤\n",
              "│ time_distributed_130      │ (\u001b[38;5;45mNone\u001b[0m, \u001b[38;5;34m6\u001b[0m, \u001b[38;5;34m64\u001b[0m, \u001b[38;5;34m64\u001b[0m, \u001b[38;5;34m64\u001b[0m)  │              \u001b[38;5;34m0\u001b[0m │ time_distributed_129[\u001b[38;5;34m…\u001b[0m │\n",
              "│ (\u001b[38;5;33mTimeDistributed\u001b[0m)         │                        │                │                        │\n",
              "├───────────────────────────┼────────────────────────┼────────────────┼────────────────────────┤\n",
              "│ time_distributed_131      │ (\u001b[38;5;45mNone\u001b[0m, \u001b[38;5;34m6\u001b[0m, \u001b[38;5;34m64\u001b[0m, \u001b[38;5;34m64\u001b[0m, \u001b[38;5;34m32\u001b[0m)  │         \u001b[38;5;34m18,464\u001b[0m │ time_distributed_130[\u001b[38;5;34m…\u001b[0m │\n",
              "│ (\u001b[38;5;33mTimeDistributed\u001b[0m)         │                        │                │                        │\n",
              "├───────────────────────────┼────────────────────────┼────────────────┼────────────────────────┤\n",
              "│ time_distributed_132      │ (\u001b[38;5;45mNone\u001b[0m, \u001b[38;5;34m6\u001b[0m, \u001b[38;5;34m32\u001b[0m, \u001b[38;5;34m32\u001b[0m, \u001b[38;5;34m32\u001b[0m)  │              \u001b[38;5;34m0\u001b[0m │ time_distributed_131[\u001b[38;5;34m…\u001b[0m │\n",
              "│ (\u001b[38;5;33mTimeDistributed\u001b[0m)         │                        │                │                        │\n",
              "├───────────────────────────┼────────────────────────┼────────────────┼────────────────────────┤\n",
              "│ time_distributed_133      │ (\u001b[38;5;45mNone\u001b[0m, \u001b[38;5;34m6\u001b[0m, \u001b[38;5;34m32\u001b[0m, \u001b[38;5;34m32\u001b[0m, \u001b[38;5;34m4\u001b[0m)   │            \u001b[38;5;34m132\u001b[0m │ time_distributed_132[\u001b[38;5;34m…\u001b[0m │\n",
              "│ (\u001b[38;5;33mTimeDistributed\u001b[0m)         │                        │                │                        │\n",
              "├───────────────────────────┼────────────────────────┼────────────────┼────────────────────────┤\n",
              "│ ground_input (\u001b[38;5;33mInputLayer\u001b[0m) │ (\u001b[38;5;45mNone\u001b[0m, \u001b[38;5;34m6\u001b[0m, \u001b[38;5;34m4\u001b[0m)           │              \u001b[38;5;34m0\u001b[0m │ -                      │\n",
              "├───────────────────────────┼────────────────────────┼────────────────┼────────────────────────┤\n",
              "│ time_distributed_134      │ (\u001b[38;5;45mNone\u001b[0m, \u001b[38;5;34m6\u001b[0m, \u001b[38;5;34m33\u001b[0m, \u001b[38;5;34m33\u001b[0m, \u001b[38;5;34m4\u001b[0m)   │              \u001b[38;5;34m0\u001b[0m │ time_distributed_133[\u001b[38;5;34m…\u001b[0m │\n",
              "│ (\u001b[38;5;33mTimeDistributed\u001b[0m)         │                        │                │                        │\n",
              "├───────────────────────────┼────────────────────────┼────────────────┼────────────────────────┤\n",
              "│ time_distributed_126      │ (\u001b[38;5;45mNone\u001b[0m, \u001b[38;5;34m6\u001b[0m, \u001b[38;5;34m16\u001b[0m)          │             \u001b[38;5;34m80\u001b[0m │ ground_input[\u001b[38;5;34m0\u001b[0m][\u001b[38;5;34m0\u001b[0m]     │\n",
              "│ (\u001b[38;5;33mTimeDistributed\u001b[0m)         │                        │                │                        │\n",
              "├───────────────────────────┼────────────────────────┼────────────────┼────────────────────────┤\n",
              "│ functional_152            │ (\u001b[38;5;45mNone\u001b[0m, \u001b[38;5;34m6\u001b[0m, \u001b[38;5;34m1\u001b[0m)           │      \u001b[38;5;34m1,150,945\u001b[0m │ time_distributed_134[\u001b[38;5;34m…\u001b[0m │\n",
              "│ (\u001b[38;5;33mFunctional\u001b[0m)              │                        │                │                        │\n",
              "├───────────────────────────┼────────────────────────┼────────────────┼────────────────────────┤\n",
              "│ flatten_28 (\u001b[38;5;33mFlatten\u001b[0m)      │ (\u001b[38;5;45mNone\u001b[0m, \u001b[38;5;34m96\u001b[0m)             │              \u001b[38;5;34m0\u001b[0m │ time_distributed_126[\u001b[38;5;34m…\u001b[0m │\n",
              "├───────────────────────────┼────────────────────────┼────────────────┼────────────────────────┤\n",
              "│ flatten_29 (\u001b[38;5;33mFlatten\u001b[0m)      │ (\u001b[38;5;45mNone\u001b[0m, \u001b[38;5;34m6\u001b[0m)              │              \u001b[38;5;34m0\u001b[0m │ functional_152[\u001b[38;5;34m0\u001b[0m][\u001b[38;5;34m0\u001b[0m]   │\n",
              "├───────────────────────────┼────────────────────────┼────────────────┼────────────────────────┤\n",
              "│ dense_32 (\u001b[38;5;33mDense\u001b[0m)          │ (\u001b[38;5;45mNone\u001b[0m, \u001b[38;5;34m256\u001b[0m)            │         \u001b[38;5;34m24,832\u001b[0m │ flatten_28[\u001b[38;5;34m0\u001b[0m][\u001b[38;5;34m0\u001b[0m]       │\n",
              "├───────────────────────────┼────────────────────────┼────────────────┼────────────────────────┤\n",
              "│ concatenate_14            │ (\u001b[38;5;45mNone\u001b[0m, \u001b[38;5;34m262\u001b[0m)            │              \u001b[38;5;34m0\u001b[0m │ flatten_29[\u001b[38;5;34m0\u001b[0m][\u001b[38;5;34m0\u001b[0m],      │\n",
              "│ (\u001b[38;5;33mConcatenate\u001b[0m)             │                        │                │ dense_32[\u001b[38;5;34m0\u001b[0m][\u001b[38;5;34m0\u001b[0m]         │\n",
              "├───────────────────────────┼────────────────────────┼────────────────┼────────────────────────┤\n",
              "│ reshape_10 (\u001b[38;5;33mReshape\u001b[0m)      │ (\u001b[38;5;45mNone\u001b[0m, \u001b[38;5;34m2\u001b[0m, \u001b[38;5;34m131\u001b[0m)         │              \u001b[38;5;34m0\u001b[0m │ concatenate_14[\u001b[38;5;34m0\u001b[0m][\u001b[38;5;34m0\u001b[0m]   │\n",
              "├───────────────────────────┼────────────────────────┼────────────────┼────────────────────────┤\n",
              "│ lstm_9 (\u001b[38;5;33mLSTM\u001b[0m)             │ (\u001b[38;5;45mNone\u001b[0m, \u001b[38;5;34m2\u001b[0m, \u001b[38;5;34m256\u001b[0m)         │        \u001b[38;5;34m397,312\u001b[0m │ reshape_10[\u001b[38;5;34m0\u001b[0m][\u001b[38;5;34m0\u001b[0m]       │\n",
              "├───────────────────────────┼────────────────────────┼────────────────┼────────────────────────┤\n",
              "│ lstm_10 (\u001b[38;5;33mLSTM\u001b[0m)            │ (\u001b[38;5;45mNone\u001b[0m, \u001b[38;5;34m128\u001b[0m)            │        \u001b[38;5;34m197,120\u001b[0m │ lstm_9[\u001b[38;5;34m0\u001b[0m][\u001b[38;5;34m0\u001b[0m]           │\n",
              "├───────────────────────────┼────────────────────────┼────────────────┼────────────────────────┤\n",
              "│ dense_33 (\u001b[38;5;33mDense\u001b[0m)          │ (\u001b[38;5;45mNone\u001b[0m, \u001b[38;5;34m128\u001b[0m)            │         \u001b[38;5;34m16,512\u001b[0m │ lstm_10[\u001b[38;5;34m0\u001b[0m][\u001b[38;5;34m0\u001b[0m]          │\n",
              "├───────────────────────────┼────────────────────────┼────────────────┼────────────────────────┤\n",
              "│ dropout_3 (\u001b[38;5;33mDropout\u001b[0m)       │ (\u001b[38;5;45mNone\u001b[0m, \u001b[38;5;34m128\u001b[0m)            │              \u001b[38;5;34m0\u001b[0m │ dense_33[\u001b[38;5;34m0\u001b[0m][\u001b[38;5;34m0\u001b[0m]         │\n",
              "├───────────────────────────┼────────────────────────┼────────────────┼────────────────────────┤\n",
              "│ output (\u001b[38;5;33mDense\u001b[0m)            │ (\u001b[38;5;45mNone\u001b[0m, \u001b[38;5;34m1\u001b[0m)              │            \u001b[38;5;34m129\u001b[0m │ dropout_3[\u001b[38;5;34m0\u001b[0m][\u001b[38;5;34m0\u001b[0m]        │\n",
              "└───────────────────────────┴────────────────────────┴────────────────┴────────────────────────┘\n"
            ],
            "text/html": [
              "<pre style=\"white-space:pre;overflow-x:auto;line-height:normal;font-family:Menlo,'DejaVu Sans Mono',consolas,'Courier New',monospace\">┏━━━━━━━━━━━━━━━━━━━━━━━━━━━┳━━━━━━━━━━━━━━━━━━━━━━━━┳━━━━━━━━━━━━━━━━┳━━━━━━━━━━━━━━━━━━━━━━━━┓\n",
              "┃<span style=\"font-weight: bold\"> Layer (type)              </span>┃<span style=\"font-weight: bold\"> Output Shape           </span>┃<span style=\"font-weight: bold\">        Param # </span>┃<span style=\"font-weight: bold\"> Connected to           </span>┃\n",
              "┡━━━━━━━━━━━━━━━━━━━━━━━━━━━╇━━━━━━━━━━━━━━━━━━━━━━━━╇━━━━━━━━━━━━━━━━╇━━━━━━━━━━━━━━━━━━━━━━━━┩\n",
              "│ satellite_input           │ (<span style=\"color: #00d7ff; text-decoration-color: #00d7ff\">None</span>, <span style=\"color: #00af00; text-decoration-color: #00af00\">6</span>, <span style=\"color: #00af00; text-decoration-color: #00af00\">256</span>, <span style=\"color: #00af00; text-decoration-color: #00af00\">256</span>, <span style=\"color: #00af00; text-decoration-color: #00af00\">4</span>) │              <span style=\"color: #00af00; text-decoration-color: #00af00\">0</span> │ -                      │\n",
              "│ (<span style=\"color: #0087ff; text-decoration-color: #0087ff\">InputLayer</span>)              │                        │                │                        │\n",
              "├───────────────────────────┼────────────────────────┼────────────────┼────────────────────────┤\n",
              "│ time_distributed_127      │ (<span style=\"color: #00d7ff; text-decoration-color: #00d7ff\">None</span>, <span style=\"color: #00af00; text-decoration-color: #00af00\">6</span>, <span style=\"color: #00af00; text-decoration-color: #00af00\">256</span>, <span style=\"color: #00af00; text-decoration-color: #00af00\">256</span>,    │          <span style=\"color: #00af00; text-decoration-color: #00af00\">2,368</span> │ satellite_input[<span style=\"color: #00af00; text-decoration-color: #00af00\">0</span>][<span style=\"color: #00af00; text-decoration-color: #00af00\">0</span>]  │\n",
              "│ (<span style=\"color: #0087ff; text-decoration-color: #0087ff\">TimeDistributed</span>)         │ <span style=\"color: #00af00; text-decoration-color: #00af00\">64</span>)                    │                │                        │\n",
              "├───────────────────────────┼────────────────────────┼────────────────┼────────────────────────┤\n",
              "│ time_distributed_128      │ (<span style=\"color: #00d7ff; text-decoration-color: #00d7ff\">None</span>, <span style=\"color: #00af00; text-decoration-color: #00af00\">6</span>, <span style=\"color: #00af00; text-decoration-color: #00af00\">128</span>, <span style=\"color: #00af00; text-decoration-color: #00af00\">128</span>,    │              <span style=\"color: #00af00; text-decoration-color: #00af00\">0</span> │ time_distributed_127[<span style=\"color: #00af00; text-decoration-color: #00af00\">…</span> │\n",
              "│ (<span style=\"color: #0087ff; text-decoration-color: #0087ff\">TimeDistributed</span>)         │ <span style=\"color: #00af00; text-decoration-color: #00af00\">64</span>)                    │                │                        │\n",
              "├───────────────────────────┼────────────────────────┼────────────────┼────────────────────────┤\n",
              "│ time_distributed_129      │ (<span style=\"color: #00d7ff; text-decoration-color: #00d7ff\">None</span>, <span style=\"color: #00af00; text-decoration-color: #00af00\">6</span>, <span style=\"color: #00af00; text-decoration-color: #00af00\">128</span>, <span style=\"color: #00af00; text-decoration-color: #00af00\">128</span>,    │         <span style=\"color: #00af00; text-decoration-color: #00af00\">36,928</span> │ time_distributed_128[<span style=\"color: #00af00; text-decoration-color: #00af00\">…</span> │\n",
              "│ (<span style=\"color: #0087ff; text-decoration-color: #0087ff\">TimeDistributed</span>)         │ <span style=\"color: #00af00; text-decoration-color: #00af00\">64</span>)                    │                │                        │\n",
              "├───────────────────────────┼────────────────────────┼────────────────┼────────────────────────┤\n",
              "│ time_distributed_130      │ (<span style=\"color: #00d7ff; text-decoration-color: #00d7ff\">None</span>, <span style=\"color: #00af00; text-decoration-color: #00af00\">6</span>, <span style=\"color: #00af00; text-decoration-color: #00af00\">64</span>, <span style=\"color: #00af00; text-decoration-color: #00af00\">64</span>, <span style=\"color: #00af00; text-decoration-color: #00af00\">64</span>)  │              <span style=\"color: #00af00; text-decoration-color: #00af00\">0</span> │ time_distributed_129[<span style=\"color: #00af00; text-decoration-color: #00af00\">…</span> │\n",
              "│ (<span style=\"color: #0087ff; text-decoration-color: #0087ff\">TimeDistributed</span>)         │                        │                │                        │\n",
              "├───────────────────────────┼────────────────────────┼────────────────┼────────────────────────┤\n",
              "│ time_distributed_131      │ (<span style=\"color: #00d7ff; text-decoration-color: #00d7ff\">None</span>, <span style=\"color: #00af00; text-decoration-color: #00af00\">6</span>, <span style=\"color: #00af00; text-decoration-color: #00af00\">64</span>, <span style=\"color: #00af00; text-decoration-color: #00af00\">64</span>, <span style=\"color: #00af00; text-decoration-color: #00af00\">32</span>)  │         <span style=\"color: #00af00; text-decoration-color: #00af00\">18,464</span> │ time_distributed_130[<span style=\"color: #00af00; text-decoration-color: #00af00\">…</span> │\n",
              "│ (<span style=\"color: #0087ff; text-decoration-color: #0087ff\">TimeDistributed</span>)         │                        │                │                        │\n",
              "├───────────────────────────┼────────────────────────┼────────────────┼────────────────────────┤\n",
              "│ time_distributed_132      │ (<span style=\"color: #00d7ff; text-decoration-color: #00d7ff\">None</span>, <span style=\"color: #00af00; text-decoration-color: #00af00\">6</span>, <span style=\"color: #00af00; text-decoration-color: #00af00\">32</span>, <span style=\"color: #00af00; text-decoration-color: #00af00\">32</span>, <span style=\"color: #00af00; text-decoration-color: #00af00\">32</span>)  │              <span style=\"color: #00af00; text-decoration-color: #00af00\">0</span> │ time_distributed_131[<span style=\"color: #00af00; text-decoration-color: #00af00\">…</span> │\n",
              "│ (<span style=\"color: #0087ff; text-decoration-color: #0087ff\">TimeDistributed</span>)         │                        │                │                        │\n",
              "├───────────────────────────┼────────────────────────┼────────────────┼────────────────────────┤\n",
              "│ time_distributed_133      │ (<span style=\"color: #00d7ff; text-decoration-color: #00d7ff\">None</span>, <span style=\"color: #00af00; text-decoration-color: #00af00\">6</span>, <span style=\"color: #00af00; text-decoration-color: #00af00\">32</span>, <span style=\"color: #00af00; text-decoration-color: #00af00\">32</span>, <span style=\"color: #00af00; text-decoration-color: #00af00\">4</span>)   │            <span style=\"color: #00af00; text-decoration-color: #00af00\">132</span> │ time_distributed_132[<span style=\"color: #00af00; text-decoration-color: #00af00\">…</span> │\n",
              "│ (<span style=\"color: #0087ff; text-decoration-color: #0087ff\">TimeDistributed</span>)         │                        │                │                        │\n",
              "├───────────────────────────┼────────────────────────┼────────────────┼────────────────────────┤\n",
              "│ ground_input (<span style=\"color: #0087ff; text-decoration-color: #0087ff\">InputLayer</span>) │ (<span style=\"color: #00d7ff; text-decoration-color: #00d7ff\">None</span>, <span style=\"color: #00af00; text-decoration-color: #00af00\">6</span>, <span style=\"color: #00af00; text-decoration-color: #00af00\">4</span>)           │              <span style=\"color: #00af00; text-decoration-color: #00af00\">0</span> │ -                      │\n",
              "├───────────────────────────┼────────────────────────┼────────────────┼────────────────────────┤\n",
              "│ time_distributed_134      │ (<span style=\"color: #00d7ff; text-decoration-color: #00d7ff\">None</span>, <span style=\"color: #00af00; text-decoration-color: #00af00\">6</span>, <span style=\"color: #00af00; text-decoration-color: #00af00\">33</span>, <span style=\"color: #00af00; text-decoration-color: #00af00\">33</span>, <span style=\"color: #00af00; text-decoration-color: #00af00\">4</span>)   │              <span style=\"color: #00af00; text-decoration-color: #00af00\">0</span> │ time_distributed_133[<span style=\"color: #00af00; text-decoration-color: #00af00\">…</span> │\n",
              "│ (<span style=\"color: #0087ff; text-decoration-color: #0087ff\">TimeDistributed</span>)         │                        │                │                        │\n",
              "├───────────────────────────┼────────────────────────┼────────────────┼────────────────────────┤\n",
              "│ time_distributed_126      │ (<span style=\"color: #00d7ff; text-decoration-color: #00d7ff\">None</span>, <span style=\"color: #00af00; text-decoration-color: #00af00\">6</span>, <span style=\"color: #00af00; text-decoration-color: #00af00\">16</span>)          │             <span style=\"color: #00af00; text-decoration-color: #00af00\">80</span> │ ground_input[<span style=\"color: #00af00; text-decoration-color: #00af00\">0</span>][<span style=\"color: #00af00; text-decoration-color: #00af00\">0</span>]     │\n",
              "│ (<span style=\"color: #0087ff; text-decoration-color: #0087ff\">TimeDistributed</span>)         │                        │                │                        │\n",
              "├───────────────────────────┼────────────────────────┼────────────────┼────────────────────────┤\n",
              "│ functional_152            │ (<span style=\"color: #00d7ff; text-decoration-color: #00d7ff\">None</span>, <span style=\"color: #00af00; text-decoration-color: #00af00\">6</span>, <span style=\"color: #00af00; text-decoration-color: #00af00\">1</span>)           │      <span style=\"color: #00af00; text-decoration-color: #00af00\">1,150,945</span> │ time_distributed_134[<span style=\"color: #00af00; text-decoration-color: #00af00\">…</span> │\n",
              "│ (<span style=\"color: #0087ff; text-decoration-color: #0087ff\">Functional</span>)              │                        │                │                        │\n",
              "├───────────────────────────┼────────────────────────┼────────────────┼────────────────────────┤\n",
              "│ flatten_28 (<span style=\"color: #0087ff; text-decoration-color: #0087ff\">Flatten</span>)      │ (<span style=\"color: #00d7ff; text-decoration-color: #00d7ff\">None</span>, <span style=\"color: #00af00; text-decoration-color: #00af00\">96</span>)             │              <span style=\"color: #00af00; text-decoration-color: #00af00\">0</span> │ time_distributed_126[<span style=\"color: #00af00; text-decoration-color: #00af00\">…</span> │\n",
              "├───────────────────────────┼────────────────────────┼────────────────┼────────────────────────┤\n",
              "│ flatten_29 (<span style=\"color: #0087ff; text-decoration-color: #0087ff\">Flatten</span>)      │ (<span style=\"color: #00d7ff; text-decoration-color: #00d7ff\">None</span>, <span style=\"color: #00af00; text-decoration-color: #00af00\">6</span>)              │              <span style=\"color: #00af00; text-decoration-color: #00af00\">0</span> │ functional_152[<span style=\"color: #00af00; text-decoration-color: #00af00\">0</span>][<span style=\"color: #00af00; text-decoration-color: #00af00\">0</span>]   │\n",
              "├───────────────────────────┼────────────────────────┼────────────────┼────────────────────────┤\n",
              "│ dense_32 (<span style=\"color: #0087ff; text-decoration-color: #0087ff\">Dense</span>)          │ (<span style=\"color: #00d7ff; text-decoration-color: #00d7ff\">None</span>, <span style=\"color: #00af00; text-decoration-color: #00af00\">256</span>)            │         <span style=\"color: #00af00; text-decoration-color: #00af00\">24,832</span> │ flatten_28[<span style=\"color: #00af00; text-decoration-color: #00af00\">0</span>][<span style=\"color: #00af00; text-decoration-color: #00af00\">0</span>]       │\n",
              "├───────────────────────────┼────────────────────────┼────────────────┼────────────────────────┤\n",
              "│ concatenate_14            │ (<span style=\"color: #00d7ff; text-decoration-color: #00d7ff\">None</span>, <span style=\"color: #00af00; text-decoration-color: #00af00\">262</span>)            │              <span style=\"color: #00af00; text-decoration-color: #00af00\">0</span> │ flatten_29[<span style=\"color: #00af00; text-decoration-color: #00af00\">0</span>][<span style=\"color: #00af00; text-decoration-color: #00af00\">0</span>],      │\n",
              "│ (<span style=\"color: #0087ff; text-decoration-color: #0087ff\">Concatenate</span>)             │                        │                │ dense_32[<span style=\"color: #00af00; text-decoration-color: #00af00\">0</span>][<span style=\"color: #00af00; text-decoration-color: #00af00\">0</span>]         │\n",
              "├───────────────────────────┼────────────────────────┼────────────────┼────────────────────────┤\n",
              "│ reshape_10 (<span style=\"color: #0087ff; text-decoration-color: #0087ff\">Reshape</span>)      │ (<span style=\"color: #00d7ff; text-decoration-color: #00d7ff\">None</span>, <span style=\"color: #00af00; text-decoration-color: #00af00\">2</span>, <span style=\"color: #00af00; text-decoration-color: #00af00\">131</span>)         │              <span style=\"color: #00af00; text-decoration-color: #00af00\">0</span> │ concatenate_14[<span style=\"color: #00af00; text-decoration-color: #00af00\">0</span>][<span style=\"color: #00af00; text-decoration-color: #00af00\">0</span>]   │\n",
              "├───────────────────────────┼────────────────────────┼────────────────┼────────────────────────┤\n",
              "│ lstm_9 (<span style=\"color: #0087ff; text-decoration-color: #0087ff\">LSTM</span>)             │ (<span style=\"color: #00d7ff; text-decoration-color: #00d7ff\">None</span>, <span style=\"color: #00af00; text-decoration-color: #00af00\">2</span>, <span style=\"color: #00af00; text-decoration-color: #00af00\">256</span>)         │        <span style=\"color: #00af00; text-decoration-color: #00af00\">397,312</span> │ reshape_10[<span style=\"color: #00af00; text-decoration-color: #00af00\">0</span>][<span style=\"color: #00af00; text-decoration-color: #00af00\">0</span>]       │\n",
              "├───────────────────────────┼────────────────────────┼────────────────┼────────────────────────┤\n",
              "│ lstm_10 (<span style=\"color: #0087ff; text-decoration-color: #0087ff\">LSTM</span>)            │ (<span style=\"color: #00d7ff; text-decoration-color: #00d7ff\">None</span>, <span style=\"color: #00af00; text-decoration-color: #00af00\">128</span>)            │        <span style=\"color: #00af00; text-decoration-color: #00af00\">197,120</span> │ lstm_9[<span style=\"color: #00af00; text-decoration-color: #00af00\">0</span>][<span style=\"color: #00af00; text-decoration-color: #00af00\">0</span>]           │\n",
              "├───────────────────────────┼────────────────────────┼────────────────┼────────────────────────┤\n",
              "│ dense_33 (<span style=\"color: #0087ff; text-decoration-color: #0087ff\">Dense</span>)          │ (<span style=\"color: #00d7ff; text-decoration-color: #00d7ff\">None</span>, <span style=\"color: #00af00; text-decoration-color: #00af00\">128</span>)            │         <span style=\"color: #00af00; text-decoration-color: #00af00\">16,512</span> │ lstm_10[<span style=\"color: #00af00; text-decoration-color: #00af00\">0</span>][<span style=\"color: #00af00; text-decoration-color: #00af00\">0</span>]          │\n",
              "├───────────────────────────┼────────────────────────┼────────────────┼────────────────────────┤\n",
              "│ dropout_3 (<span style=\"color: #0087ff; text-decoration-color: #0087ff\">Dropout</span>)       │ (<span style=\"color: #00d7ff; text-decoration-color: #00d7ff\">None</span>, <span style=\"color: #00af00; text-decoration-color: #00af00\">128</span>)            │              <span style=\"color: #00af00; text-decoration-color: #00af00\">0</span> │ dense_33[<span style=\"color: #00af00; text-decoration-color: #00af00\">0</span>][<span style=\"color: #00af00; text-decoration-color: #00af00\">0</span>]         │\n",
              "├───────────────────────────┼────────────────────────┼────────────────┼────────────────────────┤\n",
              "│ output (<span style=\"color: #0087ff; text-decoration-color: #0087ff\">Dense</span>)            │ (<span style=\"color: #00d7ff; text-decoration-color: #00d7ff\">None</span>, <span style=\"color: #00af00; text-decoration-color: #00af00\">1</span>)              │            <span style=\"color: #00af00; text-decoration-color: #00af00\">129</span> │ dropout_3[<span style=\"color: #00af00; text-decoration-color: #00af00\">0</span>][<span style=\"color: #00af00; text-decoration-color: #00af00\">0</span>]        │\n",
              "└───────────────────────────┴────────────────────────┴────────────────┴────────────────────────┘\n",
              "</pre>\n"
            ]
          },
          "metadata": {}
        },
        {
          "output_type": "display_data",
          "data": {
            "text/plain": [
              "\u001b[1m Total params: \u001b[0m\u001b[38;5;34m1,844,822\u001b[0m (7.04 MB)\n"
            ],
            "text/html": [
              "<pre style=\"white-space:pre;overflow-x:auto;line-height:normal;font-family:Menlo,'DejaVu Sans Mono',consolas,'Courier New',monospace\"><span style=\"font-weight: bold\"> Total params: </span><span style=\"color: #00af00; text-decoration-color: #00af00\">1,844,822</span> (7.04 MB)\n",
              "</pre>\n"
            ]
          },
          "metadata": {}
        },
        {
          "output_type": "display_data",
          "data": {
            "text/plain": [
              "\u001b[1m Trainable params: \u001b[0m\u001b[38;5;34m1,844,630\u001b[0m (7.04 MB)\n"
            ],
            "text/html": [
              "<pre style=\"white-space:pre;overflow-x:auto;line-height:normal;font-family:Menlo,'DejaVu Sans Mono',consolas,'Courier New',monospace\"><span style=\"font-weight: bold\"> Trainable params: </span><span style=\"color: #00af00; text-decoration-color: #00af00\">1,844,630</span> (7.04 MB)\n",
              "</pre>\n"
            ]
          },
          "metadata": {}
        },
        {
          "output_type": "display_data",
          "data": {
            "text/plain": [
              "\u001b[1m Non-trainable params: \u001b[0m\u001b[38;5;34m192\u001b[0m (768.00 B)\n"
            ],
            "text/html": [
              "<pre style=\"white-space:pre;overflow-x:auto;line-height:normal;font-family:Menlo,'DejaVu Sans Mono',consolas,'Courier New',monospace\"><span style=\"font-weight: bold\"> Non-trainable params: </span><span style=\"color: #00af00; text-decoration-color: #00af00\">192</span> (768.00 B)\n",
              "</pre>\n"
            ]
          },
          "metadata": {}
        },
        {
          "output_type": "stream",
          "name": "stdout",
          "text": [
            "Epoch 1/25\n",
            "\u001b[1m5/5\u001b[0m \u001b[32m━━━━━━━━━━━━━━━━━━━━\u001b[0m\u001b[37m\u001b[0m \u001b[1m137s\u001b[0m 24s/step - loss: 4074717.5000 - mae: 1986.9303 - val_loss: 2895364.7500 - val_mae: 1676.4362\n",
            "Epoch 2/25\n",
            "\u001b[1m5/5\u001b[0m \u001b[32m━━━━━━━━━━━━━━━━━━━━\u001b[0m\u001b[37m\u001b[0m \u001b[1m137s\u001b[0m 23s/step - loss: 3405902.2500 - mae: 1810.3761 - val_loss: 2210398.0000 - val_mae: 1457.9642\n",
            "Epoch 3/25\n",
            "\u001b[1m5/5\u001b[0m \u001b[32m━━━━━━━━━━━━━━━━━━━━\u001b[0m\u001b[37m\u001b[0m \u001b[1m143s\u001b[0m 24s/step - loss: 1635788.5000 - mae: 1204.4368 - val_loss: 441370.9062 - val_mae: 595.7873\n",
            "Epoch 4/25\n",
            "\u001b[1m5/5\u001b[0m \u001b[32m━━━━━━━━━━━━━━━━━━━━\u001b[0m\u001b[37m\u001b[0m \u001b[1m118s\u001b[0m 24s/step - loss: 898321.1875 - mae: 708.3566 - val_loss: 386760.0938 - val_mae: 549.9286\n",
            "Epoch 5/25\n",
            "\u001b[1m5/5\u001b[0m \u001b[32m━━━━━━━━━━━━━━━━━━━━\u001b[0m\u001b[37m\u001b[0m \u001b[1m140s\u001b[0m 24s/step - loss: 341039.6562 - mae: 498.2892 - val_loss: 803191.8750 - val_mae: 850.1622\n",
            "Epoch 6/25\n",
            "\u001b[1m5/5\u001b[0m \u001b[32m━━━━━━━━━━━━━━━━━━━━\u001b[0m\u001b[37m\u001b[0m \u001b[1m116s\u001b[0m 23s/step - loss: 456672.5000 - mae: 602.1144 - val_loss: 409789.3438 - val_mae: 570.5543\n",
            "Epoch 7/25\n",
            "\u001b[1m5/5\u001b[0m \u001b[32m━━━━━━━━━━━━━━━━━━━━\u001b[0m\u001b[37m\u001b[0m \u001b[1m144s\u001b[0m 24s/step - loss: 320484.0000 - mae: 448.6880 - val_loss: 84845.0234 - val_mae: 253.4106\n",
            "Epoch 8/25\n",
            "\u001b[1m5/5\u001b[0m \u001b[32m━━━━━━━━━━━━━━━━━━━━\u001b[0m\u001b[37m\u001b[0m \u001b[1m139s\u001b[0m 24s/step - loss: 451829.5000 - mae: 550.4801 - val_loss: 89403.2812 - val_mae: 277.2452\n",
            "Epoch 9/25\n",
            "\u001b[1m5/5\u001b[0m \u001b[32m━━━━━━━━━━━━━━━━━━━━\u001b[0m\u001b[37m\u001b[0m \u001b[1m144s\u001b[0m 24s/step - loss: 374724.0312 - mae: 464.7839 - val_loss: 144489.6094 - val_mae: 347.2728\n",
            "Epoch 10/25\n",
            "\u001b[1m5/5\u001b[0m \u001b[32m━━━━━━━━━━━━━━━━━━━━\u001b[0m\u001b[37m\u001b[0m \u001b[1m142s\u001b[0m 24s/step - loss: 278314.5938 - mae: 413.6740 - val_loss: 154831.5312 - val_mae: 355.4786\n",
            "Epoch 11/25\n",
            "\u001b[1m5/5\u001b[0m \u001b[32m━━━━━━━━━━━━━━━━━━━━\u001b[0m\u001b[37m\u001b[0m \u001b[1m140s\u001b[0m 23s/step - loss: 443489.9062 - mae: 555.0082 - val_loss: 89456.0234 - val_mae: 277.6255\n",
            "Epoch 12/25\n",
            "\u001b[1m5/5\u001b[0m \u001b[32m━━━━━━━━━━━━━━━━━━━━\u001b[0m\u001b[37m\u001b[0m \u001b[1m142s\u001b[0m 24s/step - loss: 240617.7969 - mae: 427.6542 - val_loss: 105787.8125 - val_mae: 234.4236\n",
            "Epoch 13/25\n",
            "\u001b[1m5/5\u001b[0m \u001b[32m━━━━━━━━━━━━━━━━━━━━\u001b[0m\u001b[37m\u001b[0m \u001b[1m143s\u001b[0m 23s/step - loss: 255163.2656 - mae: 370.3161 - val_loss: 85231.9766 - val_mae: 241.4063\n",
            "Epoch 14/25\n",
            "\u001b[1m5/5\u001b[0m \u001b[32m━━━━━━━━━━━━━━━━━━━━\u001b[0m\u001b[37m\u001b[0m \u001b[1m141s\u001b[0m 24s/step - loss: 268685.7812 - mae: 404.0474 - val_loss: 124256.3516 - val_mae: 329.1442\n",
            "Epoch 15/25\n",
            "\u001b[1m5/5\u001b[0m \u001b[32m━━━━━━━━━━━━━━━━━━━━\u001b[0m\u001b[37m\u001b[0m \u001b[1m143s\u001b[0m 24s/step - loss: 257126.0938 - mae: 421.5706 - val_loss: 86354.3750 - val_mae: 266.5142\n",
            "Epoch 16/25\n",
            "\u001b[1m5/5\u001b[0m \u001b[32m━━━━━━━━━━━━━━━━━━━━\u001b[0m\u001b[37m\u001b[0m \u001b[1m142s\u001b[0m 24s/step - loss: 291510.8750 - mae: 428.1460 - val_loss: 94181.4844 - val_mae: 232.5245\n",
            "Epoch 17/25\n",
            "\u001b[1m5/5\u001b[0m \u001b[32m━━━━━━━━━━━━━━━━━━━━\u001b[0m\u001b[37m\u001b[0m \u001b[1m141s\u001b[0m 24s/step - loss: 215988.8125 - mae: 362.4455 - val_loss: 88947.1641 - val_mae: 233.3657\n",
            "Epoch 18/25\n",
            "\u001b[1m5/5\u001b[0m \u001b[32m━━━━━━━━━━━━━━━━━━━━\u001b[0m\u001b[37m\u001b[0m \u001b[1m149s\u001b[0m 25s/step - loss: 207780.2188 - mae: 378.6719 - val_loss: 117045.6250 - val_mae: 241.3266\n",
            "Epoch 19/25\n",
            "\u001b[1m5/5\u001b[0m \u001b[32m━━━━━━━━━━━━━━━━━━━━\u001b[0m\u001b[37m\u001b[0m \u001b[1m119s\u001b[0m 24s/step - loss: 258406.8906 - mae: 405.3332 - val_loss: 110899.5859 - val_mae: 237.7149\n",
            "Epoch 20/25\n",
            "\u001b[1m5/5\u001b[0m \u001b[32m━━━━━━━━━━━━━━━━━━━━\u001b[0m\u001b[37m\u001b[0m \u001b[1m119s\u001b[0m 24s/step - loss: 276116.2500 - mae: 416.8947 - val_loss: 87418.5703 - val_mae: 235.9240\n",
            "Epoch 21/25\n",
            "\u001b[1m5/5\u001b[0m \u001b[32m━━━━━━━━━━━━━━━━━━━━\u001b[0m\u001b[37m\u001b[0m \u001b[1m117s\u001b[0m 24s/step - loss: 332580.5312 - mae: 467.3566 - val_loss: 181218.6250 - val_mae: 310.9276\n",
            "Epoch 22/25\n",
            "\u001b[1m5/5\u001b[0m \u001b[32m━━━━━━━━━━━━━━━━━━━━\u001b[0m\u001b[37m\u001b[0m \u001b[1m142s\u001b[0m 24s/step - loss: 247615.5938 - mae: 422.4488 - val_loss: 133102.2500 - val_mae: 253.9596\n",
            "Epoch 23/25\n",
            "\u001b[1m5/5\u001b[0m \u001b[32m━━━━━━━━━━━━━━━━━━━━\u001b[0m\u001b[37m\u001b[0m \u001b[1m144s\u001b[0m 24s/step - loss: 180591.4375 - mae: 338.4955 - val_loss: 86858.4219 - val_mae: 237.0853\n",
            "Epoch 24/25\n",
            "\u001b[1m5/5\u001b[0m \u001b[32m━━━━━━━━━━━━━━━━━━━━\u001b[0m\u001b[37m\u001b[0m \u001b[1m139s\u001b[0m 24s/step - loss: 208610.2500 - mae: 382.8706 - val_loss: 87960.3594 - val_mae: 235.0017\n",
            "Epoch 25/25\n",
            "\u001b[1m5/5\u001b[0m \u001b[32m━━━━━━━━━━━━━━━━━━━━\u001b[0m\u001b[37m\u001b[0m \u001b[1m144s\u001b[0m 24s/step - loss: 301458.5938 - mae: 477.8443 - val_loss: 94127.1406 - val_mae: 232.4687\n"
          ]
        }
      ],
      "source": [
        "import tensorflow as tf\n",
        "from tensorflow.keras.models import load_model, Model\n",
        "from tensorflow.keras.layers import (\n",
        "    Input,\n",
        "    TimeDistributed,\n",
        "    Conv2D,\n",
        "    MaxPooling2D,\n",
        "    Dense,\n",
        "    Flatten,\n",
        "    concatenate,\n",
        "    Dropout,\n",
        "    UpSampling2D,\n",
        "    Reshape,\n",
        "    LSTM,\n",
        ")\n",
        "import numpy as np\n",
        "from tensorflow.keras.preprocessing.image import smart_resize\n",
        "from tensorflow.keras.optimizers import Adam\n",
        "\n",
        "# Load the trained model\n",
        "trained_model_path = \"/content/drive/MyDrive/models/model2_datacleared.keras\"\n",
        "trained_model = load_model(trained_model_path)\n",
        "\n",
        "# Redefine the pretrained model input layer\n",
        "def modify_model(trained_model, new_input_shape):\n",
        "    # Extract the layers and weights from the trained model\n",
        "    trained_layers = trained_model.layers[:-1]  # Exclude the output layer\n",
        "    pretrained_output_layer = trained_model.layers[-1]  # Output layer\n",
        "\n",
        "    # Create a new input layer\n",
        "    new_input = Input(shape=new_input_shape, name=\"updated_satellite_input\")\n",
        "\n",
        "    # Rebuild the model using the pretrained layers\n",
        "    x = new_input\n",
        "    for layer in trained_layers[1:]:  # Skip the original input layer\n",
        "        x = layer(x)\n",
        "\n",
        "    # Add the original output layer\n",
        "    output = pretrained_output_layer(x)\n",
        "    return Model(inputs=new_input, outputs=output)\n",
        "\n",
        "# Modify the model to accept new input shape\n",
        "satellite_model = modify_model(trained_model, new_input_shape=(6, 33, 33, 4))\n",
        "\n",
        "# Create a new branch for ground data\n",
        "ground_input = Input(shape=(6, 4), name=\"ground_input\")\n",
        "ground_flatten = TimeDistributed(Dense(16, activation=\"relu\"))(ground_input)\n",
        "ground_flatten = Flatten()(ground_flatten)\n",
        "# Adjust the shape of ground_flatten to match satellite_features\n",
        "ground_flatten = Dense(256, activation=\"relu\")(ground_flatten) # Assuming satellite_features has shape (None, 256) after Flatten\n",
        "\n",
        "# Combine satellite and ground data\n",
        "satellite_input = Input(shape=(6, 256, 256, 4), name=\"satellite_input\")\n",
        "\n",
        "# Convolutional branch for satellite data\n",
        "x = TimeDistributed(Conv2D(64, (3, 3), activation=\"relu\", padding=\"same\"))(satellite_input)\n",
        "x = TimeDistributed(MaxPooling2D((2, 2), padding=\"same\"))(x)\n",
        "x = TimeDistributed(Conv2D(64, (3, 3), activation=\"relu\", padding=\"same\"))(x)\n",
        "x = TimeDistributed(MaxPooling2D((2, 2), padding=\"same\"))(x)\n",
        "x = TimeDistributed(Conv2D(32, (3, 3), activation=\"relu\", padding=\"same\"))(x)\n",
        "x = TimeDistributed(MaxPooling2D((2, 2), padding=\"same\"))(x)\n",
        "\n",
        "# Adjust the upsampling to match the expected input shape of (6, 33, 33, 4)\n",
        "x = TimeDistributed(Conv2D(4, (1, 1), activation=\"relu\", padding=\"same\"))(x)  # Reduce channels to 4\n",
        "x = TimeDistributed(tf.keras.layers.Lambda(lambda img: smart_resize(img, (33, 33))))(x)  # Resize to (33, 33, 4)\n",
        "\n",
        "\n",
        "# Output shape is now (None, 6, 33, 33, 4)\n",
        "satellite_features = satellite_model(x)\n",
        "# Flatten the satellite features to match ground_flatten\n",
        "satellite_features = Flatten()(satellite_features)\n",
        "\n",
        "# Combine both branches\n",
        "combined = concatenate([satellite_features, ground_flatten])\n",
        "\n",
        "\n",
        "# Reshape the combined features for LSTM processing\n",
        "combined_reshaped = Reshape((2, 131))(combined)  # Reshape to (6, feature_dim)\n",
        "\n",
        "# Add LSTM layers\n",
        "lstm_out = LSTM(256, return_sequences=True, activation=\"relu\")(combined_reshaped)\n",
        "lstm_out = LSTM(128, return_sequences=False, activation=\"relu\")(lstm_out)  # Final LSTM outputs a single sequence\n",
        "\n",
        "# Add fully connected layers for prediction\n",
        "dense = Dense(128, activation=\"relu\")(lstm_out)\n",
        "dense = Dropout(0.5)(dense)\n",
        "output = Dense(1, activation=\"linear\", name=\"output\")(dense)\n",
        "\n",
        "# Create the final model\n",
        "final_model = Model(inputs=[satellite_input, ground_input], outputs=output)\n",
        "\n",
        "optimizer = Adam(learning_rate=0.001)\n",
        "\n",
        "final_model.compile(optimizer=optimizer, loss=\"mse\", metrics=[\"mae\"])\n",
        "\n",
        "# Model Summary\n",
        "final_model.summary()\n",
        "\n",
        "# Fine-tune the combined model\n",
        "history = final_model.fit(\n",
        "    [X_satellite_train, X_ground_train],\n",
        "    Y_train,\n",
        "    validation_data=([X_satellite_test, X_ground_test], Y_test),\n",
        "    batch_size=8,\n",
        "    epochs=25,\n",
        ")"
      ]
    },
    {
      "cell_type": "code",
      "source": [
        "# Make predictions on the test set\n",
        "predictions = final_model.predict([X_satellite_test, X_ground_test], batch_size=8)\n",
        "\n",
        "# Print some predictions vs. actual values\n",
        "for i in range(10):  # Print the first 5 predictions\n",
        "    print(f\"Prediction: {predictions[i][0]:.4f}, Actual: {Y_test[i]:.4f}\")"
      ],
      "metadata": {
        "colab": {
          "base_uri": "https://localhost:8080/"
        },
        "id": "UjeqipCHO05w",
        "outputId": "c2836e51-34e9-4535-b73c-d15f13980f15"
      },
      "execution_count": null,
      "outputs": [
        {
          "output_type": "stream",
          "name": "stdout",
          "text": [
            "\u001b[1m2/2\u001b[0m \u001b[32m━━━━━━━━━━━━━━━━━━━━\u001b[0m\u001b[37m\u001b[0m \u001b[1m6s\u001b[0m 2s/step\n",
            "Prediction: 1866.3010, Actual: 1905.3308\n",
            "Prediction: 1869.3412, Actual: 2071.8277\n",
            "Prediction: 1866.4971, Actual: 1782.8280\n",
            "Prediction: 1871.5635, Actual: 2012.5898\n",
            "Prediction: 1867.6073, Actual: 1966.4431\n",
            "Prediction: 1867.3632, Actual: 2059.1214\n",
            "Prediction: 1867.7778, Actual: 1224.8853\n",
            "Prediction: 1867.5778, Actual: 1355.4183\n",
            "Prediction: 1867.8370, Actual: 1481.8581\n",
            "Prediction: 1869.7255, Actual: 1842.8750\n"
          ]
        }
      ]
    },
    {
      "cell_type": "code",
      "source": [
        "# Calculate MAPE\n",
        "# Y_to= Y_test/2471\n",
        "mape = np.mean(np.abs((Y_test - predictions.flatten()) / Y_test)) * 100\n",
        "print(f\"Mean Absolute Percentage Error (MAPE): {mape:.2f}%\")"
      ],
      "metadata": {
        "colab": {
          "base_uri": "https://localhost:8080/"
        },
        "id": "a27YHfgKO2d3",
        "outputId": "17fd07e2-f21f-4309-a6c2-d9ba7ad21229"
      },
      "execution_count": null,
      "outputs": [
        {
          "output_type": "stream",
          "name": "stdout",
          "text": [
            "Mean Absolute Percentage Error (MAPE): 15.56%\n"
          ]
        }
      ]
    },
    {
      "cell_type": "code",
      "source": [
        "final_model.save('/content/drive/MyDrive/models/bestmodel_15mape.keras')"
      ],
      "metadata": {
        "id": "6U1DJmZnsIdn"
      },
      "execution_count": null,
      "outputs": []
    }
  ],
  "metadata": {
    "colab": {
      "provenance": []
    },
    "kernelspec": {
      "display_name": "Python 3",
      "name": "python3"
    },
    "language_info": {
      "name": "python"
    }
  },
  "nbformat": 4,
  "nbformat_minor": 0
}